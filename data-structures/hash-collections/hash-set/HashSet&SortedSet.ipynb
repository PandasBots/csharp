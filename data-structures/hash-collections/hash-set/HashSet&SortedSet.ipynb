{
 "cells": [
  {
   "cell_type": "markdown",
   "metadata": {},
   "source": [
    "# # HashSet & SortedSet\n",
    "\n",
    "* Conjunto de elementos.\n",
    "    * Ao contrário de vetores/listas, não possui posição.\n",
    "    * Não admitem repetições.\n",
    "    * Acesso, inserção, remoção, são rápidos.\n",
    "    * Oferece operações de conjuntos: união, etc.."
   ]
  },
  {
   "cell_type": "markdown",
   "metadata": {},
   "source": [
    "#### BONUS: IEnumerable\n",
    "\n",
    "Função para imprimir itens de um collection\n",
    "\n",
    "```\n",
    "// Método para imprimir um SortedSet.\n",
    "static void PrintCollection < T > (IEnumerable < T > collection)    \n",
    "{\n",
    "    foreach(T obj in collection)\n",
    "    {\n",
    "        Console.Write($\"{obj} \");\n",
    "    }\n",
    "}\n",
    "```"
   ]
  },
  {
   "cell_type": "markdown",
   "metadata": {},
   "source": [
    "### HashSet\n",
    "\n",
    "* Ref.: https://learn.microsoft.com/pt-br/dotnet/api/system.collections.generic.hashset-1?view=net-6.0\n",
    "\n",
    "* Armazena os elementos numa tabela hash associada. \n",
    "* Inserção, remoção, acesso tem ordem O(1).\n",
    "* A ordem dos elementos não é garantida.\n",
    "\n"
   ]
  },
  {
   "cell_type": "code",
   "execution_count": null,
   "metadata": {
    "vscode": {
     "languageId": "javascript"
    }
   },
   "outputs": [],
   "source": [
    "// mesmo namespace da lisa\n",
    "using System.Collections.Generic;\n",
    "\n",
    "// Instanciando um HashSet vazio.\n",
    "HashSet < string > set = new HashSet < string > ();\n",
    "\n",
    "// Método Add adiciona um elemento ao HashSet.\n",
    "set.Add(\"banana\");    // adiciona banana\n",
    "set.Add(\"laranja\");   // adiciona laranja   \n",
    "set.Add(\"maçã\");      // adiciona maçã  \n",
    "\n",
    "// Imprime todos os elememtos do HashSet.\n",
    "foreach(string fruta in set)\n",
    "{\n",
    "    Console.WriteLine(fruta);   \n",
    "} // imprime: banana, laranja, maçã\n",
    "\n",
    "// Método Count retorna o número de elementos no HashSet.\n",
    "Console.WriteLine(set.Count); // 3\n",
    "\n",
    "// Método Remove remove um elemento do HashSet.\n",
    "set.Remove(\"banana\"); // remove banana\n",
    "\n",
    "// Método Contains verifica se um elemento está no HashSet.\n",
    "Console.WriteLine(set.Contains(\"banana\")); // false\n",
    "\n",
    "// Método Clear remove todos os elementos do HashSet.\n",
    "set.Clear();\n",
    "\n",
    "//*****//\n",
    "\n",
    "// Instanciando um HashSet com elementos.   \n",
    "HashSet < string > set2 = new HashSet < string > { \"banana\", \"laranja\", \"maçã\"};\n",
    "\n",
    "// Método Union retorna um novo HashSet com a união dos elementos de dois HashSets.\n",
    "HashSet < string > set3 = set.Union(set2);\n",
    "\n",
    "// Método Intersect retorna um novo HashSet com a interseção dos elementos de dois HashSets.\n",
    "HashSet < string > set4 = set.Intersect(set2);\n",
    "\n",
    "// Método Except retorna um novo HashSet com a diferença dos elementos de dois HashSets.\n",
    "HashSet < string > set5 = set.Except(set2);\n",
    "\n",
    "// Método SymmetricExcept retorna um novo HashSet com a diferença simétrica dos elementos de dois HashSets.\n",
    "HashSet < string > set6 = set.SymmetricExcept(set2);"
   ]
  },
  {
   "cell_type": "markdown",
   "metadata": {},
   "source": [
    "### SortedSet\n",
    "\n",
    "* Ref.: https://learn.microsoft.com/pt-br/dotnet/api/system.collections.generic.sortedset-1?view=net-6.0\n",
    "\n",
    "* Armazenamento em árvores. Por exemplo, árvore binária.\n",
    "* Inserção, remoção, acesso tem ordem O(ln(n)).\n",
    "* Elementos armazenados ordenadamente, conforme implementação IComparer<T>"
   ]
  },
  {
   "cell_type": "code",
   "execution_count": null,
   "metadata": {
    "vscode": {
     "languageId": "javascript"
    }
   },
   "outputs": [],
   "source": [
    "// Instanciando um SortedSet vazio.\n",
    "SortedSet < int > a = new SortedSet < int > () {0, 2, 4, 6, 8, 10};\n",
    "SortedSet < int > b = new SortedSet < int > () {1, 3, 5, 7, 9, 10};\n",
    "\n",
    "PrintCollection(a); // imprime: 0 2 4 6 8 10\n",
    "\n",
    "// UnionWith adiciona os elementos de um SortedSet ao SortedSet.    \n",
    "SortedSet<int> c = new SortedSet<int>(a);\n",
    "// União de c com b. Veja que o elemento repetido 10 aparece apenas uma vez.\n",
    "c.UnionWith(b);\n",
    "PrintCollection(c); // imprime: 0 1 2 3 4 5 6 7 8 9 10  \n",
    "\n",
    "// IntersectWith remove os elementos de um SortedSet que não estão no SortedSet.\n",
    "SortedSet<int> d = new SortedSet<int>(a);\n",
    "// Interseção de d com b. Veja que o elemento repetido 10 aparece apenas uma vez.   \n",
    "d.IntersectWith(b);\n",
    "PrintCollection(d); // imprime: 10  \n",
    "\n",
    "// DifferenceWith remove os elementos de um SortedSet que estão no SortedSet.\n",
    "SortedSet<int> e = new SortedSet<int>(a);\n",
    "// Diferença de e com b. Traz tudo de e, menos o que está em b. \n",
    "e.ExceptWith(b);    \n",
    "PrintCollection(e); // imprime: 0 2 4 6 8\n",
    "\n"
   ]
  }
 ],
 "metadata": {
  "kernelspec": {
   "display_name": "Python 3.10.4 64-bit",
   "language": "python",
   "name": "python3"
  },
  "language_info": {
   "name": "python",
   "version": "3.10.4"
  },
  "orig_nbformat": 4,
  "vscode": {
   "interpreter": {
    "hash": "aee8b7b246df8f9039afb4144a1f6fd8d2ca17a180786b69acc140d282b71a49"
   }
  }
 },
 "nbformat": 4,
 "nbformat_minor": 2
}
