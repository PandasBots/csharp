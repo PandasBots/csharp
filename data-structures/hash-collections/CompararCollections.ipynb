{
 "cells": [
  {
   "cell_type": "markdown",
   "metadata": {},
   "source": [
    "# # Comparativo entre elementos Hash\n",
    "\n",
    "* HashSet, SortedSet, Dictionary não possuem posições. Desta forma, a comparação entre elementos é feita de forma diferente.\n",
    "\n",
    "\n",
    "### Como comparar coleções?\n",
    "\n",
    "* Se GetHashCode e Equals estiverem implementados, então começa com GetHashCode, se der igual usa Equals para confirmar.\n",
    "* Se não estiverem implementadas, então:\n",
    "    * Tipo referência: compara a referência dos objetos na memória.\n",
    "    * Tipo valor: compara o valor dos atributos."
   ]
  },
  {
   "cell_type": "markdown",
   "metadata": {},
   "source": [
    "### Exemplo\n"
   ]
  },
  {
   "cell_type": "code",
   "execution_count": null,
   "metadata": {
    "dotnet_interactive": {
     "language": "csharp"
    },
    "vscode": {
     "languageId": "dotnet-interactive.csharp"
    }
   },
   "outputs": [],
   "source": [
    "// Struct - Tipo Valor\n",
    "struct Point \n",
    "    {\n",
    "        public int X { get; set; }\n",
    "        public int Y { get; set; }\n",
    "        public Point(int x, int y) : this() \n",
    "        {\n",
    "            X = x;\n",
    "            Y = y;\n",
    "        }\n",
    "    }"
   ]
  },
  {
   "cell_type": "code",
   "execution_count": null,
   "metadata": {
    "dotnet_interactive": {
     "language": "csharp"
    },
    "vscode": {
     "languageId": "dotnet-interactive.csharp"
    }
   },
   "outputs": [],
   "source": [
    "// Classe - Tipo Referência\n",
    "class Product \n",
    "    {\n",
    "        public string Name { get; set; }\n",
    "        public double Price { get; set; }\n",
    "        public Product(string name, double price) \n",
    "        {\n",
    "            Name = name;\n",
    "            Price = price;\n",
    "        }\n",
    "    }"
   ]
  },
  {
   "cell_type": "code",
   "execution_count": null,
   "metadata": {
    "dotnet_interactive": {
     "language": "csharp"
    },
    "vscode": {
     "languageId": "dotnet-interactive.csharp"
    }
   },
   "outputs": [],
   "source": [
    "// Programa Principal\n",
    "\n",
    "// Instanciando o objeto de classe\n",
    "HashSet<Product> a = new HashSet<Product>();\n",
    "a.Add(new Product(\"TV\", 900.00));\n",
    "a.Add(new Product(\"Notebook\", 1200.00));\n",
    "\n",
    "// Instanciando o objeto de struct\n",
    "HashSet<Point> b = new HashSet<Point>();\n",
    "b.Add(new Point(3, 4)); \n",
    "b.Add(new Point(5, 10));\n",
    "\n",
    "//****** COMPARATIVOS ******//\n",
    "\n",
    "// Criando um objeto product. \n",
    "Product prod = new Product(\"Notebook\", 1200.00);\n",
    "// Veja que como o método GetHashCode e Equals não foram sobrescritos, a comparação se baseia no endereço de memória e não no conteúdo do objeto.\n",
    "Console.WriteLine(a.Contains(prod)); // false\n",
    "\n",
    "// Aqui, no entanto, vai dar true, pois como é um struct, a comparação é no valor dos atributos.\n",
    "Point p = new Point(5, 10);\n",
    "Console.WriteLine(b.Contains(p)); // true"
   ]
  },
  {
   "cell_type": "markdown",
   "metadata": {},
   "source": [
    "### Implementando GetHashCode/Equals na classe"
   ]
  },
  {
   "cell_type": "code",
   "execution_count": null,
   "metadata": {
    "dotnet_interactive": {
     "language": "csharp"
    },
    "vscode": {
     "languageId": "dotnet-interactive.csharp"
    }
   },
   "outputs": [],
   "source": [
    "// Classe - Tipo Referência\n",
    "class Product \n",
    "    {\n",
    "        public string Name { get; set; }\n",
    "        public double Price { get; set; }\n",
    "        public Product(string name, double price) \n",
    "        {\n",
    "            Name = name;\n",
    "            Price = price;\n",
    "        }\n",
    "        // Sobrescrevendo Métodos GetHashCode\n",
    "        public override int GetHashCode() \n",
    "        {\n",
    "            // Soma dos hashcodes dos atributos. Assim, produtos diferentes, dificilmente terão o mesmo hashcode.\n",
    "            return Name.GetHashCode() + Price.GetHashCode();\n",
    "        }\n",
    "        // Sobrescrevendo Método Equals\n",
    "        public override bool Equals(object obj) \n",
    "        {\n",
    "            // Se o objeto não for product, a comparação é false.\n",
    "            if (!(obj is Product)) \n",
    "            {\n",
    "                return false;\n",
    "            }\n",
    "            // Se o objeto for do tipo Product, faz a comparação dos atributos.\n",
    "            // Downcasting\n",
    "            Product other = obj as Product;\n",
    "            return Name.Equals(other.Name) && Price.Equals(other.Price);\n",
    "        }\n",
    "    }"
   ]
  },
  {
   "cell_type": "code",
   "execution_count": null,
   "metadata": {
    "dotnet_interactive": {
     "language": "csharp"
    },
    "vscode": {
     "languageId": "dotnet-interactive.csharp"
    }
   },
   "outputs": [],
   "source": [
    "// Instanciando o objeto de classe\n",
    "HashSet<Product> a = new HashSet<Product>();\n",
    "a.Add(new Product(\"TV\", 900.00));\n",
    "a.Add(new Product(\"Notebook\", 1200.00));\n",
    "\n",
    "//****** COMPARATIVOS ******//\n",
    "\n",
    "// Criando um objeto product. \n",
    "Product prod = new Product(\"Notebook\", 1200.00);\n",
    "// Veja que como o método GetHashCode e Equals foram sobrescritos, a comparação se baseia no conteúdo do objeto.\n",
    "Console.WriteLine(a.Contains(prod)); // true\n"
   ]
  }
 ],
 "metadata": {
  "kernelspec": {
   "display_name": ".NET (C#)",
   "language": "C#",
   "name": ".net-csharp"
  },
  "language_info": {
   "file_extension": ".cs",
   "mimetype": "text/x-csharp",
   "name": "C#",
   "pygments_lexer": "csharp",
   "version": "9.0"
  },
  "orig_nbformat": 4,
  "vscode": {
   "interpreter": {
    "hash": "aee8b7b246df8f9039afb4144a1f6fd8d2ca17a180786b69acc140d282b71a49"
   }
  }
 },
 "nbformat": 4,
 "nbformat_minor": 2
}
