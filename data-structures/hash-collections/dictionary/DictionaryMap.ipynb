{
 "cells": [
  {
   "cell_type": "markdown",
   "metadata": {},
   "source": [
    "# # Dictionary\n",
    "\n",
    "* Ref.: https://learn.microsoft.com/en-us/dotnet/api/system.collections.generic.dictionary-2?view=net-7.0\n",
    "\n",
    "* É uma coleção de pares chave / valor: `Dictionary<string, string> cookies = new Dictionary<string, string>();`\n",
    "    * Não admite repetições do objeto chave\n",
    "    * Os elementos são indexados pelo objeto chave (não possuem posição)\n",
    "    * Acesso, inserção e remoção de elementos são rápidos\n",
    "* Uso comum: cookies, local storage, qualquer modelo chave-valor\n",
    "\n",
    "# # Sorted Dictionary\n",
    "\n",
    "* Ref.: https://learn.microsoft.com/pt-br/dotnet/api/system.collections.generic.sorteddictionary-2?view=net-6.0\n",
    "\n",
    "### Diferenças:\n",
    "\n",
    "* Dictionary\n",
    "    * Armazenamento em tabela hash\n",
    "    * Extremamente rápido: inserção, remoção e busca O(1)\n",
    "    * A ordem dos elementos não é garantida\n",
    "* SortedDictionary\n",
    "    * Armazenamento em árvore\n",
    "    * Rápido: inserção, remoção e busca O(log(n))\n",
    "    * Os elementos são armazenados ordenadamente conforme implementação IComparer<T>\n",
    "\n",
    "### Métodos Principais\n",
    "\n",
    "* dictionary[key] - acessa o elemento pela chave informada\n",
    "* Add(key, value) - adiciona elemento (exceção em caso de repetição)\n",
    "* Clear() - esvazia a coleção\n",
    "* Count - quantidade de elementos\n",
    "* ContainsKey(key) - verifica se a dada chave existe\n",
    "* ContainsValue(value) - verifica se o dado valor existe\n",
    "* Remove(key) - remove um elemento pela chave\n",
    "\n"
   ]
  },
  {
   "cell_type": "markdown",
   "metadata": {},
   "source": [
    "### Exemplo Explicativo"
   ]
  },
  {
   "cell_type": "code",
   "execution_count": null,
   "metadata": {
    "dotnet_interactive": {
     "language": "csharp"
    },
    "vscode": {
     "languageId": "dotnet-interactive.csharp"
    }
   },
   "outputs": [],
   "source": [
    "using System;\n",
    "using System.Collections.Generic;\n",
    "\n",
    "class Program \n",
    "{\n",
    "    static void Main(string[] args) \n",
    "    {\n",
    "        // Definir cookies\n",
    "        // Instanciar inserindo os tipos da chave e do valor.\n",
    "        Dictionary<string, string> cookies = new Dictionary<string, string>();\n",
    "        cookies[\"user\"] = \"maria\";\n",
    "        cookies[\"email\"] = \"maria@gmail.com\";\n",
    "        cookies[\"phone\"] = \"99771122\";\n",
    "        cookies[\"phone\"] = \"99771133\"; // Substitui o valor anterior\n",
    "        Console.WriteLine(cookies[\"email\"]); // maria@gmail.com\n",
    "        cookies.Remove(\"email\"); \n",
    "        Console.WriteLine(\"Phone number: \" + cookies[\"phone\"]); // Phone number: 99771133\n",
    "\n",
    "        // Verificar se existe uma chave email\n",
    "        if (cookies.ContainsKey(\"email\")) \n",
    "        {\n",
    "            Console.WriteLine(\"Email: \" + cookies[\"email\"]);\n",
    "        }\n",
    "        else \n",
    "        {\n",
    "            Console.WriteLine(\"There is not 'email' key\");\n",
    "        }\n",
    "        // Quantidade de elementos no dicionário\n",
    "        Console.WriteLine(\"Size: \" + cookies.Count); // Size: 2\n",
    "\n",
    "\n",
    "        Console.WriteLine(\"ALL COOKIES:\");\n",
    "        foreach (KeyValuePair<string, string> item in cookies) \n",
    "        {\n",
    "            Console.WriteLine(item.Key + \": \" + item.Value); // user: maria, phone: 99771133\n",
    "        }\n",
    "    }\n",
    "}\n"
   ]
  }
 ],
 "metadata": {
  "kernelspec": {
   "display_name": ".NET (C#)",
   "language": "C#",
   "name": ".net-csharp"
  },
  "language_info": {
   "file_extension": ".cs",
   "mimetype": "text/x-csharp",
   "name": "C#",
   "pygments_lexer": "csharp",
   "version": "9.0"
  },
  "orig_nbformat": 4,
  "vscode": {
   "interpreter": {
    "hash": "aee8b7b246df8f9039afb4144a1f6fd8d2ca17a180786b69acc140d282b71a49"
   }
  }
 },
 "nbformat": 4,
 "nbformat_minor": 2
}
