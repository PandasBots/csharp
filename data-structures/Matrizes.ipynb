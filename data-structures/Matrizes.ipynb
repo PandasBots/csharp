{
 "cells": [
  {
   "cell_type": "markdown",
   "metadata": {},
   "source": [
    "# # Matrizes\n",
    "\n",
    "* Ref.: https://learn.microsoft.com/pt-br/dotnet/csharp/programming-guide/arrays/multidimensional-arrays\n",
    "\n",
    "* Assim como o vetor é um arranjo unidimensional, a matriz é um arranjo bi-dimensional.\n",
    "\n",
    "* Tem as mesmas características do vetor de ser homogênea, ordenada e precisar ter o tamanho fixo, declarado na sua inicialização.\n",
    "\n",
    "* Vantagens: Acesso imediato aos elementos.\n",
    "\n",
    "* Desvantagens: Mais lento e pouco flexível."
   ]
  },
  {
   "cell_type": "markdown",
   "metadata": {},
   "source": [
    "## ## Inicialização"
   ]
  },
  {
   "cell_type": "code",
   "execution_count": null,
   "metadata": {
    "dotnet_interactive": {
     "language": "javascript"
    },
    "vscode": {
     "languageId": "dotnet-interactive.javascript"
    }
   },
   "outputs": [],
   "source": [
    "// Matriz com 2 linhas e 3 colunas\n",
    "double[,] mat = new double[2, 3];"
   ]
  },
  {
   "cell_type": "markdown",
   "metadata": {},
   "source": [
    "## ## Propriedades"
   ]
  },
  {
   "cell_type": "code",
   "execution_count": null,
   "metadata": {
    "dotnet_interactive": {
     "language": "javascript"
    },
    "vscode": {
     "languageId": "dotnet-interactive.javascript"
    }
   },
   "outputs": [],
   "source": [
    "// Matrizes\n",
    "double[,] mat = new double[2, 3];\n",
    "\n",
    "Console.WriteLine(mat.Length); // Número de elementos. 6.\n",
    "Console.WriteLine(mat.Rank); // Número de dimensões. 2. \n",
    "Console.WriteLine(mat.GetLength(0)); // Número de linhas. 2.    \n",
    "Console.WriteLine(mat.GetLength(1)); // Número de colunas. 3.\n"
   ]
  },
  {
   "cell_type": "markdown",
   "metadata": {},
   "source": [
    "# # Lista de Listas\n"
   ]
  },
  {
   "cell_type": "code",
   "execution_count": null,
   "metadata": {
    "dotnet_interactive": {
     "language": "javascript"
    },
    "vscode": {
     "languageId": "dotnet-interactive.javascript"
    }
   },
   "outputs": [],
   "source": [
    "class Solution\n",
    "{\n",
    "    public static void Main(string[] args)\n",
    "    {\n",
    "        // 1. Cria uma lista de listas e adiciona as duas listas anteriores formando uma matriz \n",
    "        List<string> lang1 = new List<string>() { \"C\", \"C++\" };\n",
    "        List<string> lang2 = new List<string>() { \"Java\", \"C#\" };\n",
    "        List<List<string>> listOfLists = new List<List<string>>() { lang1, lang2 };\n",
    "        // 2. Ou alternativamente, adicionando as listas:\n",
    "        /*\n",
    "        List<List<string>> listOfLists = new List<List<string>>();\n",
    "        listOfLists.Add(lang1);\n",
    "        listOfLists.Add(lang2);\n",
    "        */\n",
    "        // 3. Ou diretamente, já iniciando as listas na própria sintaxe da lista de listas\n",
    "        // List<List<string>> listOfLists = new List<List<string>>() { new List<string>{\"a\",\"b\"}, new List<string>{\"c\",\"d\"}};  \n",
    "        \n",
    "        // Imprime a matriz\n",
    "        // pode definir o tipo da list como : List<string> list , se no caso for uma lista de strings. OU deixe var para uso genérico.\n",
    "        foreach (var list in listOfLists) \n",
    "        {\n",
    "            Console.WriteLine(String.Join(\", \", list));\n",
    "        } \n",
    "    }\n",
    "}"
   ]
  },
  {
   "cell_type": "code",
   "execution_count": null,
   "metadata": {
    "dotnet_interactive": {
     "language": "javascript"
    },
    "vscode": {
     "languageId": "dotnet-interactive.javascript"
    }
   },
   "outputs": [],
   "source": [
    "class Solution\n",
    "{\n",
    "    public static void Main(string[] args)\n",
    "    {\n",
    "        List<List<string>> listOfLists = new List<List<string>>() { new List<string>{\"a\",\"b\"}, new List<string>{\"c\",\"d\"}};  \n",
    "  \n",
    "        foreach (var list in listOfLists)\n",
    "        {\n",
    "            for (int i = 0; i < list.Count(); i++)\n",
    "            {\n",
    "                 Console.WriteLine(list[i]);\n",
    "            }\n",
    "        }\n",
    "\n",
    "    }\n",
    "}"
   ]
  }
 ],
 "metadata": {
  "kernelspec": {
   "display_name": ".NET (C#)",
   "language": "C#",
   "name": ".net-csharp"
  },
  "language_info": {
   "file_extension": ".cs",
   "mimetype": "text/x-csharp",
   "name": "C#",
   "pygments_lexer": "csharp",
   "version": "9.0"
  },
  "orig_nbformat": 4,
  "vscode": {
   "interpreter": {
    "hash": "aee8b7b246df8f9039afb4144a1f6fd8d2ca17a180786b69acc140d282b71a49"
   }
  }
 },
 "nbformat": 4,
 "nbformat_minor": 2
}
