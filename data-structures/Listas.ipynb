{
 "cells": [
  {
   "cell_type": "markdown",
   "metadata": {},
   "source": [
    "# # Listas\n",
    "\n",
    "* Ref.: https://learn.microsoft.com/pt-br/dotnet/api/system.collections.generic.list-1?view=net-6.0\n",
    "\n",
    "<div>\n",
    "<img src=\"img/condicao.png\" width=\"500\"/>\n",
    "</div>"
   ]
  },
  {
   "cell_type": "markdown",
   "metadata": {},
   "source": [
    "## Conceito\n",
    "\n",
    "* Lista é uma estrutura de dados:\n",
    "    * Homogênea (mesmo tipo de dados)\n",
    "    * Ordenada por meio de índice\n",
    "    * Tamanho variável. Ao contrário de vetores, onde o tamanho é definido desde o começo, ela começa vazia e vai sendo preenchida.\n",
    "\n",
    "* Vantagens: Tamanho variável e facilidade para realizar inserçã/remoção.\n",
    "* Desvantagem: O acesso é sequencial, ou seja, mais lento. Isso, no entanto, pode ser contornado através da implementação."
   ]
  },
  {
   "cell_type": "markdown",
   "metadata": {},
   "source": [
    "## Inicialização\n",
    "\n",
    "* Requer namespace: using System.Collections.Generic;\n"
   ]
  },
  {
   "cell_type": "code",
   "execution_count": null,
   "metadata": {
    "vscode": {
     "languageId": "javascript"
    }
   },
   "outputs": [],
   "source": [
    "// Lista vazia\n",
    "List<string> list = new List<string>();\n",
    "\n",
    "// Lista já preenchida\n",
    "List<string> list2 = new List<string> { \"Maria\", \"Alex\"};"
   ]
  },
  {
   "cell_type": "markdown",
   "metadata": {},
   "source": [
    "## # Comandos Principais"
   ]
  },
  {
   "cell_type": "markdown",
   "metadata": {},
   "source": [
    "## ## Adicionar elementos\n"
   ]
  },
  {
   "cell_type": "markdown",
   "metadata": {},
   "source": [
    "### Add\n",
    "\n",
    "Adiciona elemento ao final da lista"
   ]
  },
  {
   "cell_type": "code",
   "execution_count": null,
   "metadata": {
    "vscode": {
     "languageId": "javascript"
    }
   },
   "outputs": [],
   "source": [
    "// Lista vazia\n",
    "List<string> list = new List<string>();\n",
    "\n",
    "list.add(\"Maria\");\n",
    "list.add(\"Alex\");"
   ]
  },
  {
   "cell_type": "markdown",
   "metadata": {},
   "source": [
    "### Insert\n",
    "\n",
    "Neste caso podemos definir a posição que queremos inserir o elemento."
   ]
  },
  {
   "cell_type": "code",
   "execution_count": null,
   "metadata": {
    "vscode": {
     "languageId": "javascript"
    }
   },
   "outputs": [],
   "source": [
    "// Lista vazia\n",
    "List<string> list = new List<string>();\n",
    "\n",
    "list.add(\"Maria\");\n",
    "list.add(\"Alex\");\n",
    "\n",
    "// Inserir agora na posição 1\n",
    "\n",
    "list.Insert(1, \"Bob\");"
   ]
  },
  {
   "cell_type": "markdown",
   "metadata": {},
   "source": [
    "## ## Contar elementos\n",
    "\n",
    "### Count"
   ]
  },
  {
   "cell_type": "code",
   "execution_count": null,
   "metadata": {
    "vscode": {
     "languageId": "javascript"
    }
   },
   "outputs": [],
   "source": [
    "// Lista vazia\n",
    "List<string> list = new List<string>();\n",
    "\n",
    "list.add(\"Maria\");\n",
    "list.add(\"Alex\");\n",
    "\n",
    "list.Count(); // 2"
   ]
  },
  {
   "cell_type": "markdown",
   "metadata": {},
   "source": [
    "## ## Encontrar elementos da lista (Primeiro e Último)"
   ]
  },
  {
   "cell_type": "markdown",
   "metadata": {},
   "source": [
    "### Find\n",
    "\n",
    "Verifica uma expressão (pode ser uma lambda) e retorna o PRIMEIRO elemento que satisfaz."
   ]
  },
  {
   "cell_type": "code",
   "execution_count": null,
   "metadata": {
    "vscode": {
     "languageId": "javascript"
    }
   },
   "outputs": [],
   "source": [
    "List<string> list = new List<string>();\n",
    "list.Add(\"Maria\");\n",
    "list.Add(\"Joao\");\n",
    "list.Add(\"Altair\");\n",
    "list.Add(\"Ana\");\n",
    "\n",
    "// Primeira Maneira: Usando uma função completa para testar a condição\n",
    "string s1 = list.Find(Expressao);\n",
    "\n",
    "static bool Expressao(string s){\n",
    "    return s[0] == 'A';\n",
    "}\n",
    "\n",
    "// Segunda Maneira: Usando uma expressão Lambda\n",
    "string s1 = list.Find(s => s[0] == 'A');\n",
    "\n",
    "\n",
    "Console.WriteLine(s1); // Neste caso traria Altair"
   ]
  },
  {
   "cell_type": "markdown",
   "metadata": {},
   "source": [
    "### FindLast\n",
    "\n",
    "Agora traz o último elemento que satisfaz."
   ]
  },
  {
   "cell_type": "code",
   "execution_count": null,
   "metadata": {
    "vscode": {
     "languageId": "javascript"
    }
   },
   "outputs": [],
   "source": [
    "List<string> list = new List<string>();\n",
    "list.Add(\"Maria\");\n",
    "list.Add(\"Joao\");\n",
    "list.Add(\"Altair\");\n",
    "list.Add(\"Ana\");\n",
    "\n",
    "// Primeira Maneira: Usando uma função completa para testar a condição\n",
    "string s1 = list.FindLast(Expressao);\n",
    "\n",
    "static bool Expressao(string s){\n",
    "    return s[0] == 'A';\n",
    "}\n",
    "\n",
    "// Segunda Maneira: Usando uma expressão Lambda\n",
    "string s1 = list.FindLast(s => s[0] == 'A');\n",
    "\n",
    "\n",
    "Console.WriteLine(s1); // Neste caso traria Ana"
   ]
  },
  {
   "cell_type": "markdown",
   "metadata": {},
   "source": [
    "## ## Encontrar posição/index dos elementos na lista (Primeiro e Último)"
   ]
  },
  {
   "cell_type": "code",
   "execution_count": null,
   "metadata": {
    "vscode": {
     "languageId": "javascript"
    }
   },
   "outputs": [],
   "source": [
    "List<string> list = new List<string>();\n",
    "list.Add(\"Maria\");\n",
    "list.Add(\"Joao\");\n",
    "list.Add(\"Altair\");\n",
    "list.Add(\"Ana\");\n",
    "\n",
    "// Usando uma expressão Lambda. Veja que a função retorna um inteiro, então declaramos com int neste caso.\n",
    "int s1 = list.FindIndex(s => s[0] == 'A');\n",
    "\n",
    "Console.WriteLine(s1); //  Neste caso traria 2, index do Altair"
   ]
  },
  {
   "cell_type": "code",
   "execution_count": null,
   "metadata": {
    "vscode": {
     "languageId": "javascript"
    }
   },
   "outputs": [],
   "source": [
    "List<string> list = new List<string>();\n",
    "list.Add(\"Maria\");\n",
    "list.Add(\"Joao\");\n",
    "list.Add(\"Altair\");\n",
    "list.Add(\"Ana\");\n",
    "\n",
    "// Usando uma expressão Lambda\n",
    "int s1 = list.FindLastIndex(s => s[0] == 'A');\n",
    "\n",
    "Console.WriteLine(s1); // Neste caso traria 3, index da Ana"
   ]
  },
  {
   "cell_type": "markdown",
   "metadata": {},
   "source": [
    "## ## Filtrar a lista\n",
    "\n",
    "Filtrar a lista original, criando uma nova lista que contenha apenas os elementos que respeitem uma dada condição."
   ]
  },
  {
   "cell_type": "code",
   "execution_count": null,
   "metadata": {
    "vscode": {
     "languageId": "javascript"
    }
   },
   "outputs": [],
   "source": [
    "// Cria uma lista e abastece\n",
    "List<string> list = new List<string>();\n",
    "list.Add(\"Maria\");\n",
    "list.Add(\"Joao\");\n",
    "list.Add(\"Altair\");\n",
    "list.Add(\"Ana\");\n",
    "list.Add(\"AnaAnaAnaAna\");\n",
    "\n",
    "// Cria uma lista que irá armazenar os resultados filtrados\n",
    "List<string> listResultado = new List<string>();\n",
    "\n",
    "// Percorre a lista original e filtra os resultados que tem mais que 5 caracteres\n",
    "listResultado = list.FindAll(x => x.Length >= 5);\n",
    "\n",
    "// Imprime rapidamente a lista\n",
    "listResultado.ForEach(Console.WriteLine);"
   ]
  },
  {
   "cell_type": "markdown",
   "metadata": {},
   "source": [
    "## ## Remover Elementos da Lista"
   ]
  },
  {
   "cell_type": "code",
   "execution_count": null,
   "metadata": {
    "vscode": {
     "languageId": "javascript"
    }
   },
   "outputs": [],
   "source": [
    "// Cria uma lista e abastece\n",
    "List<string> list = new List<string>();\n",
    "list.Add(\"Maria\");\n",
    "list.Add(\"Joao\");\n",
    "list.Add(\"Altair\");\n",
    "list.Add(\"Ana\");\n",
    "list.Add(\"AnaAnaAnaAna\");\n",
    "\n",
    "// Remove um elemento\n",
    "list.Remove(\"Joao\");\n",
    "\n",
    "// Remove um elemento pelo index    \n",
    "list.RemoveAt(0);\n",
    "\n",
    "// Remove todos os elementos com base em uma condição. No caso, primeiro caractere é A\n",
    "list.RemoveAll(x => x[0] == 'A');   \n",
    "\n",
    "// Remove os elementos baseado num range\n",
    "// Neste caso, ele inicia na posição 0 e remove 2 elementos. Ou seja, remove Maria e Joao.\n",
    "list.RemoveRange(0, 2);\n",
    "\n"
   ]
  },
  {
   "cell_type": "markdown",
   "metadata": {},
   "source": []
  }
 ],
 "metadata": {
  "kernelspec": {
   "display_name": "Python 3.10.4 64-bit",
   "language": "python",
   "name": "python3"
  },
  "language_info": {
   "name": "python",
   "version": "3.10.4"
  },
  "orig_nbformat": 4,
  "vscode": {
   "interpreter": {
    "hash": "aee8b7b246df8f9039afb4144a1f6fd8d2ca17a180786b69acc140d282b71a49"
   }
  }
 },
 "nbformat": 4,
 "nbformat_minor": 2
}
