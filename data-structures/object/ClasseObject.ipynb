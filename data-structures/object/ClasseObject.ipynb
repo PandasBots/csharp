{
 "cells": [
  {
   "cell_type": "markdown",
   "metadata": {},
   "source": [
    "# Object\n",
    "\n",
    "* Ref.: https://learn.microsoft.com/pt-br/dotnet/api/system.object?view=net-6.0\n",
    "\n",
    "* Toda Classe customizada criada no C# é sempre uma subclasse da classe \"Object\". Logo, herda suas propriedades."
   ]
  },
  {
   "cell_type": "markdown",
   "metadata": {},
   "source": [
    "## Métodos\n",
    "\n",
    "* Equals(Object): Determina se o objeto especificado é igual ao objeto atual.\n",
    "* Equals(Object, Object): Determina se as instâncias de objeto especificadas são consideradas iguais.\n",
    "* Finalize(): Permite que um objeto tente liberar recursos e executar outras operações de limpeza antes de ser recuperado pela coleta de lixo.\n",
    "* GetHashCode(): Serve como a função de hash padrão.\n",
    "* GetType(): Obtém o Type da instância atual.\n",
    "* MemberwiseClone(): Cria uma cópia superficial do Object atual.\n",
    "* ReferenceEquals(Object, Object): Determina se as instâncias de Object especificadas são a mesma instância.\n",
    "* ToString(): Retorna uma cadeia de caracteres que representa o objeto atual."
   ]
  }
 ],
 "metadata": {
  "kernelspec": {
   "display_name": ".NET (C#)",
   "language": "C#",
   "name": ".net-csharp"
  },
  "language_info": {
   "file_extension": ".cs",
   "mimetype": "text/x-csharp",
   "name": "C#",
   "pygments_lexer": "csharp",
   "version": "9.0"
  },
  "orig_nbformat": 4
 },
 "nbformat": 4,
 "nbformat_minor": 2
}
