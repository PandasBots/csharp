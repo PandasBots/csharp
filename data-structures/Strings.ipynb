{
 "cells": [
  {
   "cell_type": "markdown",
   "metadata": {},
   "source": [
    "# String\n",
    "\n",
    "Para inicializar uma string, use sempre aspas duplas.\n",
    "\n",
    "Uma string é um array de caracteres. É imutável, ou seja, não se pode mudar uma string, mas apenas criar uma nova. São null-terminated e podem conter qualquer número de caracteres nulos. O tamanho da string contém o número de objetos do tipo char."
   ]
  },
  {
   "cell_type": "markdown",
   "metadata": {},
   "source": [
    "## Inicialização de Strings"
   ]
  },
  {
   "cell_type": "code",
   "execution_count": null,
   "metadata": {
    "dotnet_interactive": {
     "language": "csharp"
    },
    "vscode": {
     "languageId": "dotnet-interactive.csharp"
    }
   },
   "outputs": [],
   "source": [
    "string s1;                       // unitialized\n",
    "string s2 = null;                // initialized with null\n",
    "string s3 = String.Empty;        // empty string\n",
    "string s4 = \"hello world\";       // initialized with text\n",
    "var s5 = \"hello world\";\n",
    "System.String s6 = \"hello world\";"
   ]
  },
  {
   "cell_type": "markdown",
   "metadata": {},
   "source": [
    "* Note que a única situação que se usa \"NEW\" para criar um objeto do tipo string é quando você inicializa isso a partir de um array de caracteres."
   ]
  },
  {
   "cell_type": "code",
   "execution_count": null,
   "metadata": {
    "dotnet_interactive": {
     "language": "csharp"
    },
    "vscode": {
     "languageId": "dotnet-interactive.csharp"
    }
   },
   "outputs": [],
   "source": [
    "char[] letters = { 'h', 'e', 'l', 'l', 'o'};\n",
    "string s7 = new string(letters); // from an array of chars"
   ]
  },
  {
   "cell_type": "markdown",
   "metadata": {},
   "source": [
    "* Strings são imutáveis. Você pode acessar uma string, mas não pode muda-la."
   ]
  },
  {
   "cell_type": "code",
   "execution_count": null,
   "metadata": {
    "dotnet_interactive": {
     "language": "csharp"
    },
    "vscode": {
     "languageId": "dotnet-interactive.csharp"
    }
   },
   "outputs": [
    {
     "data": {
      "text/html": [
       "<div class=\"dni-plaintext\">h</div>"
      ]
     },
     "metadata": {},
     "output_type": "display_data"
    }
   ],
   "source": [
    "char c = s4[0];  // OK\n",
    "c\n",
    "\n",
    "// s4[0] = 'H';     // error"
   ]
  },
  {
   "cell_type": "markdown",
   "metadata": {},
   "source": [
    "* No entanto, é claro, você pode criar uma nova string com o mesmo nome da anterior. O que na prática da no mesmo."
   ]
  },
  {
   "cell_type": "code",
   "execution_count": null,
   "metadata": {
    "dotnet_interactive": {
     "language": "csharp"
    },
    "vscode": {
     "languageId": "dotnet-interactive.csharp"
    }
   },
   "outputs": [
    {
     "data": {
      "text/plain": [
       "hello worldhello world"
      ]
     },
     "metadata": {},
     "output_type": "display_data"
    }
   ],
   "source": [
    "string s4 = \"hello world\";\n",
    "s4 = s4+s4;\n",
    "s4"
   ]
  },
  {
   "cell_type": "markdown",
   "metadata": {},
   "source": [
    "## Modificador de String\n",
    "\n",
    "* Remove(): Remove parte da string\n",
    "* ToUpper()/ToLower(): Converte os elementos da string em Upper ou Lower case.\n",
    "\n",
    "Estes métodos não alteram a string."
   ]
  },
  {
   "cell_type": "code",
   "execution_count": null,
   "metadata": {
    "dotnet_interactive": {
     "language": "csharp"
    },
    "vscode": {
     "languageId": "dotnet-interactive.csharp"
    }
   },
   "outputs": [
    {
     "name": "stdout",
     "output_type": "stream",
     "text": [
      "s6 = hello world s8 = hello s9 = HELLO WORLD\n"
     ]
    }
   ],
   "source": [
    "var s8 = s6.Remove(5);       // hello\n",
    "var s9 = s6.ToUpper();       // HELLO WORLD\n",
    "\n",
    "Console.WriteLine($\"s6 = {s6} s8 = {s8} s9 = {s9}\");"
   ]
  },
  {
   "cell_type": "markdown",
   "metadata": {},
   "source": [
    "* É possível converter qualquer built-in type numa string com o método ToString()."
   ]
  },
  {
   "cell_type": "code",
   "execution_count": null,
   "metadata": {
    "dotnet_interactive": {
     "language": "csharp"
    },
    "vscode": {
     "languageId": "dotnet-interactive.csharp"
    }
   },
   "outputs": [
    {
     "name": "stdout",
     "output_type": "stream",
     "text": [
      "s1 = 42 s2 = 19,99\n"
     ]
    }
   ],
   "source": [
    "int i = 42;\n",
    "double d = 19.99;\n",
    "var s1 = i.ToString();\n",
    "var s2 = d.ToString();\n",
    "\n",
    "Console.WriteLine($\"s1 = {s1} s2 = {s2}\");"
   ]
  },
  {
   "cell_type": "markdown",
   "metadata": {},
   "source": [
    "Formas de modificar uma string:\n",
    "\n",
    "* Use + para concatenar.\n",
    "* Usando o método Format()\n",
    "* Usando $"
   ]
  },
  {
   "cell_type": "code",
   "execution_count": null,
   "metadata": {
    "dotnet_interactive": {
     "language": "csharp"
    },
    "vscode": {
     "languageId": "dotnet-interactive.csharp"
    }
   },
   "outputs": [
    {
     "name": "stdout",
     "output_type": "stream",
     "text": [
      "\n",
      "s1 = This is item 42\n",
      "s2 = This is item 42 \n",
      "s3 = This is item 42\n",
      "\n"
     ]
    }
   ],
   "source": [
    "int i = 42;\n",
    "string s1 = \"This is item \" + i.ToString();\n",
    "string s2 = string.Format(\"This is item {0}\", i);\n",
    "string s3 = $\"This is item {i}\";\n",
    "\n",
    "Console.WriteLine(@$\"\n",
    "s1 = {s1}\n",
    "s2 = {s2} \n",
    "s3 = {s3}\n",
    "\");"
   ]
  },
  {
   "cell_type": "markdown",
   "metadata": {},
   "source": [
    "## Caracteres especiais\n",
    "\n",
    "<div>\n",
    "<img src=\"_img/type9.png\" width=\"400\"/>\n",
    "</div>"
   ]
  },
  {
   "cell_type": "code",
   "execution_count": null,
   "metadata": {
    "dotnet_interactive": {
     "language": "csharp"
    },
    "vscode": {
     "languageId": "dotnet-interactive.csharp"
    }
   },
   "outputs": [
    {
     "name": "stdout",
     "output_type": "stream",
     "text": [
      "s1 = c:\\Program Files (x86)\\Windows Kits\\ \n",
      "s2 = That was called a \"demo\" \n",
      "s3 = This text\n",
      "spawns multiple lines.\n"
     ]
    }
   ],
   "source": [
    "var s1 = \"c:\\\\Program Files (x86)\\\\Windows Kits\\\\\";\n",
    "var s2 = \"That was called a \\\"demo\\\"\";\n",
    "var s3 = \"This text\\nspawns multiple lines.\";\n",
    "\n",
    "Console.WriteLine($\"s1 = {s1} \\ns2 = {s2} \\ns3 = {s3}\");"
   ]
  },
  {
   "cell_type": "code",
   "execution_count": null,
   "metadata": {
    "dotnet_interactive": {
     "language": "csharp"
    },
    "vscode": {
     "languageId": "dotnet-interactive.csharp"
    }
   },
   "outputs": [
    {
     "name": "stdout",
     "output_type": "stream",
     "text": [
      "\n",
      "s1 = c:\\Program Files (x86)\\Windows Kits\\\n",
      "s2 = That was called a \"demo\" \n",
      "s3 = This text \n",
      "spawns multiple lines.\n",
      "\n"
     ]
    }
   ],
   "source": [
    "\n",
    "var s2 = @\"That was called a \"\"demo\"\"\";\n",
    "var s3 = @\"This text \n",
    "spawns multiple lines.\";\n",
    "\n",
    "Console.WriteLine(@$\"\n",
    "s1 = {s1}\n",
    "s2 = {s2} \n",
    "s3 = {s3}\n",
    "\");"
   ]
  }
 ],
 "metadata": {
  "kernelspec": {
   "display_name": ".NET (C#)",
   "language": "C#",
   "name": ".net-csharp"
  },
  "language_info": {
   "file_extension": ".cs",
   "mimetype": "text/x-csharp",
   "name": "C#",
   "pygments_lexer": "csharp",
   "version": "9.0"
  },
  "orig_nbformat": 4
 },
 "nbformat": 4,
 "nbformat_minor": 2
}
