{
 "cells": [
  {
   "cell_type": "markdown",
   "metadata": {},
   "source": [
    "# # IF-ELSE\n",
    "\n",
    "<div>\n",
    "<img src=\"img/condicao.png\" width=\"500\"/>\n",
    "</div>"
   ]
  },
  {
   "cell_type": "markdown",
   "metadata": {},
   "source": [
    "### Atenção: Escopo\n",
    "\n",
    "A variável declarada dentro de um IF-ELSE não pode ser usada fora deste escopo."
   ]
  },
  {
   "cell_type": "code",
   "execution_count": null,
   "metadata": {
    "dotnet_interactive": {
     "language": "csharp"
    }
   },
   "outputs": [
    {
     "ename": "Error",
     "evalue": "(10,1): error CS0103: O nome \"z\" não existe no contexto atual",
     "output_type": "error",
     "traceback": [
      "(10,1): error CS0103: O nome \"z\" não existe no contexto atual"
     ]
    }
   ],
   "source": [
    "int x = 10;\n",
    "\n",
    "if (x == 10) {\n",
    "    double z = x*10;\n",
    "}\n",
    "else{\n",
    "    double z = x/10;\n",
    "}\n",
    "\n",
    "z"
   ]
  },
  {
   "cell_type": "code",
   "execution_count": null,
   "metadata": {
    "dotnet_interactive": {
     "language": "csharp"
    }
   },
   "outputs": [
    {
     "data": {
      "text/html": [
       "<div class=\"dni-plaintext\">100</div>"
      ]
     },
     "metadata": {},
     "output_type": "display_data"
    }
   ],
   "source": [
    "// Correção: Declarar a variável y antes das condições.\n",
    "int x = 10;\n",
    "\n",
    "double z = 0;   \n",
    "\n",
    "if (x == 10) {\n",
    "    z = x*10;\n",
    "}\n",
    "else{\n",
    "    z = x/10;\n",
    "}\n",
    "\n",
    "z"
   ]
  },
  {
   "cell_type": "code",
   "execution_count": null,
   "metadata": {
    "dotnet_interactive": {
     "language": "csharp"
    }
   },
   "outputs": [
    {
     "data": {
      "text/html": [
       "<div class=\"dni-plaintext\">0</div>"
      ]
     },
     "metadata": {},
     "output_type": "display_data"
    }
   ],
   "source": [
    "// Cuidado! Não declare novamente a variável dentro do laço. A declaração deve ser feita uma única vez!\n",
    "int x = 10;\n",
    "\n",
    "double q = 0;   \n",
    "\n",
    "if (x == 10) {\n",
    "    double q = x*10;\n",
    "}\n",
    "else{\n",
    "    double q = x/10;\n",
    "}\n",
    "\n",
    "q"
   ]
  },
  {
   "cell_type": "markdown",
   "metadata": {},
   "source": [
    "## Estrutura Condicional"
   ]
  },
  {
   "cell_type": "code",
   "execution_count": null,
   "metadata": {
    "dotnet_interactive": {
     "language": "csharp"
    }
   },
   "outputs": [
    {
     "name": "stdout",
     "output_type": "stream",
     "text": [
      "Bom Dia\n",
      "Bom Noite\n"
     ]
    }
   ],
   "source": [
    "// SIMPLES\n",
    "\n",
    "int x = 10;\n",
    "\n",
    "Console.WriteLine(\"Bom Dia\");\n",
    "\n",
    "if (x < 5){\n",
    "    Console.WriteLine(\"Boa Tarde\");\n",
    "}\n",
    "\n",
    "Console.WriteLine(\"Boa Noite\");"
   ]
  },
  {
   "cell_type": "code",
   "execution_count": null,
   "metadata": {
    "dotnet_interactive": {
     "language": "csharp"
    }
   },
   "outputs": [
    {
     "name": "stdout",
     "output_type": "stream",
     "text": [
      "Ímpar\n"
     ]
    }
   ],
   "source": [
    "// COMPOSTA\n",
    "\n",
    "int x = 11;\n",
    "\n",
    "if (x % 2 == 0){\n",
    "    Console.WriteLine(\"Par\");\n",
    "}\n",
    "else{\n",
    "    Console.WriteLine(\"Ímpar\");\n",
    "}\n"
   ]
  },
  {
   "cell_type": "code",
   "execution_count": null,
   "metadata": {
    "dotnet_interactive": {
     "language": "csharp"
    }
   },
   "outputs": [
    {
     "name": "stdout",
     "output_type": "stream",
     "text": [
      "Fora do Range [-inf a 11]\n"
     ]
    }
   ],
   "source": [
    "// ENCADEADA (NESTED)\n",
    "\n",
    "int x = 12;\n",
    "\n",
    "if (x < 5){\n",
    "    Console.WriteLine(\"Bom Dia\");\n",
    "}\n",
    "else if (x >= 5 && x < 8){\n",
    "    Console.WriteLine(\"Boa Tarde\");\n",
    "}\n",
    "else if (x >= 8 && x < 12){\n",
    "    Console.WriteLine(\"Boa Noite\");\n",
    "}\n",
    "else{\n",
    "    Console.WriteLine(\"Fora do Range [-inf a 11]\");\n",
    "}"
   ]
  },
  {
   "cell_type": "markdown",
   "metadata": {},
   "source": [
    "# # Switch-CASE\n",
    "\n",
    "Estrutura opcional a vários if-else encadeados, quando a condição envolve o teste\n",
    "do valor de uma variável."
   ]
  },
  {
   "cell_type": "code",
   "execution_count": null,
   "metadata": {},
   "outputs": [],
   "source": [
    "// IF_ELSE\n",
    "int x = int.Parse(Console.ReadLine());\n",
    "\n",
    "string day;\n",
    "if (x == 1) {\n",
    "    day = \"Sunday\";\n",
    "}\n",
    "    else if (x == 2) {\n",
    "day = \"Monday\";\n",
    "}\n",
    "    else if (x == 3) {\n",
    "day = \"Tuesday\";\n",
    "}\n",
    "    else if (x == 4) {\n",
    "day = \"Wednesday\";\n",
    "}\n",
    "    else if (x == 5) {\n",
    "day = \"Thursday\";\n",
    "}\n",
    "    else if (x == 6) {\n",
    "day = \"Friday\";\n",
    "}\n",
    "    else if (x == 7) {\n",
    "day = \"Saturday\";\n",
    "}\n",
    "    else {\n",
    "day = \"Invalid value\";\n",
    "}"
   ]
  },
  {
   "cell_type": "code",
   "execution_count": null,
   "metadata": {},
   "outputs": [],
   "source": [
    "// SWITCH_CASE\n",
    "int x = int.Parse(Console.ReadLine());\n",
    "\n",
    "string day;\n",
    "switch (x) {\n",
    "case 1:\n",
    "    day = \"Sunday\";\n",
    "    break;\n",
    "case 2:\n",
    "    day = \"Monday\";\n",
    "    break;\n",
    "case 3:\n",
    "    day = \"Tuesday\";\n",
    "    break;\n",
    "case 4:\n",
    "    day = \"Wednesday\";\n",
    "    break;\n",
    "case 5:\n",
    "    day = \"Thursday\";\n",
    "    break;\n",
    "case 6:\n",
    "    day = \"Friday\";\n",
    "    break;\n",
    "case 7:\n",
    "    day = \"Saturday\";\n",
    "    break;\n",
    "default:\n",
    "    day = \"Invalid value\";\n",
    "    break;\n",
    "}"
   ]
  },
  {
   "cell_type": "markdown",
   "metadata": {},
   "source": [
    "# # Condicional Ternária\n",
    "\n",
    "Alternativa ao IF-ELSE quando deseja decidir um valor com base numa condição.\n",
    "\n",
    "Estrutura: `condicao ? valor_se_verdadeiro : valor_se_falso `\n",
    "\n",
    "* Exemplo: Definir desconto com base no preço."
   ]
  },
  {
   "cell_type": "code",
   "execution_count": null,
   "metadata": {
    "vscode": {
     "languageId": "javascript"
    }
   },
   "outputs": [],
   "source": [
    "double preco = 10.0;\n",
    "\n",
    "// Método 1 - IF_ELSE\n",
    "\n",
    "double desconto;\n",
    "if (preco < 20.0) {\n",
    "    desconto = preco * 0.1;\n",
    "}\n",
    "else {\n",
    "    desconto = preco * 0.05;\n",
    "}\n",
    "\n",
    "// Método 2 - Operador Ternário\n",
    "// condicao ? valor_se_verdadeiro : valor_se_falso  \n",
    "double desconto = (preco < 20.0) ? preco * 0.1 : preco * 0.05;"
   ]
  }
 ],
 "metadata": {
  "kernelspec": {
   "display_name": "Python 3.7.10",
   "language": "python",
   "name": "python3"
  },
  "language_info": {
   "file_extension": ".cs",
   "mimetype": "text/x-csharp",
   "name": "python",
   "pygments_lexer": "csharp",
   "version": "3.7.10"
  },
  "orig_nbformat": 4,
  "vscode": {
   "interpreter": {
    "hash": "62ac5eec3b562cd8e8a23a4367a248c2f76dc71f53045ec22c89109f963a6f1d"
   }
  }
 },
 "nbformat": 4,
 "nbformat_minor": 2
}
