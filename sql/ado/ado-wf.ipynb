{
 "cells": [
  {
   "cell_type": "markdown",
   "metadata": {},
   "source": [
    "# # ADO.NET\n",
    "\n",
    "ADO usado no Windows Forms"
   ]
  },
  {
   "cell_type": "markdown",
   "metadata": {},
   "source": [
    "# # Exemplo 1 - Operações Básicas\n",
    "\n",
    "* Ref. Tutorial: https://www.youtube.com/watch?v=dLEUyqafx9U\n",
    "\n",
    "Conexão com banco de dados Sql Server."
   ]
  },
  {
   "cell_type": "code",
   "execution_count": null,
   "metadata": {
    "vscode": {
     "languageId": "javascript"
    }
   },
   "outputs": [],
   "source": [
    "// Pacotes para acessar o banco de dados\n",
    "using System.Data.SqlClient;\n",
    "\n",
    "// Connection String. Data Source é o nome do servidor, Initial Catalog é o nome do banco de dados\n",
    "// Deixar global\n",
    "constr = \"Data Source=DESKTOP-2QVJQ0S;Initial Catalog=Teste;User ID=;Password=;Integrated Security=True\""
   ]
  },
  {
   "cell_type": "code",
   "execution_count": null,
   "metadata": {
    "vscode": {
     "languageId": "javascript"
    }
   },
   "outputs": [],
   "source": [
    "// 1. INSERT\n",
    "\n",
    "try\n",
    "{\n",
    "    // Dentro da classe que controla o botão de \"INSERIR\"\n",
    "    // Para Windows Authentication, deixar em branco o UserID e Password. Para SQL Server Authentication, colocar o nome de usuário e senha.\n",
    "    SqlConnection conn = new SqlConnection(constr);   \n",
    "\n",
    "    // Comando SQL\n",
    "    string query = \"INSERT INTO NomeTabela (Col1, Col2) VALUES (@Nome, @Idade)\";  \n",
    "    SqlCommand cmd = new SqlCommand(query, conn); // esta classe SqlCommand executa o comando da query\n",
    "    cmd.Parameters.AddWithValue(\"@Nome\", txtNome.Text); // txtNome é o nome do TextBox\n",
    "    cmd.Parameters.AddWithValue(\"@Idade\", txtIdade.Text); // txtIdade é o nome do TextBox   \n",
    "    conn.Open(); // abre a conexão  \n",
    "    int i = cmd.ExecuteNonQuery(); // executa o comando\n",
    "    conn.Close();\n",
    "    // Verifica se o comando foi executado\n",
    "    if (i > 0) \n",
    "    {  \n",
    "        MessageBox.Show(\"sucesso\");  \n",
    "    }   \n",
    "    else    \n",
    "    {  \n",
    "        MessageBox.Show(\"Erro\");  \n",
    "    }   \n",
    "}\n",
    "catch (Exception ex)    \n",
    "{    \n",
    "    MessageBox.Show(ex.Message.ToString());    \n",
    "}\n",
    "finally\n",
    "{\n",
    "    if(conn.State == ConnectionState.Open)  \n",
    "    {\n",
    "        // Fecha a conexão\n",
    "        conn.Close();   \n",
    "    }\n",
    "}"
   ]
  },
  {
   "cell_type": "code",
   "execution_count": null,
   "metadata": {
    "vscode": {
     "languageId": "javascript"
    }
   },
   "outputs": [],
   "source": [
    "// 2. UPDATE\n",
    "\n",
    "try\n",
    "{\n",
    "    // Dentro da classe que controla o botão de \"UPDATE\"\n",
    "    // Para Windows Authentication, deixar em branco o UserID e Password. Para SQL Server Authentication, colocar o nome de usuário e senha.\n",
    "    SqlConnection conn = new SqlConnection(constr);   \n",
    "\n",
    "    // Comando SQL\n",
    "    string query = \"UPDATE NomeTabela SET Col1=@Nome, Col2=@Idade WHERE Col3=@Id\";  \n",
    "    SqlCommand cmd = new SqlCommand(query, conn); // esta classe SqlCommand executa o comando da query\n",
    "    cmd.Parameters.AddWithValue(\"@Id\", txtId.Text); // txtId é o nome do TextBox\n",
    "    cmd.Parameters.AddWithValue(\"@Nome\", txtNome.Text); // txtNome é o nome do TextBox\n",
    "    cmd.Parameters.AddWithValue(\"@Idade\", txtIdade.Text); // txtIdade é o nome do TextBox   \n",
    "    conn.Open(); // abre a conexão  \n",
    "    int i = cmd.ExecuteNonQuery(); // executa o comando\n",
    "    conn.Close();\n",
    "    // Verifica se o comando foi executado\n",
    "    if (i > 0) \n",
    "    {  \n",
    "        MessageBox.Show(\"sucesso\");  \n",
    "    }   \n",
    "    else    \n",
    "    {  \n",
    "        MessageBox.Show(\"Erro\");  \n",
    "    }   \n",
    "}\n",
    "catch (Exception ex)    \n",
    "{    \n",
    "    MessageBox.Show(ex.Message.ToString());    \n",
    "}\n",
    "finally\n",
    "{\n",
    "    if(conn.State == ConnectionState.Open)  \n",
    "    {\n",
    "        // Fecha a conexão\n",
    "        conn.Close();   \n",
    "    }\n",
    "}"
   ]
  },
  {
   "cell_type": "code",
   "execution_count": null,
   "metadata": {
    "vscode": {
     "languageId": "javascript"
    }
   },
   "outputs": [],
   "source": [
    "// 3. DELETE\n",
    "\n",
    "try\n",
    "{\n",
    "    // Dentro da classe que controla o botão de \"DELETAR\"\n",
    "    // Para Windows Authentication, deixar em branco o UserID e Password. Para SQL Server Authentication, colocar o nome de usuário e senha.\n",
    "    SqlConnection conn = new SqlConnection(constr);   \n",
    "\n",
    "    // Comando SQL\n",
    "    string query = \"DELETE FROM NomeTabela WHERE Col3=@Id\";  \n",
    "    SqlCommand cmd = new SqlCommand(query, conn); // esta classe SqlCommand executa o comando da query\n",
    "    cmd.Parameters.AddWithValue(\"@Id\", txtId.Text); // txtId é o nome do TextBox\n",
    "    cmd.Parameters.AddWithValue(\"@Nome\", txtNome.Text); // txtNome é o nome do TextBox\n",
    "    cmd.Parameters.AddWithValue(\"@Idade\", txtIdade.Text); // txtIdade é o nome do TextBox   \n",
    "    conn.Open(); // abre a conexão  \n",
    "    int i = cmd.ExecuteNonQuery(); // executa o comando\n",
    "    conn.Close();\n",
    "    // Verifica se o comando foi executado\n",
    "    if (i > 0) \n",
    "    {  \n",
    "        MessageBox.Show(\"sucesso\");  \n",
    "    }   \n",
    "    else    \n",
    "    {  \n",
    "        MessageBox.Show(\"Erro\");  \n",
    "    }   \n",
    "}\n",
    "catch (Exception ex)    \n",
    "{    \n",
    "    MessageBox.Show(ex.Message.ToString());    \n",
    "}\n",
    "finally\n",
    "{\n",
    "    if(conn.State == ConnectionState.Open)  \n",
    "    {\n",
    "        // Fecha a conexão\n",
    "        conn.Close();   \n",
    "    }\n",
    "}"
   ]
  },
  {
   "cell_type": "markdown",
   "metadata": {},
   "source": [
    "### Mostrar dados usando o DataGridView\n",
    "\n",
    "* Inserir o código na classe que faz o Load do Form\n",
    "\n",
    "* Usar disconnected architecture. Forma mais segura, em que a conexão fica aberta por menos tempo. \n",
    "\n",
    "* Veja que não estamos instanciando o objeto conn.. ele será obtido do conn aberto em algum momento? Disconnected architecture."
   ]
  },
  {
   "cell_type": "code",
   "execution_count": null,
   "metadata": {
    "vscode": {
     "languageId": "javascript"
    }
   },
   "outputs": [],
   "source": [
    "try\n",
    "{\n",
    "    // Comando SQL\n",
    "    string query = \"SELECT * FROM NomeTabela;\n",
    "    SqlDataAdapter da = new SqlDataAdapter(query, conn); // esta classe SqlDataAdapter executa o comando da query   \n",
    "    \n",
    "    // Cria um DataSet\n",
    "    DataSet ds = new DataSet();\n",
    "    da.Fill(ds, \"NomeTabela\"); // Preenche o DataSet com o resultado da query\n",
    "    dataGridView1.DataSource = ds.Tables[\"NomeTabela\"]; // Preenche o DataGridView com o DataSet. dataGridView1 é o nome do elemento DataGridView.\n",
    "\n",
    "}\n",
    "catch (Exception ex)    \n",
    "{    \n",
    "    MessageBox.Show(ex.Message.ToString());    \n",
    "}\n",
    "finally\n",
    "{\n",
    "    if(conn.State == ConnectionState.Open)  \n",
    "    {\n",
    "        // Fecha a conexão\n",
    "        conn.Close();   \n",
    "    }\n",
    "}\n"
   ]
  },
  {
   "cell_type": "markdown",
   "metadata": {},
   "source": [
    "# # Exemplo 2 - Salvando Arquivos\n",
    "\n",
    "* Ref. Tutorial: https://www.youtube.com/watch?v=2H3Hc0ZFGjY\n",
    "\n",
    "Como salvar arquivos numa tabela e depois recuperar.\n",
    "\n",
    "Neste exemplo as funções não serão agrupadas em camadas, mas isso é uma boa prática."
   ]
  },
  {
   "cell_type": "code",
   "execution_count": null,
   "metadata": {
    "vscode": {
     "languageId": "javascript"
    }
   },
   "outputs": [],
   "source": [
    "// Na classe do form principal\n",
    "public Form1()\n",
    "{\n",
    "    // Método default\n",
    "    InitializeComponent();\n",
    "    // Chama o método que preenche o DataGridView   \n",
    "    CarregarGrid();\n",
    "}\n",
    "\n",
    "// Método para criar a conexão com o banco de dados SqlServer (Poderia ser o Sql Lite por exemplo, mas o comando difere.)\n",
    "private void IDbConnection AbrirConexao()\n",
    "{\n",
    "    try\n",
    "    {\n",
    "        // Para Windows Authentication, deixar em branco o UserID e Password. Para SQL Server Authentication, colocar o nome de usuário e senha.\n",
    "        constr = \"Data Source=NomeServidor;Initial Catalog=NomeBanco;User ID=NomeUsuario;Password=SenhaUsuario\";\n",
    "        return new SqlConnection(constr));\n",
    "    }   \n",
    "}\n",
    "\n",
    "// 1. Códigos para carregar o DataGridView\n",
    "private void CarregarGrid()\n",
    "{\n",
    "    try\n",
    "    {\n",
    "        using (var conn = AbrirConexao())\n",
    "        {\n",
    "            using (var cmd = conn.CreateCommand()) \n",
    "            {\n",
    "                cmd.CommandText = \"SELECT ID FROM NomeTabela\";   \n",
    "                var reader = cmd.ExecuteReader();\n",
    "                var table = new DataTable();\n",
    "                table.load(reader);\n",
    "                // Define a fonte de dados do DataGridView como sendo a tabela carregada\n",
    "                dataGridView1.DataSource = table;\n",
    "            } \n",
    "        }    \n",
    "        conn.Open();\n",
    "    }\n",
    "}"
   ]
  },
  {
   "cell_type": "code",
   "execution_count": null,
   "metadata": {
    "vscode": {
     "languageId": "javascript"
    }
   },
   "outputs": [],
   "source": [
    "// 2. Métodos para salvar o arquivo\n",
    "// Inserir código dentro da classe que controla o botão de \"SALVAR\"\n",
    "\n",
    "private void btnSalvar_Click(object sender, EventArgs e)    \n",
    "{\n",
    "    try\n",
    "    {\n",
    "        var arquivo = EscolherArquivo();\n",
    "        // Se o arquivo escolhido não for nulo..\n",
    "        if (!string.IsNullOrWhiteSpace(arquivo))\n",
    "        {\n",
    "            // Salva o arquivo\n",
    "            SalvarArquivo(arquivo); \n",
    "        }\n",
    "    }\n",
    "}\n",
    "\n",
    "// Método para o usuário poder escolher o arquivo no disco dele\n",
    "private string EscolherARquivo()\n",
    "{   \n",
    "    // Retorno caso o usuário cancela a operação de escolha\n",
    "    var retorno = string.Empty; \n",
    "    // Cria um objeto do tipo OpenFileDialog, que é uma caixa de diálogo do windows para o usuário escolher o arquivo\n",
    "    using(var dialog = new OpenFileDialog())\n",
    "    {   \n",
    "        // Se o resulatdo é OK, então o usuário de fato escolheu um arquivo.\n",
    "        if(dialog.ShowDialog() == DialogResult.OK)\n",
    "        {\n",
    "            retorno = dialog.FileName;\n",
    "        }   \n",
    "        else\n",
    "        {\n",
    "            retorno = string.Empty;\n",
    "        }\n",
    "    }  \n",
    "    return retorno;\n",
    "}\n",
    "\n",
    "\n",
    "// Método para salvar o arquivo recebendo o caminho do arquivo\n",
    "\n",
    "private void SalvarArquivo(string arquivo)\n",
    "{\n",
    "    conn.Open();\n",
    "    try\n",
    "    {\n",
    "        using (var cmd = conn.CreateCommand())\n",
    "        {\n",
    "            cmd.CommandText = \"INSERT INTO NomeTabela (Col1, Col2) VALUES (@NomeArquivo, @CaminhoArquivo)\";\n",
    "            // Método para adicionar os arquivos\n",
    "            ConfigurarParametrosSalvar(cmd, arquivo);\n",
    "            conn.ExecuteNonQuery();\n",
    "            // Refresh do grid\n",
    "            CarregarGrid();\n",
    "        }\n",
    "}\n",
    "\n",
    "// Método para adicionar os arquivos\n",
    "private void ConfigurarParametrosSalvar(IDbCommand cmd, string arquivo)\n",
    "{\n",
    "    // Adiciona o parâmetro @NomeArquivo baseado no caminho do arquivo completo\n",
    "    cmd.Parameters.Add(new SqlParameter(\"NomeArquivo\", Path.GetFileName(arquivo)));\n",
    "    // Adiciona o parâmetro @CaminhoArquivo baseado no caminho do arquivo completo\n",
    "    cmd.Parameters.Add(new SqlParameter(\"CaminhoArquivo\", File.ReadAllBytes(arquivo)));   \n",
    "}"
   ]
  },
  {
   "cell_type": "code",
   "execution_count": null,
   "metadata": {
    "vscode": {
     "languageId": "javascript"
    }
   },
   "outputs": [],
   "source": [
    "// 3. Método para abrir o arquivo\n",
    "\n",
    "private void btnAbrir_Click(object sender, EventArgs e) \n",
    "{\n",
    "    try \n",
    "    {\n",
    "        conn.Open();\n",
    "        using (var cmd = conn.CreateCommand())\n",
    "        {\n",
    "            cmd.CommandText = \"SELECT Arquivo FROM NomeTabela WHERE ID = @ID\";    \n",
    "            ConfigurarParametrosAbrir(cmd); \n",
    "            // Ler o conteúdo que será retornado do arquivo\n",
    "            var bytes = cmd.ExecuteScalar() as byte[];\n",
    "            // Se o conteúdo não for nulo, então abre o arquivo\n",
    "            if(bytes != null)\n",
    "            {\n",
    "                var nomeArquivo = dataGridView1.CurrentRow.Cells[\"NomeArquivo\"].Value.ToString();\n",
    "                var arquivoTemp = Path.GetTempFileName();\n",
    "                // trocar a extensão para a do arquivo original\n",
    "                arquivoTemp = Path.ChangeExtension(arquivoTemp, Path.GetExtension(nomeArquivo));    \n",
    "\n",
    "                File.WriteAllBytes(arquivoTemp, bytes);\n",
    "                // Usa a aplicação default da extensão para abrir o arquivo.\n",
    "                Process.Start(arquivoTemp);\n",
    "\n",
    "            }\n",
    "        }\n",
    "    }\n",
    "}\n",
    "\n",
    "// Método para abrir os arquivos\n",
    "private void ConfigurarParametrosAbrir(IDbCommand cmd)\n",
    "{\n",
    "    // ID da linha selecionada no grid\n",
    "    cmd.Parameters.Add(new SqlParameter(\"ID\", dataGridView1.CurrentRow.Cells[\"ID\"].Value));\n",
    "}"
   ]
  }
 ],
 "metadata": {
  "kernelspec": {
   "display_name": "Python 3.10.4 64-bit",
   "language": "python",
   "name": "python3"
  },
  "language_info": {
   "name": "python",
   "version": "3.10.4"
  },
  "orig_nbformat": 4,
  "vscode": {
   "interpreter": {
    "hash": "aee8b7b246df8f9039afb4144a1f6fd8d2ca17a180786b69acc140d282b71a49"
   }
  }
 },
 "nbformat": 4,
 "nbformat_minor": 2
}
