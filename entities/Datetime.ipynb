{
 "cells": [
  {
   "cell_type": "markdown",
   "metadata": {},
   "source": [
    "# # Datetime\n",
    "\n",
    "* Ref.: https://learn.microsoft.com/pt-br/dotnet/api/system.datetime?view=net-6.0\n",
    "\n",
    "É um tipo struct/valor. Representa um instante. O número de \"ticks\" (100 nanosegundos) desde a meia noite do dia 1 de janeiro do ano 1 da era comum. Ou seja, retorna um número inteiro \"Muito grande\" que pode ser convertido em data usual."
   ]
  },
  {
   "cell_type": "markdown",
   "metadata": {},
   "source": [
    "### Ticks"
   ]
  },
  {
   "cell_type": "code",
   "execution_count": null,
   "metadata": {
    "vscode": {
     "languageId": "javascript"
    }
   },
   "outputs": [],
   "source": [
    "DateTime d1 = DateTime.Now;\n",
    "Console.WriteLine(d1);\n",
    "Console.WriteLine(d1.Ticks);"
   ]
  },
  {
   "cell_type": "markdown",
   "metadata": {},
   "source": [
    "## Instanciação\n",
    "\n",
    "* Construtores\n",
    "    * DateTime(ano, mes, dia)\n",
    "    * DateTime(ano, mes, dia, hora, minuto, segundo) [opcional: kind]\n",
    "    * DateTime(ano, mes, dia, hora, minuto, segundo, milissegundo) [opcional: kind]"
   ]
  },
  {
   "cell_type": "code",
   "execution_count": null,
   "metadata": {
    "vscode": {
     "languageId": "javascript"
    }
   },
   "outputs": [],
   "source": [
    "using System;\n",
    "\n",
    "DateTime d1 = new DateTime(2000, 8, 15);\n",
    "\n",
    "DateTime d2 = new DateTime(2000, 8, 15, 13, 5, 58);\n",
    "\n",
    "DateTime d3 = new DateTime(2000, 8, 15, 13, 5, 58, 275);"
   ]
  },
  {
   "cell_type": "markdown",
   "metadata": {},
   "source": [
    "* Builders\n",
    "    * DateTime.Now\n",
    "    * DateTime.UtcNow\n",
    "    * DateTime.Today [time: 00:00:00]\n",
    "    * DateTime.Parse(string)\n",
    "    * DateTime.ParseExact(string, string)"
   ]
  },
  {
   "cell_type": "code",
   "execution_count": null,
   "metadata": {
    "vscode": {
     "languageId": "javascript"
    }
   },
   "outputs": [],
   "source": [
    "// Data de hoje no horário da máquina\n",
    "DateTime d1 = DateTime.Now; // 2019-08-15 13:05:58.275  \n",
    "\n",
    "// Data de hoje no formato UTC (GMT)\n",
    "DateTime d2 = DateTime.UtcNow; // 2019-08-15 05:05:58.275\n",
    "\n",
    "// Data de hoje zerado\n",
    "DateTime d3 = DateTime.Today; // 2019-08-15 00:00:00.000"
   ]
  },
  {
   "cell_type": "markdown",
   "metadata": {},
   "source": [
    "## Parse\n",
    "\n",
    "Transforma uma representação de data num objeto DateTime."
   ]
  },
  {
   "cell_type": "code",
   "execution_count": null,
   "metadata": {
    "vscode": {
     "languageId": "javascript"
    }
   },
   "outputs": [],
   "source": [
    "DateTime d1 = DateTime.Parse(\"2000-08-15\"); // 2000-08-15 00:00:00.000\n",
    "\n",
    "DateTime d2 = DateTime.Parse(\"2000-08-15 13:05:58\"); // 2000-08-15 13:05:58.000 \n",
    "\n",
    "DateTime d3 = DateTime.Parse(\"15/08/2000\"); // 2000-08-15 00:00:00.000  \n",
    "\n",
    "DateTime d4 = DateTime.Parse(\"15/08/2000 13:05:58\"); // 2000-08-15 13:05:58.000 "
   ]
  },
  {
   "cell_type": "markdown",
   "metadata": {},
   "source": [
    "### ParseExact\n",
    "\n",
    "* Ref.: https://learn.microsoft.com/pt-br/dotnet/api/system.datetime.parseexact?view=net-6.0\n",
    "\n",
    "Aqui vamos criar um Datetime porém num formao customizado.\n",
    "\n"
   ]
  },
  {
   "cell_type": "code",
   "execution_count": null,
   "metadata": {
    "vscode": {
     "languageId": "javascript"
    }
   },
   "outputs": [],
   "source": [
    "using System;\n",
    "using System.Globalization;\n",
    "\n",
    "DateTime d1 = DateTime.ParseExact(\"2000-08-15\", \"yyyy-MM-dd\", CultureInfo.InvariantCulture); \n",
    "\n",
    "DateTime d2 = DateTime.ParseExact(\"15/08/2000 13:05:58\", \"dd/MM/yyyy HH:mm:ss\", CultureInfo.InvariantCulture); "
   ]
  },
  {
   "cell_type": "markdown",
   "metadata": {},
   "source": [
    "# # Propriedades e Operações\n",
    "\n",
    "* Date (DateTime)\n",
    "* Day (int)\n",
    "* DayOfWeek (DayOfWeek)\n",
    "* DayOfYear (int)\n",
    "* Hour (int)\n",
    "* Kind (DateTimeKind)\n",
    "* Millisecond (int)\n",
    "* Minute (int)\n",
    "* Month (int)\n",
    "* Second (int)\n",
    "* Ticks (long)\n",
    "* TimeOfDay (TimeSpan)\n",
    "* Year (int)"
   ]
  },
  {
   "cell_type": "code",
   "execution_count": null,
   "metadata": {
    "vscode": {
     "languageId": "javascript"
    }
   },
   "outputs": [],
   "source": [
    "DateTime d = new DateTime(2001, 8, 15, 13, 45, 58, 275);\n",
    "\n",
    "d // 2001-08-15 13:45:58.275\n",
    "\n",
    "// Traz apenas a data\n",
    "d.Date // 2001-08-15 00:00:00.000\n",
    "\n",
    "// Traz apenas o dia\n",
    "d.Day // 15\n",
    "\n",
    "// Traz apenas o dia do ano\n",
    "d.DayOfYear // 228\n",
    "\n",
    "// Traz apenas o dia da semana\n",
    "d.DayOfWeek // Tuesday\n",
    "\n",
    "// Traz o horário completo\n",
    "d.TimeOfDay // 13:45:58.2750000"
   ]
  },
  {
   "cell_type": "markdown",
   "metadata": {},
   "source": [
    "## Formatação do Datetime\n",
    "\n",
    "Datetime para String"
   ]
  },
  {
   "cell_type": "code",
   "execution_count": null,
   "metadata": {
    "vscode": {
     "languageId": "javascript"
    }
   },
   "outputs": [],
   "source": [
    "DateTime d = new DateTime(2001, 8, 15, 13, 45, 58);\n",
    "\n",
    "string s1 = d.ToLongDateString(); // Tuesday, August 15, 2001\n",
    "\n",
    "string s2 = d.ToLongTimeString(); // 1:45:58 PM \n",
    "\n",
    "string s3 = d.ToShortDateString(); // 8/15/2001\n",
    "\n",
    "string s4 = d.ToShortTimeString(); // 1:45 PM\n",
    "\n",
    "string s5 = d.ToString(); // 8/15/2001 1:45:58 PM   \n",
    "\n",
    "string s6 = d.ToString(\"yyyy-MM-dd HH:mm:ss\"); // 2001-08-15 13:45:58   \n",
    "\n",
    "string s7 = d.ToString(\"yyyy-MM-dd HH:mm:ss.fff\"); // 2001-08-15 13:45:58.000"
   ]
  },
  {
   "cell_type": "markdown",
   "metadata": {},
   "source": [
    "## Operações com Datetime\n",
    "\n",
    "Adiciona ou subtrai valores do datetime"
   ]
  },
  {
   "cell_type": "code",
   "execution_count": null,
   "metadata": {
    "vscode": {
     "languageId": "javascript"
    }
   },
   "outputs": [],
   "source": [
    "DateTime x = new DateTime(2001, 8, 15, 13, 45, 58);\n",
    "\n",
    "// Adiciona o TimeSpan ao DateTime  \n",
    "DateTime y = x.Add(timeSpan); \n",
    "DateTime y = x.AddDays(2); // 2001-08-17 13:45:58   \n",
    "DateTime y = x.AddHours(1); // 2001-08-15 14:45:58\n",
    "DateTime y = x.AddMilliseconds(double);\n",
    "DateTime y = x.AddMinutes(double);\n",
    "DateTime y = x.AddMonths(int);\n",
    "DateTime y = x.AddSeconds(double);\n",
    "DateTime y = x.AddTicks(long);\n",
    "DateTime y = x.AddYears(int);\n",
    "\n",
    "// Subtrai um TimeSpan de um DateTime   \n",
    "DateTime y = x.Subtract(timeSpan); \n",
    "// Subtrai um DateTime de outro DateTime    \n",
    "TimeSpan t = x.Subtract(dateTime); "
   ]
  },
  {
   "cell_type": "markdown",
   "metadata": {},
   "source": [
    "# # DateTimeKind\n",
    "\n",
    "- Tipo enumerado especial que define três valores possíveis para a localidade da data:\n",
    "    * Local [ fuso horário do sistema. Exemplo: São Paulo = GMT -3 ]\n",
    "    * Utc [ fuso horário GMT (Greenwich Mean Time) ]\n",
    "    * Unspecified\n",
    "\n",
    "- Boa prática:\n",
    "    * Armazenar em formato UTC (texto: BD / Json / XML)\n",
    "    * Instanciar e mostrar em formato Local\n",
    "\n",
    "- Para converter um DateTime para Local ou Utc, você deve usar:\n",
    "    *  myDate.ToLocalTime()\n",
    "    * myDate.ToUniversalTime()"
   ]
  },
  {
   "cell_type": "code",
   "execution_count": null,
   "metadata": {
    "vscode": {
     "languageId": "javascript"
    }
   },
   "outputs": [],
   "source": [
    "// Manualmente definindo a data como se fosse o horário local\n",
    "\n",
    "DateTime d1 = new DateTime(2000, 8, 15, 13, 5, 58, DateTimeKind.Local);\n",
    "d1 \n",
    "d1.Kind \n",
    "d1.ToLocalTime(); \n",
    "d1.ToUniversalTime(); \n",
    "\n",
    "// Manualmente definindo a data como se fosse o horário UTC (GMT)\n",
    "DateTime d2 = new DateTime(2000, 8, 15, 13, 5, 58, DateTimeKind.Utc);\n",
    "d2 \n",
    "d2.Kind \n",
    "d2.ToLocalTime(); \n",
    "d2.ToUniversalTime(); \n",
    "\n",
    "// Data de hoje no horário da máquina\n",
    "DateTime d3 = new DateTime(2000, 8, 15, 13, 5, 58);\n",
    "d3 \n",
    "d3.Kind \n",
    "d3.ToLocalTime();  \n",
    "d3.ToUniversalTime(); "
   ]
  },
  {
   "cell_type": "markdown",
   "metadata": {},
   "source": [
    "# # Padrão ISO 8601\n",
    "\n",
    "* Ref.: https://en.wikipedia.org/wiki/ISO_8601\n",
    "\n",
    "* Formato: yyyy-MM-ddTHH:mm:ssZ\n",
    "    * Z indica que a data/hora está em Utc"
   ]
  },
  {
   "cell_type": "code",
   "execution_count": null,
   "metadata": {
    "vscode": {
     "languageId": "javascript"
    }
   },
   "outputs": [],
   "source": [
    "DateTime d1 = DateTime.Parse(\"2000-08-15 13:05:58\");\n",
    "Console.WriteLine(\"d1: \" + d1); \n",
    "Console.WriteLine(\"d1 Kind: \" + d1.Kind); \n",
    "Console.WriteLine(\"d1 to Local: \" + d1.ToLocalTime()); \n",
    "Console.WriteLine(\"d1 to Utc: \" + d1.ToUniversalTime()); \n",
    "\n",
    "// Formato ISO 8601\n",
    "DateTime d2 = DateTime.Parse(\"2000-08-15T13:05:58Z\"); // cria local DateTime\n",
    "Console.WriteLine(\"d2: \" + d2); \n",
    "Console.WriteLine(\"d2 Kind: \" + d2.Kind); \n",
    "Console.WriteLine(\"d2 to Local: \" + d2.ToLocalTime()); \n",
    "Console.WriteLine(\"d2 to Utc: \" + d2.ToUniversalTime()); \n",
    "\n",
    "// Formato ISO 8601\n",
    "Console.WriteLine(d2.ToString(\"yyyy-MM-ddTHH:mm:ssZ\")); // cuidado!\n",
    "Console.WriteLine(d2.ToUniversalTime().ToString(\"yyyy-MM-ddTHH:mm:ssZ\")); "
   ]
  }
 ],
 "metadata": {
  "kernelspec": {
   "display_name": "Python 3.10.4 64-bit",
   "language": "python",
   "name": "python3"
  },
  "language_info": {
   "codemirror_mode": {
    "name": "ipython",
    "version": 3
   },
   "file_extension": ".py",
   "mimetype": "text/x-python",
   "name": "python",
   "nbconvert_exporter": "python",
   "pygments_lexer": "ipython3",
   "version": "3.10.4"
  },
  "orig_nbformat": 4,
  "vscode": {
   "interpreter": {
    "hash": "aee8b7b246df8f9039afb4144a1f6fd8d2ca17a180786b69acc140d282b71a49"
   }
  }
 },
 "nbformat": 4,
 "nbformat_minor": 2
}
