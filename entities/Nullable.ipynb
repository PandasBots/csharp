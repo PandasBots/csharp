{
 "cells": [
  {
   "cell_type": "markdown",
   "metadata": {},
   "source": [
    "# # Nullable - Valores Anuláveis\n",
    "\n",
    "* Ref.: https://learn.microsoft.com/pt-br/dotnet/csharp/language-reference/builtin-types/nullable-value-types\n",
    "\n",
    "É um recurso para poder atribuir o valor 'null' a objetos do tipo struct (valor)."
   ]
  },
  {
   "cell_type": "markdown",
   "metadata": {},
   "source": [
    "## Declaração de variável Nullable"
   ]
  },
  {
   "cell_type": "code",
   "execution_count": null,
   "metadata": {},
   "outputs": [],
   "source": [
    "double? x = null;"
   ]
  },
  {
   "cell_type": "markdown",
   "metadata": {},
   "source": [
    "## GetValueOrDefault / HasValue\n",
    "\n",
    "Comando para obter o valor da variável, ou valor default da variável se não existir.\n",
    "\n",
    "* HasValue é bool que traz false se a variável for null e true caso contrário."
   ]
  },
  {
   "cell_type": "code",
   "execution_count": null,
   "metadata": {
    "vscode": {
     "languageId": "javascript"
    }
   },
   "outputs": [],
   "source": [
    "double? x = null;\n",
    "double? y = 10.0;\n",
    "\n",
    "x.GetValueOrDefault(); // returns 0\n",
    "y.GetValueOrDefault(); // returns 10    \n",
    "\n",
    "x.HasValue; // returns false    \n",
    "y.HasValue; // returns true\n",
    "\n",
    "x.Value; // throws InvalidOperationException. O C# Nao traz valor quando o objeto é nulo.\n",
    "y.Value; // returns 10"
   ]
  },
  {
   "cell_type": "markdown",
   "metadata": {},
   "source": [
    "## Operador Coalescencia Nula\n",
    "\n",
    "* Ref.: https://learn.microsoft.com/pt-br/dotnet/csharp/language-reference/operators/null-coalescing-operator\n",
    "\n",
    "Funciona como um IF, que atribui uma operação caso o objeto seja nulo."
   ]
  },
  {
   "cell_type": "code",
   "execution_count": null,
   "metadata": {
    "vscode": {
     "languageId": "javascript"
    }
   },
   "outputs": [],
   "source": [
    "double? x = null;\n",
    "double? y = 10.0;   \n",
    "\n",
    "// No a/b estou enviando o valor de x/y caso não sejam nulos. Se forem, recebem -1.\n",
    "double a = x ?? -1; // returns -1\n",
    "double b = y ?? -1; // returns 10"
   ]
  }
 ],
 "metadata": {
  "kernelspec": {
   "display_name": "Python 3.10.4 64-bit",
   "language": "python",
   "name": "python3"
  },
  "language_info": {
   "name": "python",
   "version": "3.10.4"
  },
  "orig_nbformat": 4,
  "vscode": {
   "interpreter": {
    "hash": "aee8b7b246df8f9039afb4144a1f6fd8d2ca17a180786b69acc140d282b71a49"
   }
  }
 },
 "nbformat": 4,
 "nbformat_minor": 2
}
