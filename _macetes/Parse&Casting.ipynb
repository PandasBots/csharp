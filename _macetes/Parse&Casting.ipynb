{
 "cells": [
  {
   "cell_type": "markdown",
   "metadata": {},
   "source": [
    "# Conversão de tipos de dados\n"
   ]
  },
  {
   "cell_type": "markdown",
   "metadata": {},
   "source": [
    "* O tipo double (8 bytes) contém o tipo float (4 bytes). Assim, é possível atribuir um float num double. Porém o inverso não é sempre possível, pois isso pode acarretar a perda de informação (na forma de casas decimais e precisão menor)."
   ]
  },
  {
   "cell_type": "code",
   "execution_count": null,
   "metadata": {
    "dotnet_interactive": {
     "language": "csharp"
    },
    "vscode": {
     "languageId": "dotnet-interactive.csharp"
    }
   },
   "outputs": [
    {
     "ename": "Error",
     "evalue": "(6,5): error CS0266: Não é possível converter implicitamente tipo \"double\" em \"float\". Existe uma conversão explícita (há uma conversão ausente?)",
     "output_type": "error",
     "traceback": [
      "(6,5): error CS0266: Não é possível converter implicitamente tipo \"double\" em \"float\". Existe uma conversão explícita (há uma conversão ausente?)"
     ]
    }
   ],
   "source": [
    "double a;\n",
    "float b;\n",
    "\n",
    "a = 1.0;\n",
    "\n",
    "b = a;"
   ]
  },
  {
   "cell_type": "code",
   "execution_count": null,
   "metadata": {
    "dotnet_interactive": {
     "language": "csharp"
    },
    "vscode": {
     "languageId": "dotnet-interactive.csharp"
    }
   },
   "outputs": [
    {
     "name": "stdout",
     "output_type": "stream",
     "text": [
      "double a = 1,233243242324 e \n",
      "float b com perda de precisão = 1,2332432 e\n",
      "int c com perda de precisão = 1"
     ]
    }
   ],
   "source": [
    "double a;\n",
    "float b;\n",
    "int c;\n",
    "\n",
    "a = 1.233243242324;\n",
    "\n",
    "// Casting - Força a mudança de tipo para float\n",
    "b = (float)a;\n",
    "\n",
    "// Casting - Força a mudança de tipo para int\n",
    "c = (int)a;\n",
    "\n",
    "Console.Write($@\"double a = {a} e \n",
    "float b com perda de precisão = {b} e\n",
    "int c com perda de precisão = {c}\");    \n"
   ]
  },
  {
   "cell_type": "markdown",
   "metadata": {},
   "source": [
    "* Repare que ao realizar cálculos, o programa mantém o tipo das variáveis usadas no cálculo."
   ]
  },
  {
   "cell_type": "code",
   "execution_count": null,
   "metadata": {
    "dotnet_interactive": {
     "language": "csharp"
    },
    "vscode": {
     "languageId": "dotnet-interactive.csharp"
    }
   },
   "outputs": [
    {
     "name": "stdout",
     "output_type": "stream",
     "text": [
      "c = 1 e System.Double - Sem casting não traz a precisão que queremos.\n",
      "d = 1,8 e System.Double - Com casting"
     ]
    }
   ],
   "source": [
    "int a = 9;\n",
    "int b = 5;\n",
    "\n",
    "double c = a / b;\n",
    "\n",
    "double d = (double) a / b;\n",
    "\n",
    "Console.Write($@\"c = {c} e {c.GetType()} - Sem casting não traz a precisão que queremos.\n",
    "d = {d} e {d.GetType()} - Com casting\");"
   ]
  },
  {
   "cell_type": "markdown",
   "metadata": {},
   "source": [
    "## Parse\n",
    "\n",
    "Útil quando quer transformar uma string em inteiro, char, double, etc.\n",
    "\n",
    "Lembre-se que o ReadLine sempre gera strings!"
   ]
  },
  {
   "cell_type": "code",
   "execution_count": null,
   "metadata": {
    "dotnet_interactive": {
     "language": "csharp"
    },
    "vscode": {
     "languageId": "dotnet-interactive.csharp"
    }
   },
   "outputs": [
    {
     "data": {
      "text/html": [
       "<div class=\"dni-plaintext\">35</div>"
      ]
     },
     "metadata": {},
     "output_type": "display_data"
    }
   ],
   "source": [
    "string n1 = \"35\";\n",
    "\n",
    "int n2 = int.Parse(n1);\n",
    "\n",
    "n2"
   ]
  },
  {
   "cell_type": "code",
   "execution_count": null,
   "metadata": {
    "dotnet_interactive": {
     "language": "csharp"
    },
    "vscode": {
     "languageId": "dotnet-interactive.csharp"
    }
   },
   "outputs": [],
   "source": []
  }
 ],
 "metadata": {
  "kernelspec": {
   "display_name": ".NET (C#)",
   "language": "C#",
   "name": ".net-csharp"
  },
  "language_info": {
   "file_extension": ".cs",
   "mimetype": "text/x-csharp",
   "name": "C#",
   "pygments_lexer": "csharp",
   "version": "9.0"
  },
  "orig_nbformat": 4,
  "vscode": {
   "interpreter": {
    "hash": "aee8b7b246df8f9039afb4144a1f6fd8d2ca17a180786b69acc140d282b71a49"
   }
  }
 },
 "nbformat": 4,
 "nbformat_minor": 2
}
