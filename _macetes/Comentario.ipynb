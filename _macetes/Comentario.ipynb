{
 "cells": [
  {
   "cell_type": "markdown",
   "metadata": {},
   "source": [
    "# # Comentários\n",
    "\n",
    "* // : Para comentar uma linha de código.\n",
    "* /* <texto> */ : Para comentar várias linhas de código."
   ]
  },
  {
   "cell_type": "markdown",
   "metadata": {},
   "source": [
    "# # Region\n",
    "\n",
    "Para esconder um trecho de código, use a estrutura:\n",
    "\n",
    "```\n",
    "#region <NomeDaRegiao>\n",
    "\n",
    "...\n",
    "\n",
    "#endregion\n",
    "```"
   ]
  }
 ],
 "metadata": {
  "kernelspec": {
   "display_name": ".NET (C#)",
   "language": "C#",
   "name": ".net-csharp"
  },
  "language_info": {
   "file_extension": ".cs",
   "mimetype": "text/x-csharp",
   "name": "C#",
   "pygments_lexer": "csharp",
   "version": "9.0"
  },
  "orig_nbformat": 4,
  "vscode": {
   "interpreter": {
    "hash": "c38167cce9b6215bf1de306282b2a82f949b6e4277c1cdd6673e9503c3de574b"
   }
  }
 },
 "nbformat": 4,
 "nbformat_minor": 2
}
