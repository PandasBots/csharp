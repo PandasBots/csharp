{
 "cells": [
  {
   "cell_type": "markdown",
   "metadata": {},
   "source": [
    "# VS Studio"
   ]
  },
  {
   "cell_type": "markdown",
   "metadata": {},
   "source": [
    "## Debugging\n",
    "\n",
    "<div>\n",
    "<img src=\"img/vstudio.png\" width=\"500\"/>\n",
    "</div>\n",
    "\n",
    "* Iniciar debug (F5)\n",
    "\n",
    "* Breakpoint (F9)\n",
    "\n",
    "Ponto de parada do debug. Assim, depois de começar a executar o programa, terá uma parada nesta linha. Útil para quando estamos rodando tudo automaticamente.\n",
    "\n",
    "* Execução passo a passo sem entrar na função (F10)\n",
    "\n",
    "* Execução passo a passo entrando na função (F11)\n",
    "\n",
    "* SHIFT + F5: Interrompe o debug.\n",
    "\n",
    "* Aba LOCALS\n",
    "\n",
    "Exibe o valor das variáveis do escopo no momento que o debug estiver."
   ]
  },
  {
   "cell_type": "markdown",
   "metadata": {},
   "source": []
  },
  {
   "cell_type": "markdown",
   "metadata": {},
   "source": []
  }
 ],
 "metadata": {
  "interpreter": {
   "hash": "aee8b7b246df8f9039afb4144a1f6fd8d2ca17a180786b69acc140d282b71a49"
  },
  "kernelspec": {
   "display_name": ".NET (C#)",
   "language": "C#",
   "name": ".net-csharp"
  },
  "language_info": {
   "file_extension": ".cs",
   "mimetype": "text/x-csharp",
   "name": "C#",
   "pygments_lexer": "csharp",
   "version": "9.0"
  },
  "orig_nbformat": 4
 },
 "nbformat": 4,
 "nbformat_minor": 2
}
