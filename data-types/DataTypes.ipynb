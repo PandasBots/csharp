{
 "cells": [
  {
   "cell_type": "markdown",
   "metadata": {},
   "source": [
    "# Tipos de Dados\n",
    "\n",
    "* Ref.: https://subscription.packtpub.com/book/programming/9781789805864/2/ch02lvl1sec10/basic-data-types"
   ]
  },
  {
   "cell_type": "markdown",
   "metadata": {},
   "source": [
    "# Tipos Básicos Built-in\n",
    "\n",
    "A CLI, que para nossos proprósitos é implementada pelo .NET Framework, é um conjunto de tipos e operações padrões que servem para que diferentes máquinas possam ler e rodar programas em diferentes linguagens. Os tipos de dados são oferecidos no System Namespace do .NET. Entretanto, todos os tipos de dados do .NET possuem um correspondente \"apelido\" no C#. \n",
    "\n",
    "<div>\n",
    "<img src=\"img/type1.png\" width=\"300\"/>\n",
    "</div>"
   ]
  },
  {
   "cell_type": "markdown",
   "metadata": {},
   "source": [
    "## Integer\n",
    "\n",
    "C# suporta 8 tipos inteiros que representam várias faixas de números inteiros.\n",
    "\n",
    "O valor default de todo os inteiros é 0. \n",
    "\n",
    "<div>\n",
    "<img src=\"img/type3.png\" width=\"300\"/>\n",
    "</div>\n",
    "\n",
    "C# define ambos os inteiros com sinal ou sem sinal. A maior diferença de inteiros com ou sem sinal é a forma com a qual o bit de maior ordem é lido. Se o inteiro tem sinal, então o bit de maior ordem é o que define o sinal (sign flag bit). Se o sign flag bit é 0, então o número é positivo, se for 1, então o número é negativo. Por isso, ao invés de 256 números (no caso do sbyte), temos 255, pois um dos 256 bits é usado para definir o sinal."
   ]
  },
  {
   "cell_type": "markdown",
   "metadata": {},
   "source": [
    "* Os tipos integrais sempre contém duas características, MinValue e MaxValue que exibem os valores max e min suportados.\n"
   ]
  },
  {
   "cell_type": "code",
   "execution_count": null,
   "metadata": {
    "dotnet_interactive": {
     "language": "csharp"
    },
    "vscode": {
     "languageId": "dotnet-interactive.csharp"
    }
   },
   "outputs": [
    {
     "name": "stdout",
     "output_type": "stream",
     "text": [
      "O tipo int está no range: [-2147483648,2147483647] e o tipo sbyte está no range [-128,127]\n"
     ]
    }
   ],
   "source": [
    "int a = int.MinValue; \n",
    "int b = int.MaxValue; \n",
    "sbyte c = sbyte.MinValue;   \n",
    "sbyte d = sbyte.MaxValue;   \n",
    "\n",
    "Console.WriteLine($\"O tipo int está no range: [{a},{b}] e o tipo sbyte está no range [{c},{d}]\");"
   ]
  },
  {
   "cell_type": "markdown",
   "metadata": {},
   "source": [
    "* Inteiros literais, ou seja, números que aparecem diretamente no código, (0, -42, etc..) podem ser especificados como decimal, hexadecimal ou binários. Decimais não requerem sufixos, hexadecimais possuem o prefixo 0x ou 0X e binários os prefixos 0b ou 0B. O underscore (_) pode ser usado como separador de dígitos quando necessário."
   ]
  },
  {
   "cell_type": "code",
   "execution_count": null,
   "metadata": {
    "dotnet_interactive": {
     "language": "csharp"
    },
    "vscode": {
     "languageId": "dotnet-interactive.csharp"
    }
   },
   "outputs": [
    {
     "name": "stdout",
     "output_type": "stream",
     "text": [
      " Dec = 42 Hex = 42 Bin = 42\n"
     ]
    }
   ],
   "source": [
    "int dec = 42;\n",
    "int hex = 0x2A;\n",
    "int bin = 0b_101010;\n",
    "\n",
    "Console.WriteLine($\" Dec = {dec} Hex = {hex} Bin = {bin}\"); "
   ]
  },
  {
   "cell_type": "markdown",
   "metadata": {},
   "source": [
    "* Um inteiro sem sufixo é considerado um int. Para indicar um inteiro do tipo long, use l ou L quando tiver sinal, e ul ou UL quando não tiver sinal."
   ]
  },
  {
   "cell_type": "code",
   "execution_count": null,
   "metadata": {
    "dotnet_interactive": {
     "language": "csharp"
    },
    "vscode": {
     "languageId": "dotnet-interactive.csharp"
    }
   },
   "outputs": [],
   "source": [
    "long a = -10L; // long\n",
    "ulong b = 10UL; // unsigned long"
   ]
  },
  {
   "cell_type": "markdown",
   "metadata": {},
   "source": [
    "# Float\n",
    "\n",
    "Tipo Float é usado para representar frações. Há dois tipos floats no C#. (Definição da Institute of Electrical and Electronics Engineers)\n",
    "\n",
    "* Float Type: Representa um número com 32-bit, single-precision.\n",
    "* Double Type: Representa um número com 64-bit, double-precision.\n",
    "\n",
    "<div>\n",
    "<img src=\"img/type4.png\" width=\"300\"/>\n",
    "</div>\n",
    "\n",
    "O valor default do float é 0. Também definem um MinValue e MaxValeu. Porém, definem um elemento que não é número (System.Double.NaN) e outro que representa o infinito (System.Double.NegativeInfinity and System.Double.PositiveInfinity)\n"
   ]
  },
  {
   "cell_type": "markdown",
   "metadata": {},
   "source": [
    "Por definição, um número não inteiro (como 42.99) é considerado um DOUBLE. Se quiser especificar como float, use f ou F no final. Para double, use d ou D.\n",
    "\n",
    "Floats são aproximações, com perda de precisão em casos maiores. Portanto, use Decial quando precisão for muito importante."
   ]
  },
  {
   "cell_type": "code",
   "execution_count": null,
   "metadata": {
    "dotnet_interactive": {
     "language": "csharp"
    },
    "vscode": {
     "languageId": "dotnet-interactive.csharp"
    }
   },
   "outputs": [
    {
     "name": "stdout",
     "output_type": "stream",
     "text": [
      "a = 42,99 b = 19,5 c = -1,23\n"
     ]
    }
   ],
   "source": [
    "var a = 42.99;\n",
    "float b = 19.50F;\n",
    "System.Double c = -1.23D;\n",
    "\n",
    "Console.WriteLine($\"a = {a} b = {b} c = {c}\");"
   ]
  },
  {
   "cell_type": "markdown",
   "metadata": {
    "dotnet_interactive": {
     "language": "csharp"
    }
   },
   "source": [
    "## Decimal\n",
    "\n",
    "Um tipo decimal por representar até 28 casas decimais. Pode ser especificado usando m ou M.\n",
    "\n",
    "O tipo decimal é desenhado para ocasiões onde precisão é fundamental. Double e Float são mais rápidos em contra-partida.\n",
    "\n",
    "<div>\n",
    "<img src=\"img/type5.png\" width=\"300\"/>\n",
    "</div>"
   ]
  },
  {
   "cell_type": "code",
   "execution_count": null,
   "metadata": {
    "dotnet_interactive": {
     "language": "csharp"
    },
    "vscode": {
     "languageId": "dotnet-interactive.csharp"
    }
   },
   "outputs": [
    {
     "name": "stdout",
     "output_type": "stream",
     "text": [
      "a = 42,99 b = 12,45 c = 100,75\n"
     ]
    }
   ],
   "source": [
    "decimal a = 42.99m;\n",
    "var b = 12.45m;\n",
    "System.Decimal c = 100.75M;\n",
    "\n",
    "Console.WriteLine($\"a = {a} b = {b} c = {c}\");"
   ]
  },
  {
   "cell_type": "code",
   "execution_count": null,
   "metadata": {
    "dotnet_interactive": {
     "language": "csharp"
    },
    "vscode": {
     "languageId": "dotnet-interactive.csharp"
    }
   },
   "outputs": [
    {
     "name": "stdout",
     "output_type": "stream",
     "text": [
      "Decimal: 0,9999999999999999999999999999. Arredondamento do Decimal: 1\n"
     ]
    }
   ],
   "source": [
    "// Arredondamento\n",
    "\n",
    "Console.WriteLine($\"Decimal: {1m / 3 * 3}. Arredondamento do Decimal: {Math.Round(1m / 3 * 3)}\"); "
   ]
  },
  {
   "cell_type": "markdown",
   "metadata": {},
   "source": [
    "### Comparando precisões"
   ]
  },
  {
   "cell_type": "code",
   "execution_count": null,
   "metadata": {
    "dotnet_interactive": {
     "language": "csharp"
    },
    "vscode": {
     "languageId": "dotnet-interactive.csharp"
    }
   },
   "outputs": [
    {
     "data": {
      "text/html": [
       "<div class=\"dni-plaintext\">0.11111111</div>"
      ]
     },
     "metadata": {},
     "output_type": "display_data"
    }
   ],
   "source": [
    "1f/9"
   ]
  },
  {
   "cell_type": "code",
   "execution_count": null,
   "metadata": {
    "dotnet_interactive": {
     "language": "csharp"
    },
    "vscode": {
     "languageId": "dotnet-interactive.csharp"
    }
   },
   "outputs": [
    {
     "data": {
      "text/html": [
       "<div class=\"dni-plaintext\">0.1111111111111111</div>"
      ]
     },
     "metadata": {},
     "output_type": "display_data"
    }
   ],
   "source": [
    "1d/9"
   ]
  },
  {
   "cell_type": "code",
   "execution_count": null,
   "metadata": {
    "dotnet_interactive": {
     "language": "csharp"
    },
    "vscode": {
     "languageId": "dotnet-interactive.csharp"
    }
   },
   "outputs": [
    {
     "data": {
      "text/html": [
       "<div class=\"dni-plaintext\">0.1111111111111111111111111111</div>"
      ]
     },
     "metadata": {},
     "output_type": "display_data"
    }
   ],
   "source": [
    "1m/9"
   ]
  },
  {
   "cell_type": "code",
   "execution_count": null,
   "metadata": {
    "dotnet_interactive": {
     "language": "csharp"
    },
    "vscode": {
     "languageId": "dotnet-interactive.csharp"
    }
   },
   "outputs": [
    {
     "data": {
      "text/html": [
       "<div class=\"dni-plaintext\">0.9999999999999999999999999999</div>"
      ]
     },
     "metadata": {},
     "output_type": "display_data"
    }
   ],
   "source": [
    "1m/3*3"
   ]
  },
  {
   "cell_type": "markdown",
   "metadata": {},
   "source": [
    "# Char\n",
    "\n",
    "O tipo Char representa um 16-bit unicode caractere. Unicode define um conjunto de caracteres que são mais comuns nas linguagens do mundo. Caracteres são definidos usando aspas ('CARACTER').\n",
    "\n",
    "* Valor padrão do Char é: '\\0', '\\x0000', or '\\u0000'.\n",
    "\n",
    "<div>\n",
    "<img src=\"img/type6.png\" width=\"300\"/>\n",
    "</div>\n",
    "\n",
    "Caracteres podem ser literais (Como os escritos na linguagem comum), hexadecimais ('xdddd') ou unicode ('\\udddd') onde dddd é um hexadecimal 16."
   ]
  },
  {
   "cell_type": "code",
   "execution_count": null,
   "metadata": {
    "dotnet_interactive": {
     "language": "csharp"
    },
    "vscode": {
     "languageId": "dotnet-interactive.csharp"
    }
   },
   "outputs": [
    {
     "name": "stdout",
     "output_type": "stream",
     "text": [
      "a = A b = h c = ᗾ\n"
     ]
    }
   ],
   "source": [
    "char a = 'A';\n",
    "char b = '\\x0068'; // \\\\x é o prefixo para hexadecimal\n",
    "char c = '\\u15FE'; // \\\\u é o prefixo para unicode  \n",
    "\n",
    "Console.WriteLine($\"a = {a} b = {b} c = {c}\");"
   ]
  },
  {
   "cell_type": "markdown",
   "metadata": {},
   "source": [
    "## Boolean\n",
    "\n",
    "O valor padrão do tipo Bool é false. Muito utilizado para fazer controle dos programas.\n",
    "\n",
    "<div>\n",
    "<img src=\"img/type7.png\" width=\"300\"/>\n",
    "</div>\n"
   ]
  },
  {
   "cell_type": "code",
   "execution_count": null,
   "metadata": {
    "dotnet_interactive": {
     "language": "csharp"
    },
    "vscode": {
     "languageId": "dotnet-interactive.csharp"
    }
   },
   "outputs": [
    {
     "data": {
      "text/html": [
       "<div class=\"dni-plaintext\">False</div>"
      ]
     },
     "metadata": {},
     "output_type": "display_data"
    }
   ],
   "source": [
    "bool completo = false;\n",
    "completo"
   ]
  },
  {
   "cell_type": "markdown",
   "metadata": {},
   "source": [
    "---\n",
    "\n",
    "# Tipos Não Básicos\n",
    "\n",
    "Para inicializar uma string, use sempre aspas duplas.\n",
    "\n",
    "<div>\n",
    "<img src=\"img/type2.png\" width=\"300\"/>\n",
    "</div>\n",
    "\n",
    "## String\n",
    "\n",
    "Uma string é um array de caracteres. É imutável, ou seja, não se pode mudar uma string, mas apenas criar uma nova. São null-terminated e podem conter qualquer número de caracteres nulos. O tamanho da string contém o número de objetos do tipo char.\n",
    "\n",
    "* Inicializando uma string:"
   ]
  },
  {
   "cell_type": "code",
   "execution_count": null,
   "metadata": {
    "dotnet_interactive": {
     "language": "csharp"
    },
    "vscode": {
     "languageId": "dotnet-interactive.csharp"
    }
   },
   "outputs": [],
   "source": [
    "string s1;                       // unitialized\n",
    "string s2 = null;                // initialized with null\n",
    "string s3 = String.Empty;        // empty string\n",
    "string s4 = \"hello world\";       // initialized with text\n",
    "var s5 = \"hello world\";\n",
    "System.String s6 = \"hello world\";"
   ]
  },
  {
   "cell_type": "markdown",
   "metadata": {},
   "source": [
    "* Note que a única situação que se usa \"NEW\" para criar um objeto do tipo string é quando você inicializa isso a partir de um array de caracteres."
   ]
  },
  {
   "cell_type": "code",
   "execution_count": null,
   "metadata": {
    "dotnet_interactive": {
     "language": "csharp"
    },
    "vscode": {
     "languageId": "dotnet-interactive.csharp"
    }
   },
   "outputs": [],
   "source": [
    "char[] letters = { 'h', 'e', 'l', 'l', 'o'};\n",
    "string s7 = new string(letters); // from an array of chars"
   ]
  },
  {
   "cell_type": "markdown",
   "metadata": {},
   "source": [
    "* Strings são imutáveis. Você pode acessar uma string, mas não pode muda-la."
   ]
  },
  {
   "cell_type": "code",
   "execution_count": null,
   "metadata": {
    "dotnet_interactive": {
     "language": "csharp"
    },
    "vscode": {
     "languageId": "dotnet-interactive.csharp"
    }
   },
   "outputs": [
    {
     "data": {
      "text/html": [
       "<div class=\"dni-plaintext\">h</div>"
      ]
     },
     "metadata": {},
     "output_type": "display_data"
    }
   ],
   "source": [
    "char c = s4[0];  // OK\n",
    "c\n",
    "\n",
    "// s4[0] = 'H';     // error"
   ]
  },
  {
   "cell_type": "markdown",
   "metadata": {},
   "source": [
    "* No entanto, é claro, você pode criar uma nova string com o mesmo nome da anterior. O que na prática da no mesmo."
   ]
  },
  {
   "cell_type": "code",
   "execution_count": null,
   "metadata": {
    "dotnet_interactive": {
     "language": "csharp"
    },
    "vscode": {
     "languageId": "dotnet-interactive.csharp"
    }
   },
   "outputs": [
    {
     "data": {
      "text/plain": [
       "hello worldhello world"
      ]
     },
     "metadata": {},
     "output_type": "display_data"
    }
   ],
   "source": [
    "string s4 = \"hello world\";\n",
    "s4 = s4+s4;\n",
    "s4"
   ]
  },
  {
   "cell_type": "markdown",
   "metadata": {},
   "source": [
    "### Modificador de String\n",
    "\n",
    "* Remove(): Remove parte da string\n",
    "* ToUpper()/ToLower(): Converte os elementos da string em Upper ou Lower case.\n",
    "\n",
    "Estes métodos não alteram a string."
   ]
  },
  {
   "cell_type": "code",
   "execution_count": null,
   "metadata": {
    "dotnet_interactive": {
     "language": "csharp"
    },
    "vscode": {
     "languageId": "dotnet-interactive.csharp"
    }
   },
   "outputs": [
    {
     "name": "stdout",
     "output_type": "stream",
     "text": [
      "s6 = hello world s8 = hello s9 = HELLO WORLD\n"
     ]
    }
   ],
   "source": [
    "var s8 = s6.Remove(5);       // hello\n",
    "var s9 = s6.ToUpper();       // HELLO WORLD\n",
    "\n",
    "Console.WriteLine($\"s6 = {s6} s8 = {s8} s9 = {s9}\");"
   ]
  },
  {
   "cell_type": "markdown",
   "metadata": {},
   "source": [
    "* É possível converter qualquer built-in type numa string com o método ToString()."
   ]
  },
  {
   "cell_type": "code",
   "execution_count": null,
   "metadata": {
    "dotnet_interactive": {
     "language": "csharp"
    },
    "vscode": {
     "languageId": "dotnet-interactive.csharp"
    }
   },
   "outputs": [
    {
     "name": "stdout",
     "output_type": "stream",
     "text": [
      "s1 = 42 s2 = 19,99\n"
     ]
    }
   ],
   "source": [
    "int i = 42;\n",
    "double d = 19.99;\n",
    "var s1 = i.ToString();\n",
    "var s2 = d.ToString();\n",
    "\n",
    "Console.WriteLine($\"s1 = {s1} s2 = {s2}\");"
   ]
  },
  {
   "cell_type": "markdown",
   "metadata": {},
   "source": [
    "Formas de modificar uma string:\n",
    "\n",
    "* Use + para concatenar.\n",
    "* Usando o método Format()\n",
    "* Usando $"
   ]
  },
  {
   "cell_type": "code",
   "execution_count": null,
   "metadata": {
    "dotnet_interactive": {
     "language": "csharp"
    },
    "vscode": {
     "languageId": "dotnet-interactive.csharp"
    }
   },
   "outputs": [
    {
     "name": "stdout",
     "output_type": "stream",
     "text": [
      "\n",
      "s1 = This is item 42\n",
      "s2 = This is item 42 \n",
      "s3 = This is item 42\n",
      "\n"
     ]
    }
   ],
   "source": [
    "int i = 42;\n",
    "string s1 = \"This is item \" + i.ToString();\n",
    "string s2 = string.Format(\"This is item {0}\", i);\n",
    "string s3 = $\"This is item {i}\";\n",
    "\n",
    "Console.WriteLine(@$\"\n",
    "s1 = {s1}\n",
    "s2 = {s2} \n",
    "s3 = {s3}\n",
    "\");"
   ]
  },
  {
   "cell_type": "markdown",
   "metadata": {},
   "source": [
    "### Caracteres especiais\n",
    "\n",
    "<div>\n",
    "<img src=\"img/type9.png\" width=\"400\"/>\n",
    "</div>"
   ]
  },
  {
   "cell_type": "code",
   "execution_count": null,
   "metadata": {
    "dotnet_interactive": {
     "language": "csharp"
    },
    "vscode": {
     "languageId": "dotnet-interactive.csharp"
    }
   },
   "outputs": [
    {
     "name": "stdout",
     "output_type": "stream",
     "text": [
      "s1 = c:\\Program Files (x86)\\Windows Kits\\ \n",
      "s2 = That was called a \"demo\" \n",
      "s3 = This text\n",
      "spawns multiple lines.\n"
     ]
    }
   ],
   "source": [
    "var s1 = \"c:\\\\Program Files (x86)\\\\Windows Kits\\\\\";\n",
    "var s2 = \"That was called a \\\"demo\\\"\";\n",
    "var s3 = \"This text\\nspawns multiple lines.\";\n",
    "\n",
    "Console.WriteLine($\"s1 = {s1} \\ns2 = {s2} \\ns3 = {s3}\");"
   ]
  },
  {
   "cell_type": "code",
   "execution_count": null,
   "metadata": {
    "dotnet_interactive": {
     "language": "csharp"
    },
    "vscode": {
     "languageId": "dotnet-interactive.csharp"
    }
   },
   "outputs": [
    {
     "name": "stdout",
     "output_type": "stream",
     "text": [
      "\n",
      "s1 = c:\\Program Files (x86)\\Windows Kits\\\n",
      "s2 = That was called a \"demo\" \n",
      "s3 = This text \n",
      "spawns multiple lines.\n",
      "\n"
     ]
    }
   ],
   "source": [
    "\n",
    "var s2 = @\"That was called a \"\"demo\"\"\";\n",
    "var s3 = @\"This text \n",
    "spawns multiple lines.\";\n",
    "\n",
    "Console.WriteLine(@$\"\n",
    "s1 = {s1}\n",
    "s2 = {s2} \n",
    "s3 = {s3}\n",
    "\");"
   ]
  },
  {
   "cell_type": "markdown",
   "metadata": {},
   "source": [
    "## Object\n",
    "\n",
    "O tipo objeto é base para todos os tipos em C#, mesmo que não explicitamente o especifique. Ele possui métodos que são herdados pelos outros tipos de dados.\n",
    "\n",
    "<div>\n",
    "<img src=\"img/type9.png\" width=\"400\"/>\n",
    "</div>"
   ]
  },
  {
   "cell_type": "markdown",
   "metadata": {},
   "source": [
    "### Obter o tipo do objeto: GetType()"
   ]
  },
  {
   "cell_type": "code",
   "execution_count": null,
   "metadata": {
    "dotnet_interactive": {
     "language": "csharp"
    },
    "vscode": {
     "languageId": "dotnet-interactive.csharp"
    }
   },
   "outputs": [
    {
     "data": {
      "text/html": [
       "<span><a href=\"https://docs.microsoft.com/dotnet/api/system.string?view=net-5.0\">System.String</a></span>"
      ]
     },
     "metadata": {},
     "output_type": "display_data"
    }
   ],
   "source": [
    "var s1 = @\"c:\\Program Files (x86)\\Windows Kits\\\";\n",
    "\n",
    "s1.GetType()"
   ]
  },
  {
   "cell_type": "code",
   "execution_count": null,
   "metadata": {
    "dotnet_interactive": {
     "language": "csharp"
    },
    "vscode": {
     "languageId": "dotnet-interactive.csharp"
    }
   },
   "outputs": [
    {
     "data": {
      "text/html": [
       "<span><a href=\"https://docs.microsoft.com/dotnet/api/system.int32?view=net-5.0\">System.Int32</a></span>"
      ]
     },
     "metadata": {},
     "output_type": "display_data"
    }
   ],
   "source": [
    "int i = 42;\n",
    "\n",
    "i.GetType()"
   ]
  },
  {
   "cell_type": "markdown",
   "metadata": {},
   "source": [
    "---\n",
    "\n",
    "# Vetores"
   ]
  },
  {
   "cell_type": "markdown",
   "metadata": {},
   "source": [
    "## Vetor de Strings"
   ]
  },
  {
   "cell_type": "code",
   "execution_count": null,
   "metadata": {
    "dotnet_interactive": {
     "language": "csharp"
    },
    "vscode": {
     "languageId": "dotnet-interactive.csharp"
    }
   },
   "outputs": [
    {
     "ename": "Error",
     "evalue": "(1,24): error CS1001: Identificador esperado\n(1,24): error CS1002: ; esperado\n(1,32): error CS1002: ; esperado\n(1,32): error CS7017: Definição de membro, instrução ou final do arquivo esperado",
     "output_type": "error",
     "traceback": [
      "(1,24): error CS1001: Identificador esperado\n",
      "(1,24): error CS1002: ; esperado\n",
      "(1,32): error CS1002: ; esperado\n",
      "(1,32): error CS7017: Definição de membro, instrução ou final do arquivo esperado"
     ]
    }
   ],
   "source": [
    "string[] s = \"rafael\", \"santos\", \"silva\";\n",
    "\n",
    "s"
   ]
  },
  {
   "cell_type": "code",
   "execution_count": null,
   "metadata": {
    "dotnet_interactive": {
     "language": "csharp"
    },
    "vscode": {
     "languageId": "dotnet-interactive.csharp"
    }
   },
   "outputs": [],
   "source": []
  }
 ],
 "metadata": {
  "kernelspec": {
   "display_name": ".NET (C#)",
   "language": "C#",
   "name": ".net-csharp"
  },
  "language_info": {
   "file_extension": ".cs",
   "mimetype": "text/x-csharp",
   "name": "C#",
   "pygments_lexer": "csharp",
   "version": "9.0"
  },
  "orig_nbformat": 4
 },
 "nbformat": 4,
 "nbformat_minor": 2
}
