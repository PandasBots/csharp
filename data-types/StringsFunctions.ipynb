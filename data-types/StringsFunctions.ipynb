{
 "cells": [
  {
   "cell_type": "markdown",
   "metadata": {},
   "source": [
    "# # Funções com Strings\n",
    "\n",
    "<div>\n",
    "<img src=\"img/condicao.png\" width=\"500\"/>\n",
    "</div>"
   ]
  },
  {
   "cell_type": "markdown",
   "metadata": {},
   "source": [
    "### Conversão de Case"
   ]
  },
  {
   "cell_type": "code",
   "execution_count": null,
   "metadata": {
    "vscode": {
     "languageId": "javascript"
    }
   },
   "outputs": [],
   "source": [
    "string original = \"abcde FGHIJ ABC abc DEFG \";\n",
    "\n",
    "string s1 = original.ToUpper(); // Automaticamente converte para maiúsculas \n",
    "\n",
    "string s2 = original.ToLower(); // Automaticamente converte para minúsculas "
   ]
  },
  {
   "cell_type": "markdown",
   "metadata": {},
   "source": [
    "### Elimina espaços em branco"
   ]
  },
  {
   "cell_type": "code",
   "execution_count": null,
   "metadata": {
    "vscode": {
     "languageId": "javascript"
    }
   },
   "outputs": [],
   "source": [
    "string original = \"abcde FGHIJ ABC abc DEFG \";\n",
    "\n",
    "string s3 = original.Trim(); // Remove espaços em branco no início e no final da string\n"
   ]
  },
  {
   "cell_type": "markdown",
   "metadata": {},
   "source": [
    "### Procura substrings"
   ]
  },
  {
   "cell_type": "code",
   "execution_count": null,
   "metadata": {
    "vscode": {
     "languageId": "javascript"
    }
   },
   "outputs": [],
   "source": [
    "string original = \"abcde FGHIJ ABC abc DEFG \";\n",
    "\n",
    "int n1 = original.IndexOf(\"bc\"); // Retorna a posição da primeira ocorrência da string \"bc\"\n",
    "\n",
    "int n2 = original.LastIndexOf(\"bc\"); // Retorna a posição da última ocorrência da string \"bc\"\n",
    "\n",
    "string s4 = original.Substring(3); // Retorna a substring a partir da posição 3 \n",
    "\n",
    "string s5 = original.Substring(3, 5); // Retorna a substring com 5 caracteres a partir da posição 3 "
   ]
  },
  {
   "cell_type": "markdown",
   "metadata": {},
   "source": [
    "### Replace"
   ]
  },
  {
   "cell_type": "code",
   "execution_count": null,
   "metadata": {
    "vscode": {
     "languageId": "javascript"
    }
   },
   "outputs": [],
   "source": [
    "string original = \"abcde FGHIJ ABC abc DEFG \";\n",
    "\n",
    "string s6 = original.Replace('a', 'x'); // Substitui todas as ocorrências do caractere 'a' por 'x'\n",
    "\n",
    "string s7 = original.Replace(\"abc\", \"xy\"); // Substitui todas as ocorrências da string \"abc\" por \"xy\"\n"
   ]
  },
  {
   "cell_type": "markdown",
   "metadata": {},
   "source": [
    "### Nulos"
   ]
  },
  {
   "cell_type": "code",
   "execution_count": null,
   "metadata": {
    "vscode": {
     "languageId": "javascript"
    }
   },
   "outputs": [],
   "source": [
    "string original = \"abcde FGHIJ ABC abc DEFG \";\n",
    "\n",
    "bool b1 = String.IsNullOrEmpty(original); // Verifica se a string é nula ou vazia\n",
    "\n",
    "bool b2 = String.IsNullOrWhiteSpace(original); // Verifica se a string é nula, vazia ou contém apenas espaços em branco"
   ]
  }
 ],
 "metadata": {
  "kernelspec": {
   "display_name": "Python 3.10.4 64-bit",
   "language": "python",
   "name": "python3"
  },
  "language_info": {
   "name": "python",
   "version": "3.10.4"
  },
  "orig_nbformat": 4,
  "vscode": {
   "interpreter": {
    "hash": "aee8b7b246df8f9039afb4144a1f6fd8d2ca17a180786b69acc140d282b71a49"
   }
  }
 },
 "nbformat": 4,
 "nbformat_minor": 2
}
