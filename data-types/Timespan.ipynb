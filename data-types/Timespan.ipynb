{
 "cells": [
  {
   "cell_type": "markdown",
   "metadata": {},
   "source": [
    "# # Timespan\n",
    "\n",
    "* Ref.: https://learn.microsoft.com/pt-br/dotnet/api/system.timespan?view=net-6.0\n",
    "\n",
    "Struct que representa uma duração. Um objeto TimeSpan internamente armazena uma duração na forma de ticks (100 nanosegundos)"
   ]
  },
  {
   "cell_type": "markdown",
   "metadata": {},
   "source": [
    "## Ticks"
   ]
  },
  {
   "cell_type": "code",
   "execution_count": null,
   "metadata": {
    "vscode": {
     "languageId": "javascript"
    }
   },
   "outputs": [],
   "source": [
    "TimeSpan t1 = new TimeSpan(0, 1, 30);\n",
    "Console.WriteLine(t1);\n",
    "Console.WriteLine(t1.Ticks);"
   ]
  },
  {
   "cell_type": "markdown",
   "metadata": {},
   "source": [
    "## Construtores\n",
    "\n",
    "* TimeSpan()\n",
    "* TimeSpan(ticks)\n",
    "* TimeSpan(horas, minutos, segundos)\n",
    "* TimeSpan(dias, horas, minutos, segundos)\n",
    "* TimeSpan(dias, horas, minutos, segundos, milissegundos)"
   ]
  },
  {
   "cell_type": "code",
   "execution_count": null,
   "metadata": {
    "vscode": {
     "languageId": "javascript"
    }
   },
   "outputs": [],
   "source": [
    "// Duração do insante.\n",
    "TimeSpan t1 = new TimeSpan(); // 00:00:00\n",
    "\n",
    "// Aqui enviamos a quantidade de ticks\n",
    "TimeSpan t2 = new TimeSpan(900000000L); // 00:15:00\n",
    "\n",
    "// Aqui enviamos a quantidade de horas, minutos e segundos\n",
    "TimeSpan t3 = new TimeSpan(2, 11, 21); // 02:11:21\n",
    "\n",
    "// Aqui enviamos a quantidade de dias, horas, minutos e segundos    \n",
    "TimeSpan t4 = new TimeSpan(1, 2, 11, 21); // 1.02:11:21\n",
    "\n",
    "// Aqui enviamos a quantidade de dias, horas, minutos, segundos e milisegundos\n",
    "TimeSpan t5 = new TimeSpan(1, 2, 11, 21, 321); // 1.02:11:21.3210000    "
   ]
  },
  {
   "cell_type": "markdown",
   "metadata": {},
   "source": [
    "## Método From"
   ]
  },
  {
   "cell_type": "code",
   "execution_count": null,
   "metadata": {
    "vscode": {
     "languageId": "javascript"
    }
   },
   "outputs": [],
   "source": [
    "TimeSpan t1 = TimeSpan.FromDays(1.5); // 1 dia e 12 horas   \n",
    "\n",
    "TimeSpan t2 = TimeSpan.FromHours(1.5); // 1 hora e 30 minutos\n",
    "\n",
    "TimeSpan t3 = TimeSpan.FromMinutes(1.5); // 1 minuto e 30 segundos  \n",
    "\n",
    "TimeSpan t4 = TimeSpan.FromSeconds(1.5); // 1.5 segundos    \n",
    "\n",
    "TimeSpan t5 = TimeSpan.FromMilliseconds(1.5); // 1.5 milisegundos \n",
    "\n",
    "TimeSpan t6 = TimeSpan.FromTicks(900000000L); // 15 minutos "
   ]
  },
  {
   "cell_type": "markdown",
   "metadata": {},
   "source": [
    "# # Propriedades e Operações"
   ]
  },
  {
   "cell_type": "code",
   "execution_count": null,
   "metadata": {
    "vscode": {
     "languageId": "javascript"
    }
   },
   "outputs": [],
   "source": [
    "TimeSpan t1 = TimeSpan.MaxValue; // 10675199.02:48:05.4775807   \n",
    "TimeSpan t2 = TimeSpan.MinValue; // -10675199.02:48:05.4775808  \n",
    "TimeSpan t3 = TimeSpan.Zero; // 00:00:00"
   ]
  },
  {
   "cell_type": "markdown",
   "metadata": {},
   "source": [
    "### Operações para obter os valores"
   ]
  },
  {
   "cell_type": "code",
   "execution_count": null,
   "metadata": {
    "vscode": {
     "languageId": "javascript"
    }
   },
   "outputs": [],
   "source": [
    "TimeSpan t = new TimeSpan(2, 3, 5, 7, 11);\n",
    "\n",
    "t // 2.03:05:07.0110000\n",
    "\n",
    "t.Days // 2\n",
    "\n",
    "t.Hours // 3\n",
    "\n",
    "t.Milliseconds // 11\n",
    "\n",
    "t.Minutes // 5  \n",
    "\n",
    "t.Seconds // 7  \n",
    "\n",
    "t.Ticks // 17230701100000"
   ]
  },
  {
   "cell_type": "markdown",
   "metadata": {},
   "source": [
    "### Operações com o timespan"
   ]
  },
  {
   "cell_type": "code",
   "execution_count": null,
   "metadata": {
    "vscode": {
     "languageId": "javascript"
    }
   },
   "outputs": [],
   "source": [
    "TimeSpan t1 = new TimeSpan(1, 30, 10); // 1 hora e 30 minutos e 10 segundos\n",
    "\n",
    "TimeSpan t2 = new TimeSpan(0, 10, 5); // 10 minutos e 5 segundos    \n",
    "\n",
    "TimeSpan sum = t1.Add(t2); // 1 hora e 40 minutos e 15 segundos\n",
    "\n",
    "TimeSpan dif = t1.Subtract(t2); // 1 hora e 20 minutos e 5 segundos\n",
    "\n",
    "TimeSpan mult = t2.Multiply(2.0); // 20 minutos e 10 segundos\n",
    "\n",
    "TimeSpan div = t2.Divide(2.0); // 5 minutos e 2.5 segundos"
   ]
  }
 ],
 "metadata": {
  "kernelspec": {
   "display_name": "Python 3.10.4 64-bit",
   "language": "python",
   "name": "python3"
  },
  "language_info": {
   "name": "python",
   "version": "3.10.4"
  },
  "orig_nbformat": 4,
  "vscode": {
   "interpreter": {
    "hash": "aee8b7b246df8f9039afb4144a1f6fd8d2ca17a180786b69acc140d282b71a49"
   }
  }
 },
 "nbformat": 4,
 "nbformat_minor": 2
}
