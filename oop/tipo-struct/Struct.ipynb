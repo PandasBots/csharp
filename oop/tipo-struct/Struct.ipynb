{
 "cells": [
  {
   "cell_type": "markdown",
   "metadata": {},
   "source": [
    "# Classe X Struct\n",
    "\n",
    "* Classes são tipo Referência.\n",
    "* Structs são tipo Valor.\n",
    "\n",
    "<div>\n",
    "<img src=\"img/resumoclassestruct.png\" width=\"500\"/>\n",
    "</div>"
   ]
  },
  {
   "cell_type": "markdown",
   "metadata": {},
   "source": [
    "## # Classe - Tipo Referência\n",
    "\n",
    "Variáveis do tipo classe são alocadas na memória Stack, e apenas irão apontar o objeto instanciado na memória Heap.\n",
    "\n",
    "No caso abaixo, a variável p1 é o ponteiro que aponta para a memória onde se encontra a informação do objeto.\n",
    "\n",
    "<div>\n",
    "<img src=\"img/tiporef.png\" width=\"500\"/>\n",
    "</div>\n",
    "\n",
    "Atenção para quando igualar um objeto referência com outro. Isso pois se você alterar o objeto p2, também irá alterar o objeto p1, visto que ambos estão apontando para as mesmas informações."
   ]
  },
  {
   "cell_type": "markdown",
   "metadata": {},
   "source": [
    "### Valores NULL\n",
    "\n",
    "Quando um objeto do tipo referência recebe 'null', isso indica que ele não estará apontando para lugar algum.\n",
    "\n",
    "<div>\n",
    "<img src=\"img/null.png\" width=\"500\"/>\n",
    "</div>"
   ]
  },
  {
   "cell_type": "markdown",
   "metadata": {},
   "source": [
    "# # Struct - Tipo Valor\n",
    "\n",
    "São os tipos básicos da linguagem, como int, double, etc. Veja que neste caso o objeto já é alocado diretamente na memória Heap. Além disso, este objeto é de fato o valor, de tal forma que se fizermos y = x, estaremos apenas criando uma cópia das informações de x, em oposição à lógica de ponteiros.\n",
    "\n",
    "<div>\n",
    "<img src=\"img/tipovalor.png\" width=\"500\"/>\n",
    "</div>"
   ]
  },
  {
   "cell_type": "markdown",
   "metadata": {},
   "source": [
    "É posssível criar structs próprios, similarmente à criação de uma classe. Porém sua estrutura será diferente."
   ]
  },
  {
   "cell_type": "code",
   "execution_count": null,
   "metadata": {},
   "outputs": [],
   "source": [
    "// Criando o Struct\n",
    "struct Point {\n",
    "    public double X, Y;\n",
    "    public override string ToString() {\n",
    "        return $\"({X},{Y})\";\n",
    "    }\n",
    "}\n",
    "\n",
    "// Inicializando\n",
    "static void Main(string[] args){\n",
    "    // Veja que o Struct não precisa (mas pode) ser inicializado com: Point p = new Point();\n",
    "    Point p;\n",
    "    p.X = 10;\n",
    "    p.Y = 20;\n",
    "    Console.WriteLine(p);\n",
    "}"
   ]
  }
 ],
 "metadata": {
  "kernelspec": {
   "display_name": "Python 3.7.10",
   "language": "python",
   "name": "python3"
  },
  "language_info": {
   "file_extension": ".cs",
   "mimetype": "text/x-csharp",
   "name": "python",
   "pygments_lexer": "csharp",
   "version": "3.7.10"
  },
  "orig_nbformat": 4,
  "vscode": {
   "interpreter": {
    "hash": "62ac5eec3b562cd8e8a23a4367a248c2f76dc71f53045ec22c89109f963a6f1d"
   }
  }
 },
 "nbformat": 4,
 "nbformat_minor": 2
}
