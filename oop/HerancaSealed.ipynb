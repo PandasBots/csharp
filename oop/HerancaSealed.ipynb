{
 "cells": [
  {
   "cell_type": "markdown",
   "metadata": {},
   "source": [
    "# # Sealed\n",
    "\n",
    "* Classe: Se a classe for `sealed`, evitamos que ela seja herdada.\n",
    "* Método: Se o método for `sealed`, evitamos que um método sobreposto seja sobrescrito novamente.\n",
    "\n",
    "* Vantagens:\n",
    "    * Segurança: De acordo com as regras de negócios.\n",
    "    * Sobreposições múltiplas pode ser origem de inconsistências.\n",
    "    * Performance. Classe selada não tem subclasses, logo não é necessário verificar por subclasses e a execução é mais rápida."
   ]
  },
  {
   "cell_type": "markdown",
   "metadata": {},
   "source": [
    "## Exemplo\n",
    "\n",
    "<div>\n",
    "<img src=\"img/sealed.png\" width=\"500\"/>\n",
    "</div>"
   ]
  },
  {
   "cell_type": "markdown",
   "metadata": {},
   "source": [
    "* Classe Sealed"
   ]
  },
  {
   "cell_type": "code",
   "execution_count": null,
   "metadata": {
    "vscode": {
     "languageId": "javascript"
    }
   },
   "outputs": [],
   "source": [
    "sealed class SavingsAccount\n",
    "{\n",
    "}\n",
    "\n",
    "// Agora teremos erro, pois não podemos herdar de uma classe selada\n",
    "class SavingsAccountPlus : SavingsAccount\n",
    "{\n",
    "} "
   ]
  },
  {
   "cell_type": "markdown",
   "metadata": {},
   "source": [
    "* Método Sealed\n",
    "\n",
    "Apenas aplicado em métodos sobrepostos."
   ]
  },
  {
   "cell_type": "code",
   "execution_count": null,
   "metadata": {
    "vscode": {
     "languageId": "javascript"
    }
   },
   "outputs": [],
   "source": [
    "// Classe Base: Account\n",
    "// Aqui é preciso usar a palavra virtual para que a classe derivada possa sobrescrever o método da classe base\n",
    "public virtual void Withdraw(double amount){\n",
    "    Balance -= amount + 5.0;    \n",
    "}\n",
    "// Classe Derivada: SavingsAccount\n",
    "// Método já sobreposto. Portanto podemos usar sealed.\n",
    "public sealed override void Withdraw(double amount){\n",
    "    Balance -= amount;  \n",
    "}\n",
    "\n",
    "// Classe Derivada: SavingsAccountPlus  \n",
    "// Aqui teremos erro, pois não podemos sobrescrever um método selado    \n",
    "public override void Withdraw(double amount){\n",
    "    Balance -= amount;  \n",
    "}   "
   ]
  }
 ],
 "metadata": {
  "kernelspec": {
   "display_name": "Python 3.10.4 64-bit",
   "language": "python",
   "name": "python3"
  },
  "language_info": {
   "name": "python",
   "version": "3.10.4"
  },
  "orig_nbformat": 4,
  "vscode": {
   "interpreter": {
    "hash": "aee8b7b246df8f9039afb4144a1f6fd8d2ca17a180786b69acc140d282b71a49"
   }
  }
 },
 "nbformat": 4,
 "nbformat_minor": 2
}
