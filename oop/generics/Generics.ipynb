{
 "cells": [
  {
   "cell_type": "markdown",
   "metadata": {},
   "source": [
    "# # Generics\n",
    "\n",
    "* Ref.: https://learn.microsoft.com/pt-br/dotnet/csharp/fundamentals/types/generics\n",
    "\n",
    "* Permitem que classes, métodos e interfaces possam ser parametrizados por tipo. Vantagens:\n",
    "    * Reuso\n",
    "    * Type Safety\n",
    "    * Performance\n",
    "\n",
    "* Uso comum em coleções.\n",
    "\n",
    "```\n",
    "List<string> list = new List<string>();\n",
    "list.Add(\"Maria\");\n",
    "string name = list[0];\n",
    "```"
   ]
  },
  {
   "cell_type": "markdown",
   "metadata": {},
   "source": [
    "# # Uma Explicação"
   ]
  },
  {
   "cell_type": "markdown",
   "metadata": {},
   "source": [
    "## Benefício: Reuso\n",
    "\n",
    "PrintService focado em imprimir strings.\n",
    "\n",
    "<div>\n",
    "<img src=\"_img/gen1.png\" width=\"500\"/>\n",
    "</div>"
   ]
  },
  {
   "cell_type": "code",
   "execution_count": null,
   "metadata": {
    "vscode": {
     "languageId": "javascript"
    }
   },
   "outputs": [],
   "source": [
    "class PrintService\n",
    "{\n",
    "    private int[] _values = new int[10];    \n",
    "    private int _count = 0;\n",
    "\n",
    "    public void AddValue(int value)\n",
    "    {\n",
    "        if(count == 10)\n",
    "        {\n",
    "            throw new InvalidOperationException(\"PrintService is full\");    \n",
    "        }\n",
    "        _values[_count] = value;\n",
    "        _count;\n",
    "    }\n",
    "    public int First()\n",
    "    {\n",
    "        if(_count == 0)\n",
    "        {\n",
    "            throw new InvalidOperationException(\"PrintService is empty\");\n",
    "        }\n",
    "        return _values[0];\n",
    "    }\n",
    "    public void Print()\n",
    "    {\n",
    "        Console.Write(\"[\");\n",
    "        for(int i = 0; i < _count - 1; i++)\n",
    "        {\n",
    "            Console.Write(_values[i] + \", \");\n",
    "        }\n",
    "        if(_count > 0)\n",
    "        {\n",
    "            Console.Write(_values[_count - 1]);\n",
    "        }\n",
    "        Console.WriteLine(\"]\"); \n",
    "    }\n",
    "}\n",
    "\n",
    "\n",
    "// Programa Principal\n",
    "public void Main(string[] args)\n",
    "{\n",
    "    PrintService ps = new PrintService();\n",
    "    Console.WriteLine(\"How many values? \");\n",
    "    int n = int.Parse(Console.ReadLine());  \n",
    "    for(int i = 0; i < n; i++)\n",
    "    {\n",
    "        int x = int.Parse(Console.ReadLine());\n",
    "        ps.AddValue(x);\n",
    "    }\n",
    "    ps.Print();\n",
    "    Console.WriteLine(\"First: \" + ps.First());  \n",
    "    \n",
    "}"
   ]
  },
  {
   "cell_type": "markdown",
   "metadata": {},
   "source": [
    "## Benefício: Type Safety & Performance\n",
    "\n",
    "* Agora um PrintServiceString focado em strings.\n",
    "\n",
    "<div>\n",
    "<img src=\"_img/gen2.png\" width=\"500\"/>\n",
    "</div>"
   ]
  },
  {
   "cell_type": "code",
   "execution_count": null,
   "metadata": {
    "vscode": {
     "languageId": "javascript"
    }
   },
   "outputs": [],
   "source": [
    "class PrintServiceString\n",
    "{\n",
    "    private string[] _values = new string[10];    \n",
    "    private string _count = 0;\n",
    "\n",
    "    public void AddValue(string value)\n",
    "    {\n",
    "        if(count == 10)\n",
    "        {\n",
    "            throw new InvalidOperationException(\"PrintService is full\");    \n",
    "        }\n",
    "        _values[_count] = value;\n",
    "        _count;\n",
    "    }\n",
    "    public string First()\n",
    "    {\n",
    "        if(_count == 0)\n",
    "        {\n",
    "            throw new InvalidOperationException(\"PrintService is empty\");\n",
    "        }\n",
    "        return _values[0];\n",
    "    }\n",
    "    public void Print()\n",
    "    {\n",
    "        Console.Write(\"[\");\n",
    "        for(int i = 0; i < _count - 1; i++)\n",
    "        {\n",
    "            Console.Write(_values[i] + \", \");\n",
    "        }\n",
    "        if(_count > 0)\n",
    "        {\n",
    "            Console.Write(_values[_count - 1]);\n",
    "        }\n",
    "        Console.WriteLine(\"]\"); \n",
    "    }\n",
    "}\n",
    "\n",
    "// Programa Principal\n",
    "public void Main(string[] args)\n",
    "{\n",
    "    PrintServiceString ps = new PrintServiceString();\n",
    "    Console.WriteLine(\"How many values? \");\n",
    "    int n = int.Parse(Console.ReadLine());  \n",
    "    for(int i = 0; i < n; i++)\n",
    "    {\n",
    "        string x = Console.ReadLine();\n",
    "        ps.AddValue(x);\n",
    "    }\n",
    "    ps.Print();\n",
    "    Console.WriteLine(\"First: \" + ps.First());  \n",
    "    \n",
    "}"
   ]
  },
  {
   "cell_type": "markdown",
   "metadata": {},
   "source": [
    "#### PROBLEMA\n",
    "\n",
    "E se quisermos um PrintService que imprime indepentede do tipo do objeto?\n",
    "\n",
    "Uma solução seria colocar o tipo object, que é superclasse de todos os dados. Mas isso não seria seguro, uma vez que abre margem pro usuário criar uma variável string que futuramente pode ser usada como int. Obriga a fazer castings.\n",
    "\n",
    "#### SOLUÇÃO: GENERICS\n",
    "\n",
    "* Parametrização pelo TIPO.\n",
    "\n",
    "A classe agora recebe um tipo genérico do jeito que quiser. No caso demos o nome T."
   ]
  },
  {
   "cell_type": "code",
   "execution_count": null,
   "metadata": {
    "vscode": {
     "languageId": "javascript"
    }
   },
   "outputs": [],
   "source": [
    "class PrintService<T>\n",
    "{\n",
    "    private T[] _values = new T[10];    \n",
    "    private T _count = 0;\n",
    "\n",
    "    public void AddValue(T value)\n",
    "    {\n",
    "        if(count == 10)\n",
    "        {\n",
    "            throw new InvalidOperationException(\"PrintService is full\");    \n",
    "        }\n",
    "        _values[_count] = value;\n",
    "        _count;\n",
    "    }\n",
    "    public T First()\n",
    "    {\n",
    "        if(_count == 0)\n",
    "        {\n",
    "            throw new InvalidOperationException(\"PrintService is empty\");\n",
    "        }\n",
    "        return _values[0];\n",
    "    }\n",
    "    public void Print()\n",
    "    {\n",
    "        Console.Write(\"[\");\n",
    "        for(int i = 0; i < _count - 1; i++)\n",
    "        {\n",
    "            Console.Write(_values[i] + \", \");\n",
    "        }\n",
    "        if(_count > 0)\n",
    "        {\n",
    "            Console.Write(_values[_count - 1]);\n",
    "        }\n",
    "        Console.WriteLine(\"]\"); \n",
    "    }\n",
    "}\n",
    "\n",
    "// Programa Principal. Defina o tipo T e depios instancie com string, int ou como quiser.\n",
    "public void Main(string[] args)\n",
    "{\n",
    "    PrintService<int> ps = new PrintService<int>();\n",
    "    Console.WriteLine(\"How many values? \");\n",
    "    int n = int.Parse(Console.ReadLine());  \n",
    "    for(int i = 0; i < n; i++)\n",
    "    {\n",
    "        int x = int.Parse(Console.ReadLine());  \n",
    "        ps.AddValue(x);\n",
    "    }\n",
    "    int a = ps.First();\n",
    "    int b = a + 2\n",
    "    Console.WriteLine(\"b: \" + b);  \n",
    "\n",
    "    ps.Print();\n",
    "    Console.WriteLine(\"First: \" + ps.First());  \n",
    "    \n",
    "}"
   ]
  },
  {
   "cell_type": "markdown",
   "metadata": {},
   "source": [
    "---\n",
    "# #  Generics por classe\n",
    "\n",
    "### Exemplo Explicativo\n",
    "\n",
    "<div>\n",
    "<img src=\"_img/gen4.png\" width=\"500\"/>\n",
    "</div>"
   ]
  },
  {
   "cell_type": "code",
   "execution_count": null,
   "metadata": {
    "vscode": {
     "languageId": "javascript"
    }
   },
   "outputs": [],
   "source": [
    "// Método Calculation Service. O método é genérico!\n",
    "using System;\n",
    "using System.Collections.Generic;\n",
    "\n",
    "namespace Course.Services {\n",
    "    class CalculationService {\n",
    "        \n",
    "        // Where T para dizer que T é um tipo que implementa a interface IComparable. Resulta em -1,0,1.\n",
    "        public T Max<T>(List<T> list) where T : IComparable  {\n",
    "            if (list.Count == 0) {\n",
    "                throw new ArgumentException(\"The list can not be empty\");\n",
    "            }\n",
    "            // Inicialmente define como o maior elemento da lista a primeira. \n",
    "            T max = list[0];\n",
    "            // Varre demais elementos. Se aparecer um maior, este passa a ser o maior.\n",
    "            for (int i = 0; i < list.Count; i++) {\n",
    "                // Operador de comparação em objeto do Tipo T é CompareTo()\n",
    "                if (list[i].CompareTo(max) > 0) {\n",
    "                    max = list[i];\n",
    "                }\n",
    "            }\n",
    "            return max;\n",
    "        }\n",
    "    }\n",
    "}"
   ]
  },
  {
   "cell_type": "code",
   "execution_count": null,
   "metadata": {
    "vscode": {
     "languageId": "javascript"
    }
   },
   "outputs": [],
   "source": [
    "// Objeto Product\n",
    "using System;\n",
    "using System.Globalization;\n",
    "\n",
    "namespace Course.Entities {\n",
    "    class Product : IComparable {\n",
    "\n",
    "        public string Name { get; set; }\n",
    "        public double Price { get; set; }\n",
    "\n",
    "        public Product(string name, double price) {\n",
    "            Name = name;\n",
    "            Price = price;\n",
    "        }\n",
    "        // Implementação do método CompareTo. Aqui ele compara o preço.\n",
    "        public int CompareTo(object obj) {\n",
    "            if (!(obj is Product)) {\n",
    "                throw new ArgumentException(\"Comparing error: argument is not an Product\");\n",
    "            }\n",
    "            Product other = obj as Product;\n",
    "            return Price.CompareTo(other.Price);\n",
    "        }\n",
    "\n",
    "        public override string ToString() {\n",
    "            return Name\n",
    "                + \", \"\n",
    "                + Price.ToString(\"F2\", CultureInfo.InvariantCulture);\n",
    "        }\n",
    "    }\n",
    "}"
   ]
  },
  {
   "cell_type": "code",
   "execution_count": null,
   "metadata": {
    "vscode": {
     "languageId": "javascript"
    }
   },
   "outputs": [],
   "source": [
    "// Progama principal\n",
    "namespace Course {\n",
    "    class Program {\n",
    "        static void Main(string[] args) {\n",
    "\n",
    "            List<Product> list = new List<Product>();\n",
    "\n",
    "            Console.Write(\"Enter the number of products: \");\n",
    "            int n = int.Parse(Console.ReadLine());\n",
    "\n",
    "            for (int i = 0; i < n; i++) {\n",
    "                string[] vect = Console.ReadLine().Split(',');\n",
    "                double price = double.Parse(vect[1], CultureInfo.InvariantCulture);\n",
    "                list.Add(new Product(vect[0], price));\n",
    "            }\n",
    "\n",
    "            CalculationService calculationService = new CalculationService();\n",
    "\n",
    "            Product p = calculationService.Max(list); // <Product> is optional\n",
    "\n",
    "            Console.WriteLine(\"Most expensive:\");\n",
    "            Console.WriteLine(p);\n",
    "        }\n",
    "    }\n",
    "}"
   ]
  }
 ],
 "metadata": {
  "kernelspec": {
   "display_name": "Python 3.10.4 64-bit",
   "language": "python",
   "name": "python3"
  },
  "language_info": {
   "name": "python",
   "version": "3.10.4"
  },
  "orig_nbformat": 4,
  "vscode": {
   "interpreter": {
    "hash": "aee8b7b246df8f9039afb4144a1f6fd8d2ca17a180786b69acc140d282b71a49"
   }
  }
 },
 "nbformat": 4,
 "nbformat_minor": 2
}
