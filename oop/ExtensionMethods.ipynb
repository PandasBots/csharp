{
 "cells": [
  {
   "cell_type": "markdown",
   "metadata": {},
   "source": [
    "# # Extension Methods\n",
    "\n",
    "* São métodos que estendem a funcionalidade de um tipo, sem precisar alterar o código fonte deste tipo, nem herdar desse tipo. Ou seja, adiciona funcionalidades a tipos padrão.\n",
    "\n",
    "* Como fazer um extension method?\n",
    "    * Criar uma classe estática\n",
    "    * Na classe, criar um método estático\n",
    "    * O primeiro parâmetro do método deverá ter o prefixo this, seguido da declaração de um parâmetro do tipo que se deseja estender. Esta será uma referência para o próprio objeto."
   ]
  },
  {
   "cell_type": "markdown",
   "metadata": {},
   "source": [
    "## Demo 1\n",
    "\n",
    "Vamos criar um extension method chamado \"ElapsedTime()\" no struct DateTime para apresentar um objeto DateTime na forma de tempo decorrido, podendo ser em horas (se menor que 24h) ou em dias caso contrário. \n",
    "\n",
    "Por exemplo:\n",
    "\n",
    "```\n",
    "DateTime dt = new DateTime(2018, 11, 16, 8, 10, 45);\n",
    "\n",
    "Console.WriteLine(dt.ElapsedTime());\n",
    "\"4.5 hours\"\n",
    "\"3.2 days\"\n",
    "```"
   ]
  },
  {
   "cell_type": "code",
   "execution_count": null,
   "metadata": {
    "dotnet_interactive": {
     "language": "csharp"
    },
    "vscode": {
     "languageId": "dotnet-interactive.csharp"
    }
   },
   "outputs": [],
   "source": [
    "// Método que estende a classe DateTime\n",
    "static class DateTimeExtensions\n",
    "{\n",
    "    // Método que calcula a duração. Recebe apenas o próprio objeto como parâmetro.\n",
    "    public static string ElapsedTime(this DateTime thisObj)\n",
    "    {\n",
    "        // Lógica que transforma a data numa duração em horas/dias.\n",
    "        // Tempo decorrido de agora até a data inputada.\n",
    "        TimeSpan duration = DateTime.Now.Subtract(thisObj);\n",
    "        // Se a duração for menor que 24 horas, representa em horas, senão em dias.\n",
    "        if (duration.TotalHours < 24.0)\n",
    "        {\n",
    "            return duration.TotalHours.ToString(\"F1\", CultureInfo.InvariantCulture) + \" hours\";\n",
    "        } \n",
    "        else\n",
    "        {\n",
    "            return duration.TotalDays.ToString(\"F1\", CultureInfo.InvariantCulture) + \" days\";\n",
    "        }\n",
    "    }\n",
    "}\n",
    "\n",
    "// Programa principal\n",
    "class Program\n",
    "{\n",
    "    static void Main(string[] args)\n",
    "    {\n",
    "        // Instanciação de um objeto DateTime\n",
    "        DateTime d = new DateTime(2018, 11, 16, 8, 10, 45);\n",
    "        // Chamada do método ElapsedTime() através da instância do objeto DateTime\n",
    "        Console.WriteLine(d.ElapsedTime()); // 1.5 hours    \n",
    "    }\n",
    "}"
   ]
  },
  {
   "cell_type": "markdown",
   "metadata": {},
   "source": [
    "## Demo 2\n",
    "\n",
    "Vamos criar um extension method chamado \"Cut(int)\" na classe String para receber um valor inteiro como parâmetro e gerar um recorte do string original daquele tamanho. \n",
    "\n",
    "Por exemplo:\n",
    "\n",
    "```\n",
    "String s1 = \"Good morning dear students!\";\n",
    "Console.WriteLine(s1.Cut(10));\n",
    "\"Good morni...\"\n",
    "```"
   ]
  },
  {
   "cell_type": "code",
   "execution_count": null,
   "metadata": {
    "dotnet_interactive": {
     "language": "csharp"
    },
    "vscode": {
     "languageId": "dotnet-interactive.csharp"
    }
   },
   "outputs": [],
   "source": [
    "// Método que estende a classe DateTime\n",
    "static class StringExtensions\n",
    "{\n",
    "    // Método que retorna os X primeiros caracteres de uma string. Recebe o próprio objeto e o número de caracteres.\n",
    "    public static string Cut(this string thisObj, int count)\n",
    "    {\n",
    "        if (thisObj.Length <= count)\n",
    "        {\n",
    "            return thisObj;\n",
    "        }\n",
    "        else\n",
    "        {\n",
    "            return thisObj.Substring(0, count) + \"...\";\n",
    "        }\n",
    "    }\n",
    "}\n",
    "\n",
    "// Programa principal\n",
    "class Program\n",
    "{\n",
    "    static void Main(string[] args)\n",
    "    {\n",
    "        // Instanciação de um objeto DateTime\n",
    "        string s1 = \"Good morning dear students!\";\n",
    "        Console.WriteLine(s1.Cut(10)); // Good morni... \n",
    "    }\n",
    "}"
   ]
  }
 ],
 "metadata": {
  "kernelspec": {
   "display_name": ".NET (C#)",
   "language": "C#",
   "name": ".net-csharp"
  },
  "language_info": {
   "file_extension": ".cs",
   "mimetype": "text/x-csharp",
   "name": "C#",
   "pygments_lexer": "csharp",
   "version": "9.0"
  },
  "orig_nbformat": 4,
  "vscode": {
   "interpreter": {
    "hash": "aee8b7b246df8f9039afb4144a1f6fd8d2ca17a180786b69acc140d282b71a49"
   }
  }
 },
 "nbformat": 4,
 "nbformat_minor": 2
}
