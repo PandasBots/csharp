{
 "cells": [
  {
   "cell_type": "markdown",
   "metadata": {},
   "source": [
    "# # Herança X Interface"
   ]
  },
  {
   "cell_type": "markdown",
   "metadata": {},
   "source": [
    "# # Aspectos em Comum\n",
    "\n",
    "<div>\n",
    "<img src=\"_img/diff.png\" width=\"500\"/>\n",
    "</div>\n",
    "\n",
    "* Da mesma forma que retangulo `é um` shape, um brazilTaxService também `é um` taxService.\n",
    "* Também existe a ideia de tipo específico de um tipo genérico.\n",
    "* Polimorfismo em tempo de execução nas duas situações."
   ]
  },
  {
   "cell_type": "markdown",
   "metadata": {},
   "source": [
    "# # Aspectos Diferentes\n",
    "\n",
    "<div>\n",
    "<img src=\"_img/diff1.png\" width=\"500\"/>\n",
    "</div>\n",
    "\n",
    "* Na herança pode haver um atributo, no caso 'color', que será obrigatoriamente reutilizado pelas classes específicas. Já na interface existe um contrato definido, ou seja, a classe concreta que implemente a classe genérica terá que ter uma determinada operação, no caso, a operação 'tax'. Assim não há reaproveitamento algum.\n",
    "\n",
    "* Mas e se quisermos ter um contrato e um atributo não obrigatóri0? Podemos mesclar as duas situações."
   ]
  },
  {
   "cell_type": "markdown",
   "metadata": {},
   "source": [
    "### Interface + Herança\n",
    "\n",
    "* Ver pasta: interface2.csharp\n",
    "\n",
    "<div>\n",
    "<img src=\"_img/comum.png\" width=\"500\"/>\n",
    "</div>\n",
    "\n",
    "Neste caso, temos um contrato que diz que todo objeto associado tem que ter a operação área, e uma classe abstrata que não possui o método área, mas apenas o atributo cor, que poderá ou não ser incluído nas classes específicas.\n"
   ]
  },
  {
   "cell_type": "markdown",
   "metadata": {},
   "source": []
  }
 ],
 "metadata": {
  "kernelspec": {
   "display_name": ".NET (C#)",
   "language": "C#",
   "name": ".net-csharp"
  },
  "language_info": {
   "file_extension": ".cs",
   "mimetype": "text/x-csharp",
   "name": "C#",
   "pygments_lexer": "csharp",
   "version": "9.0"
  },
  "orig_nbformat": 4,
  "vscode": {
   "interpreter": {
    "hash": "aee8b7b246df8f9039afb4144a1f6fd8d2ca17a180786b69acc140d282b71a49"
   }
  }
 },
 "nbformat": 4,
 "nbformat_minor": 2
}
