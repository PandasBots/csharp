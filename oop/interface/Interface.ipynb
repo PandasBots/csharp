{
 "cells": [
  {
   "cell_type": "markdown",
   "metadata": {},
   "source": [
    "# # Interface\n",
    "\n",
    "* Ref.: https://learn.microsoft.com/pt-br/dotnet/csharp/language-reference/keywords/interface\n",
    "\n",
    "Uma interface define um contrato. Qualquer class um ou struct que implemente esse contrato deve fornecer uma implementação dos membros definidos na interface. Uma interface pode definir uma implementação padrão para membros. Ela também pode definir membros static para fornecer uma única implementação para a funcionalidade comum. A partir do C# 11, uma interface pode definir membros static abstract ou static virtual para declarar que um tipo de implementação deve fornecer os membros declarados. Normalmente, os métodos static virtual declaram que uma implementação deve definir um conjunto de operadores sobrecarregados.\n",
    "\n"
   ]
  },
  {
   "cell_type": "code",
   "execution_count": null,
   "metadata": {},
   "outputs": [],
   "source": []
  },
  {
   "cell_type": "markdown",
   "metadata": {},
   "source": []
  }
 ],
 "metadata": {
  "kernelspec": {
   "display_name": "Python 3.10.4 64-bit",
   "language": "python",
   "name": "python3"
  },
  "language_info": {
   "name": "python",
   "version": "3.10.4"
  },
  "orig_nbformat": 4,
  "vscode": {
   "interpreter": {
    "hash": "aee8b7b246df8f9039afb4144a1f6fd8d2ca17a180786b69acc140d282b71a49"
   }
  }
 },
 "nbformat": 4,
 "nbformat_minor": 2
}
