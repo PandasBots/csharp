{
 "cells": [
  {
   "cell_type": "markdown",
   "metadata": {},
   "source": [
    "# Object\n",
    "\n",
    "* Ref.: https://learn.microsoft.com/pt-br/dotnet/api/system.object?view=net-6.0\n",
    "\n",
    "* Toda Classe customizada criada no C# é sempre uma subclasse da classe \"Object\". Logo, herda suas propriedades."
   ]
  },
  {
   "cell_type": "markdown",
   "metadata": {},
   "source": [
    "## Métodos\n",
    "\n",
    "* Equals(Object): Determina se o objeto especificado é igual ao objeto atual.\n",
    "* Equals(Object, Object): Determina se as instâncias de objeto especificadas são consideradas iguais.\n",
    "* Finalize(): Permite que um objeto tente liberar recursos e executar outras operações de limpeza antes de ser recuperado pela coleta de lixo.\n",
    "* GetHashCode(): Serve como a função de hash padrão.\n",
    "* GetType(): Obtém o Type da instância atual.\n",
    "* MemberwiseClone(): Cria uma cópia superficial do Object atual.\n",
    "* ReferenceEquals(Object, Object): Determina se as instâncias de Object especificadas são a mesma instância.\n",
    "* ToString(): Retorna uma cadeia de caracteres que representa o objeto atual."
   ]
  },
  {
   "cell_type": "markdown",
   "metadata": {},
   "source": [
    "# # ToString()\n",
    "\n",
    "Método que retorna uma string que irá representar o objeto. Muito útil para podermos personalizar a visão de um objeto.\n",
    "\n",
    "Esse método é automaticamente chamado pelo objeto quando identifica-se que ele está sendo usado numa string. Caso contrário use o comando: \"obj.ToString()\" onde \"obj\" é o nome da instância da classe em questão."
   ]
  },
  {
   "cell_type": "code",
   "execution_count": null,
   "metadata": {
    "dotnet_interactive": {
     "language": "csharp"
    },
    "vscode": {
     "languageId": "dotnet-interactive.csharp"
    }
   },
   "outputs": [],
   "source": [
    "// Classe Produto:\n",
    "\n",
    "public class Produto\n",
    "{\n",
    "    // Atributos do objeto instanciado pela classe Produto\n",
    "    public string Nome;\n",
    "    public double Preco;\n",
    "    public int Quantidade;\n",
    "\n",
    "    // Função que retorna o preço x quantidade\n",
    "    public double ValorTotalEmEstoque()\n",
    "    {\n",
    "        return Preco * Quantidade;\n",
    "    }\n",
    "\n",
    "    //ToString\n",
    "    public override string ToString()\n",
    "    {\n",
    "        return $\"Produto: {Nome}, Preço: {Preco}, Quantidade: {Quantidade}, Estoque: {ValorTotalEmEstoque()}\";\n",
    "    }\n",
    "\n",
    "}"
   ]
  },
  {
   "cell_type": "code",
   "execution_count": null,
   "metadata": {
    "dotnet_interactive": {
     "language": "csharp"
    },
    "vscode": {
     "languageId": "dotnet-interactive.csharp"
    }
   },
   "outputs": [],
   "source": [
    "//Chamada do objeto:\n",
    "\n",
    "static void Main(string[] args)\n",
    "    {\n",
    "    // Cria o objeto 'p' do tipo Produto.\n",
    "    Produto p = new Produto();\n",
    "\n",
    "    Console.WriteLine(\"Entre com os dados do Produto:\");\n",
    "    Console.WriteLine(\"Nome: \");\n",
    "    p.Nome = Console.ReadLine();\n",
    "    Console.WriteLine(\"Preço: \");\n",
    "    // A saída de WriteLine é uma string. Usamos Parse para transformar em Double.\n",
    "    p.Preco = double.Parse(Console.ReadLine(), CultureInfo.InvariantCulture);\n",
    "    Console.WriteLine(\"Quantidade no estoque :\");\n",
    "    p.Quantidade = int.Parse(Console.ReadLine());\n",
    "\n",
    "    Console.WriteLine($\"Dados do produto: {p}.\");\n",
    "}\n"
   ]
  },
  {
   "cell_type": "markdown",
   "metadata": {},
   "source": [
    "## # GetHashCode() e Equals()\n",
    "\n",
    "* Operações da classe object para comparar se dois objetos são iguais.\n",
    "* Equals: Mais lento, resposta 100%.\n",
    "* GetHashCode: Rápido, porém resposta não é 100% positiva.\n",
    "* Strings, ints, já possuem estas operações mas é possível personalizar através de classes personalizadas."
   ]
  },
  {
   "cell_type": "markdown",
   "metadata": {},
   "source": [
    "### Equals"
   ]
  },
  {
   "cell_type": "code",
   "execution_count": null,
   "metadata": {
    "dotnet_interactive": {
     "language": "csharp"
    },
    "vscode": {
     "languageId": "dotnet-interactive.csharp"
    }
   },
   "outputs": [],
   "source": [
    "string a = \"Maria\";\n",
    "string b = \"Alex\";\n",
    "\n",
    "Console.WriteLine(a.Equals(b));\n",
    "\n",
    "// Retorna false, pois a e b são diferentes."
   ]
  },
  {
   "cell_type": "markdown",
   "metadata": {},
   "source": [
    "### GetHashCode\n",
    "\n",
    "Retorna um inteiro que representa um hash gerado a partir do objeto. Este inteiro muda a cada execução do programa.\n",
    "\n",
    "Se o hash for diferente, os objetos certamente são diferentes. Mas se forem iguais, não necessariamente os objetos são iguais. Mas com probabilidade muito rara."
   ]
  },
  {
   "cell_type": "code",
   "execution_count": null,
   "metadata": {
    "dotnet_interactive": {
     "language": "csharp"
    },
    "vscode": {
     "languageId": "dotnet-interactive.csharp"
    }
   },
   "outputs": [],
   "source": [
    "string a = \"Maria\";\n",
    "string b = \"Alex\";\n",
    "\n",
    "Console.WriteLine(a.GetHashCode());\n",
    "Console.WriteLine(b.GetHashCode());"
   ]
  },
  {
   "cell_type": "markdown",
   "metadata": {},
   "source": [
    "### Implementação num objeto personalizado Client"
   ]
  },
  {
   "cell_type": "code",
   "execution_count": null,
   "metadata": {
    "dotnet_interactive": {
     "language": "csharp"
    },
    "vscode": {
     "languageId": "dotnet-interactive.csharp"
    }
   },
   "outputs": [],
   "source": [
    "class Client\n",
    "{\n",
    "    public string Name { get; set; }\n",
    "    public string Email { get; set; }   \n",
    "    // Sobrescreve o método equals da classe Object\n",
    "    public override bool Equals(object obj)\n",
    "    {\n",
    "        if (!(obj is Client))\n",
    "        {\n",
    "            return false;\n",
    "        }\n",
    "        Client other = obj as Client;\n",
    "        return Email.Equals(other.Email);\n",
    "    }\n",
    "    // Sobrescreve o método GetHashCode da classe Object\n",
    "    public override int GetHashCode()\n",
    "    {\n",
    "        return Email.GetHashCode();\n",
    "    }\n",
    "}\n",
    "\n",
    "// PRograma Principal\n",
    "class Program\n",
    "{\n",
    "    static void Main(string[] args)\n",
    "    {\n",
    "        Client a = new Client { Name = \"Maria\", Email = \"maria@gmail.com\" };\n",
    "        Client b = new Client { Name = \"Alex\", Email = \"alex@gmail.com\" };  \n",
    "        // Chamando os métodos Equals e GetHashCode\n",
    "        Console.WriteLine(a.Equals(b)); \n",
    "        Console.WriteLine(a.GetHashCode());\n",
    "        Console.WriteLine(b.GetHashCode()); \n",
    "    }\n",
    "}"
   ]
  },
  {
   "cell_type": "markdown",
   "metadata": {},
   "source": []
  }
 ],
 "metadata": {
  "kernelspec": {
   "display_name": ".NET (C#)",
   "language": "C#",
   "name": ".net-csharp"
  },
  "language_info": {
   "file_extension": ".cs",
   "mimetype": "text/x-csharp",
   "name": "C#",
   "pygments_lexer": "csharp",
   "version": "9.0"
  },
  "orig_nbformat": 4
 },
 "nbformat": 4,
 "nbformat_minor": 2
}
