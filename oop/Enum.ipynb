{
 "cells": [
  {
   "cell_type": "markdown",
   "metadata": {},
   "source": [
    "# # Enumeração (Enum)\n",
    "\n",
    "* Ref.: https://learn.microsoft.com/pt-br/dotnet/csharp/language-reference/builtin-types/enum\n",
    "\n",
    "* Um tipo de enumeração (ou tipo enum) é um tipo de valor definido por um conjunto de constantes nomeadas do tipo numérico integral subjacente. \n",
    "\n",
    "* Para definir um tipo de enumeração, use a palavra-chave enum e especifique os nomes dos membros de enumeração:\n",
    "\n",
    "* Vantagem: código mais legível e uma melhor semântica. Por exemplo, ao invés de usar 1,2,3.. para representar dias da semana, você pode usar domingo, segunda.."
   ]
  },
  {
   "cell_type": "markdown",
   "metadata": {},
   "source": [
    "## Exemplo: Ciclo de vida de um pagamento\n",
    "\n",
    "* Diagrama de Máquina de Estados.\n",
    "\n",
    "<div>\n",
    "<img src=\"img/enum1.png\" width=\"400\"/>\n",
    "</div>"
   ]
  },
  {
   "cell_type": "markdown",
   "metadata": {},
   "source": [
    "* Classe pedido"
   ]
  },
  {
   "cell_type": "code",
   "execution_count": null,
   "metadata": {
    "vscode": {
     "languageId": "javascript"
    }
   },
   "outputs": [],
   "source": [
    "// OrderStatus é um tipo customizado que herda de int   \n",
    "enum OrderStatus : int\n",
    "{\n",
    "    PendingPayment = 0,\n",
    "    Processing = 1,\n",
    "    Shipped = 2,\n",
    "    Delivered = 3\n",
    "}\n",
    "\n",
    "// Cria uma variável do tipo OrderStatus. Lembre-se de carregar o namespace.\n",
    "class Order{\n",
    "    public int Id { get; set; }\n",
    "    public DateTime Moment { get; set; }\n",
    "    public OrderStatus Status { get; set; }\n",
    "\n",
    "    public override string ToString(){\n",
    "        return $\"Id: {Id}, Moment: {Moment}, Status: {Status}\";\n",
    "    }\n",
    "}\n",
    "\n",
    "// Main\n",
    "static void Main(string[] args)\n",
    "{   \n",
    "    // Cria uma variável do tipo OrderStatus e atribui o valor PendingPayment    \n",
    "    Order order = new Order{Id = 1080, Moment = DateTime.Now, Status = OrderStatus.PendingPayment};\n",
    "\n",
    "    // Imprime o valor da variável\n",
    "    Console.WriteLine(order); // Id: 1080, Moment: 10/08/2020 10:00:00, Status: PendingPayment\n",
    "\n",
    "    // Converte o valor da variável para string\n",
    "    string txt = OrderStatus.PendingPayment.ToString(); // PendingPayment   \n",
    "    Console.WriteLine(txt);\n",
    "\n",
    "    // Converte o valor da string para enum\n",
    "    OrderStatus os = Enum.Parse<OrderStatus>(\"Delivered\"); // Delivered\n",
    "    Console.WriteLine(os); // Delivered\n",
    "    Console.WriteLine(os.OrderStatus) // 3  \n",
    "\n",
    "    // Converte o valor da variável para int\n",
    "    int x = (int)OrderStatus.PendingPayment; // 0\n",
    "    Console.WriteLine(x);\n",
    "}\n"
   ]
  },
  {
   "cell_type": "markdown",
   "metadata": {},
   "source": [
    "## Notação UML\n",
    "\n",
    "<div>\n",
    "<img src=\"img/enum2.png\" width=\"400\"/>\n",
    "</div>"
   ]
  }
 ],
 "metadata": {
  "kernelspec": {
   "display_name": "Python 3.10.4 64-bit",
   "language": "python",
   "name": "python3"
  },
  "language_info": {
   "name": "python",
   "version": "3.10.4"
  },
  "orig_nbformat": 4,
  "vscode": {
   "interpreter": {
    "hash": "aee8b7b246df8f9039afb4144a1f6fd8d2ca17a180786b69acc140d282b71a49"
   }
  }
 },
 "nbformat": 4,
 "nbformat_minor": 2
}
