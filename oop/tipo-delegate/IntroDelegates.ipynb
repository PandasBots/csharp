{
 "cells": [
  {
   "cell_type": "markdown",
   "metadata": {},
   "source": [
    "# # Delegates\n",
    "\n",
    "* Ref.: https://learn.microsoft.com/en-us/dotnet/standard/delegates-lambdas\n",
    "\n",
    "É uma referência para uma, ou mais funções com Type Safety. \n",
    "\n",
    "* Usos: Comunicação entre objetos de forma flexível e extensível. Parametrização de operações por métodos.\n",
    "\n",
    "* Delegates pré-definidos: Action, Func, Predicate"
   ]
  },
  {
   "cell_type": "markdown",
   "metadata": {},
   "source": [
    "# # Declaração Delegate"
   ]
  },
  {
   "cell_type": "code",
   "execution_count": null,
   "metadata": {
    "vscode": {
     "languageId": "javascript"
    }
   },
   "outputs": [],
   "source": [
    "// Classe com alguns métodos implememtados\n",
    "class CalculationService\n",
    "{\n",
    "    public static double Maximo(double x, double y)\n",
    "    {\n",
    "    return (x > y) ? x : y;\n",
    "    }\n",
    "    public static double Soma(double x, double y)\n",
    "    {\n",
    "    return x + y;\n",
    "    }\n",
    "    public static double Square(double x)\n",
    "    {\n",
    "    return x * x;\n",
    "    }\n",
    "}"
   ]
  },
  {
   "cell_type": "code",
   "execution_count": null,
   "metadata": {
    "vscode": {
     "languageId": "javascript"
    }
   },
   "outputs": [],
   "source": [
    "// Programa Principal\n",
    "namespace Course \n",
    "{\n",
    "    // Declaração do delegate: É referência para uma função que recebe dois doubles e retorna um double.\n",
    "    // Assim, a função square não irá funcionar!\n",
    "    delegate double BinaryNumericOperation(double n1, double n2);\n",
    "    class Program \n",
    "    {\n",
    "        static void Main(string[] args) \n",
    "        {\n",
    "            double a = 10;\n",
    "            double b = 12;\n",
    "            \n",
    "            // Versão 1: Instanciando o delegate\n",
    "            // Instanciando com sintaxe alternatia.\n",
    "            // BinaryNumericOperation op = new BinaryNumericOperation(CalculationService.Maximo);\n",
    "            // double result = op.Invoke(a, b); // 12\n",
    "\n",
    "            // Versão 2: Instanciando o delegate\n",
    "            // Delegate op é referência para a função soma.\n",
    "            BinaryNumericOperation op = CalculationService.Soma;\n",
    "            double result = op(a, b); // 22\n",
    "\n",
    "            // print\n",
    "            Console.WriteLine(result);\n",
    "        }\n",
    "    }\n",
    "}"
   ]
  },
  {
   "cell_type": "markdown",
   "metadata": {},
   "source": [
    "# # Multicast Delegates\n",
    "\n",
    "* Delegates que guardam referência para mais de um método.\n",
    "\n",
    "* Use o operador += para adicionar referências."
   ]
  },
  {
   "cell_type": "code",
   "execution_count": null,
   "metadata": {
    "vscode": {
     "languageId": "javascript"
    }
   },
   "outputs": [],
   "source": [
    "class CalculationService \n",
    "{\n",
    "    public static void ShowMax(double x, double y) \n",
    "    {\n",
    "        double max = (x > y) ? x : y;\n",
    "        Console.WriteLine(max);\n",
    "    }\n",
    "    public static void ShowSum(double x, double y) \n",
    "    {\n",
    "    double sum = x + y;\n",
    "    Console.WriteLine(sum);\n",
    "    }\n",
    "}\n",
    "    "
   ]
  },
  {
   "cell_type": "code",
   "execution_count": null,
   "metadata": {
    "vscode": {
     "languageId": "javascript"
    }
   },
   "outputs": [],
   "source": [
    "namespace Course {\n",
    "    // Declaração do delegate: É referência para mais de uma função. Não define o retorno pois cada função terá o seu.\n",
    "    delegate void BinaryNumericOperation(double n1, double n2);\n",
    "\n",
    "    class Program \n",
    "    {\n",
    "        static void Main(string[] args) \n",
    "        {\n",
    "            double a = 10;\n",
    "            double b = 12;\n",
    "            // Instanciando o delegate  com as funções showMax e showSum\n",
    "            BinaryNumericOperation op = CalculationService.ShowSum;\n",
    "            op += CalculationService.ShowMax;\n",
    "            // Executando as funções    \n",
    "            // op.Invoke(a, b); // 22 12\n",
    "            op(a, b); // 22 12\n",
    "        }\n",
    "    }\n",
    "}"
   ]
  }
 ],
 "metadata": {
  "kernelspec": {
   "display_name": "Python 3.10.4 64-bit",
   "language": "python",
   "name": "python3"
  },
  "language_info": {
   "name": "python",
   "version": "3.10.4"
  },
  "orig_nbformat": 4,
  "vscode": {
   "interpreter": {
    "hash": "aee8b7b246df8f9039afb4144a1f6fd8d2ca17a180786b69acc140d282b71a49"
   }
  }
 },
 "nbformat": 4,
 "nbformat_minor": 2
}
