{
 "cells": [
  {
   "cell_type": "markdown",
   "metadata": {},
   "source": [
    "# # Action\n",
    "\n",
    "* Ref.: https://learn.microsoft.com/en-us/dotnet/api/system.action?redirectedfrom=MSDN&view=net-6.0\n",
    "\n",
    "* Representa um método void que recebe zero ou mais argumentos.\n",
    "\n",
    "```\n",
    "public delegate void Action();\n",
    "public delegate void Action<in T>(T obj);\n",
    "public delegate void Action<in T1, in T2>(T1 arg1, T2 arg2);\n",
    "public delegate void Action<in T1, in T2, in T3>(T1 arg1, T2 arg2, T3 arg3);\n",
    "(16 sobrecargas)\n",
    "\n",
    "```"
   ]
  },
  {
   "cell_type": "markdown",
   "metadata": {},
   "source": [
    "## Exemplo com Foreach"
   ]
  },
  {
   "cell_type": "code",
   "execution_count": null,
   "metadata": {
    "vscode": {
     "languageId": "javascript"
    }
   },
   "outputs": [],
   "source": [
    "// Classe Product\n",
    "namespace Course.Entities\n",
    "{\n",
    "    class Product\n",
    "    {   \n",
    "        // 1. Atributos\n",
    "        public string Name { get; set; }\n",
    "        public double Price { get; set; }\n",
    "        // 2. Construtor\n",
    "        public Product(string name, double price) {\n",
    "            Name = name;\n",
    "            Price = price;\n",
    "        }\n",
    "        // 3. Métodos\n",
    "        // Sobrescrever o método ToString()  \n",
    "        public override string ToString() {\n",
    "            return $\"{Name}, {Price.ToString('F2')}\";   \n",
    "            Name + \", \" + Price.ToString(\"F2\");\n",
    "        }\n",
    "    }\n",
    "}"
   ]
  },
  {
   "cell_type": "code",
   "execution_count": null,
   "metadata": {
    "vscode": {
     "languageId": "javascript"
    }
   },
   "outputs": [],
   "source": [
    "// Classe Principal\n",
    "namespace Course {\n",
    "    class Program {\n",
    "        static void Main(string[] args) {\n",
    "\n",
    "            List<Product> list = new List<Product>();\n",
    "\n",
    "            list.Add(new Product(\"Tv\", 900.00));\n",
    "            list.Add(new Product(\"Mouse\", 50.00));\n",
    "            list.Add(new Product(\"Tablet\", 350.50));\n",
    "            list.Add(new Product(\"HD Case\", 80.90));\n",
    "\n",
    "            // 1. Pode criar um objeto do tipo delegate action que recebe referência para função updatePrice\n",
    "            // Action<Product> act = UpdatePrice;   \n",
    "            // list.ForEach(act);\n",
    "\n",
    "            // 2. Usando lambda\n",
    "            // Action<Product> act = p => {p.Price += p.Price * 0.1;};   \n",
    "            // list.ForEach(act);\n",
    "\n",
    "            // 3. Usando expressão inline\n",
    "            // list.ForEach(p => {p.Price += p.Price * 0.1;});\n",
    "\n",
    "            // 4. Função que recebe um produto e é void\n",
    "            list.ForEach(UpdatePrice)\n",
    "\n",
    "            foreach (Product p in list) {\n",
    "                Console.WriteLine(p);\n",
    "            } // Tv, 990.00, Mouse, 55.00, Tablet, 385.55, HD Case, 88.99\n",
    "        }\n",
    "        // Função que atualiza o preço de um produto\n",
    "        public static void updatePrice(Product p) \n",
    "        {    \n",
    "            p.Price += p.Price * 0.1;\n",
    "        }\n",
    "    }\n",
    "}"
   ]
  },
  {
   "cell_type": "markdown",
   "metadata": {},
   "source": []
  }
 ],
 "metadata": {
  "kernelspec": {
   "display_name": "Python 3.10.4 64-bit",
   "language": "python",
   "name": "python3"
  },
  "language_info": {
   "name": "python",
   "version": "3.10.4"
  },
  "orig_nbformat": 4,
  "vscode": {
   "interpreter": {
    "hash": "aee8b7b246df8f9039afb4144a1f6fd8d2ca17a180786b69acc140d282b71a49"
   }
  }
 },
 "nbformat": 4,
 "nbformat_minor": 2
}
