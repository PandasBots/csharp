{
 "cells": [
  {
   "cell_type": "markdown",
   "metadata": {},
   "source": [
    "# # Predicates\n",
    "\n",
    "* Ref.: https://learn.microsoft.com/pt-br/dotnet/api/system.predicate-1?view=net-6.0\n",
    "\n",
    "* Representa um método que recebe um objeto do tipo T e retorna um valor booleano.\n",
    "\n",
    "`public delegate bool Predicate<in T>(T obj);  ` "
   ]
  },
  {
   "cell_type": "markdown",
   "metadata": {},
   "source": [
    "## Exemplo com RemoveAll"
   ]
  },
  {
   "cell_type": "code",
   "execution_count": null,
   "metadata": {
    "vscode": {
     "languageId": "javascript"
    }
   },
   "outputs": [],
   "source": [
    "// Classe Product\n",
    "namespace Course.Entities\n",
    "{\n",
    "    class Product\n",
    "    {   \n",
    "        // 1. Atributos\n",
    "        public string Name { get; set; }\n",
    "        public double Price { get; set; }\n",
    "        // 2. Construtor\n",
    "        public Product(string name, double price) {\n",
    "            Name = name;\n",
    "            Price = price;\n",
    "        }\n",
    "        // 3. Métodos\n",
    "        // Sobrescrever o método ToString()  \n",
    "        public override string ToString() {\n",
    "            return $\"{Name}, {Price.ToString('F2')}\";   \n",
    "            Name + \", \" + Price.ToString(\"F2\");\n",
    "        }\n",
    "    }\n",
    "}"
   ]
  },
  {
   "cell_type": "code",
   "execution_count": null,
   "metadata": {
    "vscode": {
     "languageId": "javascript"
    }
   },
   "outputs": [],
   "source": [
    "// Classe Principal\n",
    "namespace Course {\n",
    "    class Program {\n",
    "        static void Main(string[] args) {\n",
    "\n",
    "            List<Product> list = new List<Product>();\n",
    "\n",
    "            list.Add(new Product(\"Tv\", 900.00));\n",
    "            list.Add(new Product(\"Mouse\", 50.00));\n",
    "            list.Add(new Product(\"Tablet\", 350.50));\n",
    "            list.Add(new Product(\"HD Case\", 80.90));\n",
    "\n",
    "            // Argumento: Predicate. Função que recebe um objeto do tipo Product e retorna um booleano\n",
    "            // Função lambda p => p.Price \n",
    "            // list.RemoveAll(p => p.Price >= 100.0);\n",
    "            list.RemoveAll(ProductTest);\n",
    "\n",
    "            foreach (Product p in list) {\n",
    "                Console.WriteLine(p);\n",
    "            } // Mouse, 50.00, HD Case, 80.90\n",
    "        }\n",
    "        // Função que verifica se o preço do produto é maior que 100\n",
    "        public static bool Test(Product p) \n",
    "        {    \n",
    "            return p.Price >= 100.0;\n",
    "        }\n",
    "    }\n",
    "}"
   ]
  },
  {
   "cell_type": "markdown",
   "metadata": {},
   "source": []
  }
 ],
 "metadata": {
  "kernelspec": {
   "display_name": "Python 3.10.4 64-bit",
   "language": "python",
   "name": "python3"
  },
  "language_info": {
   "name": "python",
   "version": "3.10.4"
  },
  "orig_nbformat": 4,
  "vscode": {
   "interpreter": {
    "hash": "aee8b7b246df8f9039afb4144a1f6fd8d2ca17a180786b69acc140d282b71a49"
   }
  }
 },
 "nbformat": 4,
 "nbformat_minor": 2
}
