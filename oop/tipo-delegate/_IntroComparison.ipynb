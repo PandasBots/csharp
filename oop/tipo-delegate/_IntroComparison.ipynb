{
 "cells": [
  {
   "cell_type": "markdown",
   "metadata": {},
   "source": [
    "# # Comparison\n",
    "\n",
    "`public void Sort(Comparison<T> comparison)`\n",
    "\n",
    "* Referência simples de método como parâmetro\n",
    "* Referência de método atribuído a uma variável tipo delegate\n",
    "* Expressão lambda atribuída a uma variável tipo delegate\n",
    "* Expressão lambda inline"
   ]
  },
  {
   "cell_type": "markdown",
   "metadata": {},
   "source": [
    "# Problema\n",
    "\n",
    "<div>\n",
    "<img src=\"_img/problema.png\" width=\"500\"/>\n",
    "</div>"
   ]
  },
  {
   "cell_type": "markdown",
   "metadata": {},
   "source": [
    "## Abordagem 1: Referência simples de método como parâmetro"
   ]
  },
  {
   "cell_type": "code",
   "execution_count": null,
   "metadata": {
    "vscode": {
     "languageId": "javascript"
    }
   },
   "outputs": [],
   "source": [
    "// Classe Product\n",
    "class Product : IComparable<Product> {\n",
    "\n",
    "    public string Name { get; set; }\n",
    "    public double Price { get; set; }\n",
    "\n",
    "    public Product(string name, double price) {\n",
    "        Name = name;\n",
    "        Price = price;\n",
    "    }\n",
    "\n",
    "    public override string ToString() {\n",
    "        return Name + \", \" + Price.ToString(\"F2\", CultureInfo.InvariantCulture);\n",
    "    }\n",
    "    // Compara o nome do pruduto com letra maiscula vs outro produto com letra minuscula também. Case insensitive.\n",
    "    public int CompareTo(Product other) \n",
    "    {\n",
    "        return name.ToUpper().CompareTo(other.name.ToUpper());\n",
    "    }\n",
    "}\n",
    "\n",
    "// Classe Principal\n",
    "class Program {\n",
    "    static void Main(string[] args) {\n",
    "\n",
    "        List<Product> list = new List<Product>();\n",
    "        // Adiciona produtos na lista\n",
    "        list.Add(new Product(\"TV\", 900.00));\n",
    "        list.Add(new Product(\"Notebook\", 1200.00));\n",
    "        list.Add(new Product(\"Tablet\", 450.00));\n",
    "\n",
    "        // Só funciona se a classe Product implementa a interface IComparable<Product>\n",
    "        list.Sort();\n",
    "\n",
    "        // Imprime a lista\n",
    "        foreach (Product p in list) {\n",
    "            Console.WriteLine(p);\n",
    "        } // Notebook, 1200.00  , Tablet, 450.00  ,  TV, 900.00 (Ordenado por ordem alfabética)\n",
    "    }\n",
    "}"
   ]
  },
  {
   "cell_type": "markdown",
   "metadata": {},
   "source": [
    "#### Problema da abordagem 1\n",
    "\n",
    "Se o critério de comparação mudar, é preciso alterar a classe próduct. Por exemplo, ao invés de ordenar por nome ordenar por preço.\n",
    "\n",
    "Classe Product não está fechada!\n",
    "\n",
    "## Abordagem 2: Delegate\n",
    "\n",
    "`public void Sort(Comparison<T> comparison)`"
   ]
  },
  {
   "cell_type": "code",
   "execution_count": null,
   "metadata": {
    "vscode": {
     "languageId": "javascript"
    }
   },
   "outputs": [],
   "source": [
    "// Classe Product\n",
    "\n",
    "// Remove implementação do IComparable\n",
    "class Product {\n",
    "\n",
    "    public string Name { get; set; }\n",
    "    public double Price { get; set; }\n",
    "\n",
    "    public Product(string name, double price) {\n",
    "        Name = name;\n",
    "        Price = price;\n",
    "    }\n",
    "\n",
    "    public override string ToString() {\n",
    "        return Name + \", \" + Price.ToString(\"F2\", CultureInfo.InvariantCulture);\n",
    "    }\n",
    "    // Remove o método de comparar.\n",
    "    /*\n",
    "    // Compara o nome do pruduto com letra maiscula vs outro produto com letra minuscula também. Case insensitive.\n",
    "    public int CompareTo(Product other) \n",
    "    {\n",
    "        return name.ToUpper().CompareTo(other.name.ToUpper());\n",
    "    }*/\n",
    "}\n",
    "\n",
    "// Classe Principal\n",
    "class Program {\n",
    "    static void Main(string[] args) {\n",
    "\n",
    "        List<Product> list = new List<Product>();\n",
    "        // Adiciona produtos na lista\n",
    "        list.Add(new Product(\"TV\", 900.00));\n",
    "        list.Add(new Product(\"Notebook\", 1200.00));\n",
    "        list.Add(new Product(\"Tablet\", 450.00));\n",
    "\n",
    "        // Usar uma nova implementação do sort recebendo um comparison product (delegate - referência para um método com typeSafety)\n",
    "        // O nome do método é argumento do sort.\n",
    "        // Também é possível usar uma variável/lista de referências de função.\n",
    "        // Comparison<Product> comp = CompareProducts; e chamaria com: list.Sort(comp);\n",
    "        list.Sort(CompareProducts)\n",
    "        // Só funciona se a classe Product implementa a interface IComparable<Product>\n",
    "        //list.Sort();\n",
    "\n",
    "        // Imprime a lista\n",
    "        foreach (Product p in list) {\n",
    "            Console.WriteLine(p);\n",
    "        } // Notebook, 1200.00  , Tablet, 450.00  ,  TV, 900.00 (Ordenado por ordem alfabética)\n",
    "    }\n",
    "    // Método específico para comparar produtos, igual o método que fazia denttro da classe product. Retorna -1, 0, 1.\n",
    "    static int CompareProducts(Product p1, Product p2) \n",
    "    {\n",
    "        return p1.Name.ToUpper().CompareTo(p2.Name.ToUpper());\n",
    "    }\n",
    "}"
   ]
  },
  {
   "cell_type": "markdown",
   "metadata": {},
   "source": [
    "## Abordagem 3: Mais resumida usando Lambda Functions\n",
    "\n",
    "Lambda é uma função anônima implementada rapidamente."
   ]
  },
  {
   "cell_type": "code",
   "execution_count": null,
   "metadata": {
    "vscode": {
     "languageId": "javascript"
    }
   },
   "outputs": [],
   "source": [
    "// Classe Product\n",
    "class Product {\n",
    "\n",
    "    public string Name { get; set; }\n",
    "    public double Price { get; set; }\n",
    "\n",
    "    public Product(string name, double price) {\n",
    "        Name = name;\n",
    "        Price = price;\n",
    "    }\n",
    "\n",
    "    public override string ToString() {\n",
    "        return Name + \", \" + Price.ToString(\"F2\", CultureInfo.InvariantCulture);\n",
    "    }\n",
    "}\n",
    "\n",
    "// Classe Principal\n",
    "class Program {\n",
    "    static void Main(string[] args) {\n",
    "\n",
    "        List<Product> list = new List<Product>();\n",
    "\n",
    "        list.Add(new Product(\"TV\", 900.00));\n",
    "        list.Add(new Product(\"Notebook\", 1200.00));\n",
    "        list.Add(new Product(\"Tablet\", 450.00));\n",
    "\n",
    "        // O argumento é um lambda expression\n",
    "        list.Sort((p1, p2) => p1.Name.ToUpper().CompareTo(p2.Name.ToUpper()));\n",
    "\n",
    "        foreach (Product p in list) {\n",
    "            Console.WriteLine(p);\n",
    "        }\n",
    "    }\n",
    "}"
   ]
  }
 ],
 "metadata": {
  "kernelspec": {
   "display_name": "Python 3.10.4 64-bit",
   "language": "python",
   "name": "python3"
  },
  "language_info": {
   "name": "python",
   "version": "3.10.4"
  },
  "orig_nbformat": 4,
  "vscode": {
   "interpreter": {
    "hash": "aee8b7b246df8f9039afb4144a1f6fd8d2ca17a180786b69acc140d282b71a49"
   }
  }
 },
 "nbformat": 4,
 "nbformat_minor": 2
}
