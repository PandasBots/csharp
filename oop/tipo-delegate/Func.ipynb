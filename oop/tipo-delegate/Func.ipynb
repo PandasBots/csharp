{
 "cells": [
  {
   "cell_type": "markdown",
   "metadata": {},
   "source": [
    "# # Func\n",
    "\n",
    "* Ref.: https://learn.microsoft.com/en-us/dotnet/api/system.func-1?redirectedfrom=MSDN&view=net-6.0\n",
    "\n",
    "* Representa um método que recebe zero ou mais argumentos, e retorna um valor (ao contrário do action).\n",
    "\n",
    "```\n",
    "public delegate TResult Func<out TResult>();\n",
    "public delegate TResult Func<in T, out TResult>(T obj);\n",
    "public delegate TResult Func<in T1, in T2, out TResult>(T1 arg1, T2 arg2);\n",
    "public delegate TResult Func<in T1, in T2, in T3, out TResult>(T1 arg1, T2\n",
    "arg2, T3 arg3);\n",
    "(16 sobrecargas)\n",
    "\n",
    "```"
   ]
  },
  {
   "cell_type": "markdown",
   "metadata": {},
   "source": [
    "## Exemplo com Select"
   ]
  },
  {
   "cell_type": "code",
   "execution_count": null,
   "metadata": {
    "vscode": {
     "languageId": "javascript"
    }
   },
   "outputs": [],
   "source": [
    "// Classe Product\n",
    "namespace Course.Entities\n",
    "{\n",
    "    class Product\n",
    "    {   \n",
    "        // 1. Atributos\n",
    "        public string Name { get; set; }\n",
    "        public double Price { get; set; }\n",
    "        // 2. Construtor\n",
    "        public Product(string name, double price) {\n",
    "            Name = name;\n",
    "            Price = price;\n",
    "        }\n",
    "        // 3. Métodos\n",
    "        // Sobrescrever o método ToString()  \n",
    "        public override string ToString() {\n",
    "            return $\"{Name}, {Price.ToString('F2')}\";   \n",
    "            Name + \", \" + Price.ToString(\"F2\");\n",
    "        }\n",
    "    }\n",
    "}"
   ]
  },
  {
   "cell_type": "code",
   "execution_count": null,
   "metadata": {
    "vscode": {
     "languageId": "javascript"
    }
   },
   "outputs": [],
   "source": [
    "// Classe Principal. Gerar uma lista de produtos em tudo maísculo.\n",
    "using System.Linq; (importar função select) \n",
    "namespace Course {\n",
    "    class Program {\n",
    "        static void Main(string[] args) {\n",
    "\n",
    "            List<Product> list = new List<Product>();\n",
    "\n",
    "            list.Add(new Product(\"Tv\", 900.00));\n",
    "            list.Add(new Product(\"Mouse\", 50.00));\n",
    "            list.Add(new Product(\"Tablet\", 350.50));\n",
    "            list.Add(new Product(\"HD Case\", 80.90));\n",
    "\n",
    "            // 1. Forma\n",
    "            // Select retorna um IEnumerable. Devemos converter para lista.\n",
    "            List<string> result = list.Select(NameUpper).ToList();\n",
    "            foreach (string s in result) \n",
    "            {  \n",
    "                Console.WriteLine(s);\n",
    "            } // TV, MOUSE, TABLET, HD CASE \n",
    "\n",
    "            /* // 2. Forma\n",
    "            // Declarar um delegate. Referência para uma função que recebe um product e retorna uma string.\n",
    "            Func <Product, string> func = NameUpper;\n",
    "            List<string> result = list.Select(func).ToList();\n",
    "            foreach (string s in result) \n",
    "            {  \n",
    "                Console.WriteLine(s);\n",
    "            } // TV, MOUSE, TABLET, HD CASE \n",
    "            */\n",
    "\n",
    "            /* // 3. Forma: Expressão Lambda\n",
    "            Func <Product, string> func = p => p.Name.ToUpper();\n",
    "            List<string> result = list.Select(func).ToList();\n",
    "            foreach (string s in result) \n",
    "            {  \n",
    "                Console.WriteLine(s);\n",
    "            } // TV, MOUSE, TABLET, HD CASE \n",
    "            */\n",
    "\n",
    "            /* // 4. Forma: Expressão Lambda Inline    \n",
    "            List<string> result = list.Select(p => p.Name.ToUpper()).ToList();\n",
    "            foreach (string s in result)\n",
    "            {\n",
    "                Console.WriteLine(s);\n",
    "            } // TV, MOUSE, TABLET, HD CASE\n",
    "            */\n",
    "        }\n",
    "        // Função que retorna o nome do produto em caixa alta.\n",
    "        static string NameUpper(Produt p)\n",
    "        {\n",
    "            return p.Name.ToUpper();\n",
    "        }\n",
    "    }\n",
    "    \n",
    "}"
   ]
  },
  {
   "cell_type": "markdown",
   "metadata": {},
   "source": []
  }
 ],
 "metadata": {
  "kernelspec": {
   "display_name": "Python 3.10.4 64-bit",
   "language": "python",
   "name": "python3"
  },
  "language_info": {
   "name": "python",
   "version": "3.10.4"
  },
  "orig_nbformat": 4,
  "vscode": {
   "interpreter": {
    "hash": "aee8b7b246df8f9039afb4144a1f6fd8d2ca17a180786b69acc140d282b71a49"
   }
  }
 },
 "nbformat": 4,
 "nbformat_minor": 2
}
