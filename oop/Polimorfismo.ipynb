{
 "cells": [
  {
   "cell_type": "markdown",
   "metadata": {},
   "source": [
    "# # Polimorfismo\n",
    "\n",
    "* Ref.: https://www.c-sharpcorner.com/article/polymorphism-up-casting-and-down-casting/\n",
    "\n",
    "* Polimorfismo é recurso que permite que variáveis de tipos mais genéricos possam apontar para objetos de tipos mais específicos, tendo assim comportamentos possivelmente diferentes de acordo com o objeto que apontam.\n",
    "\n",
    "* A associação do tipo específico com o tipo genérico é feita em `tempo de execução`."
   ]
  },
  {
   "cell_type": "markdown",
   "metadata": {},
   "source": [
    "## Exemplo:\n",
    "\n",
    "<div>\n",
    "<img src=\"img/poli1.png\" width=\"500\"/>\n",
    "</div>"
   ]
  },
  {
   "cell_type": "code",
   "execution_count": null,
   "metadata": {
    "vscode": {
     "languageId": "javascript"
    }
   },
   "outputs": [],
   "source": [
    "// Variáveis de mesmo tipo Account que aponta para objetos de tipos diferentes. Graças ao Upcasting.\n",
    "Account acc1 = new Account(1001, \"Alex\", 500.0);\n",
    "Account acc2 = new SavingsAccount(1002, \"Anna\", 500.0, 0.01);\n",
    "\n",
    "// Ambas as variáveis tem o mesmo método Withdraw. Porém, o comportamento é diferente.\n",
    "// O compilador não sabe para qual tipo específico o método Withdraw está sendo feita. Ele sabe apenas que as variáveis são do tipo Account.    \n",
    "acc1.Withdraw(10.0);\n",
    "Console.WriteLine(acc1.Balance);\n",
    "acc2.Withdraw(10.0);\n",
    "Console.WriteLine(acc2.Balance);"
   ]
  },
  {
   "cell_type": "markdown",
   "metadata": {},
   "source": []
  }
 ],
 "metadata": {
  "kernelspec": {
   "display_name": "Python 3.10.4 64-bit",
   "language": "python",
   "name": "python3"
  },
  "language_info": {
   "name": "python",
   "version": "3.10.4"
  },
  "orig_nbformat": 4,
  "vscode": {
   "interpreter": {
    "hash": "aee8b7b246df8f9039afb4144a1f6fd8d2ca17a180786b69acc140d282b71a49"
   }
  }
 },
 "nbformat": 4,
 "nbformat_minor": 2
}
