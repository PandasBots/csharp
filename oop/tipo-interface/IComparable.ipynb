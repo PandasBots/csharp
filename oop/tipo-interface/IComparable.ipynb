{
 "cells": [
  {
   "cell_type": "markdown",
   "metadata": {},
   "source": [
    "# # IComparable\n",
    "\n",
    "* Ref.: https://learn.microsoft.com/pt-br/dotnet/api/system.icomparable?view=net-6.0\n",
    "\n",
    "````\n",
    "public interface IComparable{\n",
    "    int CompareTo(object other);\n",
    "}\n",
    "````"
   ]
  },
  {
   "cell_type": "markdown",
   "metadata": {},
   "source": [
    "## Exemplo 1: Ordena uma lista de nomes: [\"Joa\", \"Maria\", ...]"
   ]
  },
  {
   "cell_type": "code",
   "execution_count": null,
   "metadata": {
    "vscode": {
     "languageId": "javascript"
    }
   },
   "outputs": [],
   "source": [
    "using System;\n",
    "using System.IO;\n",
    "using System.Collections.Generic;\n",
    "\n",
    "namespace Course {\n",
    "    class Program {\n",
    "        static void Main(string[] args)\n",
    "        {\n",
    "            string path = @\"c:\\temp\\in.txt\";\n",
    "            try\n",
    "            {\n",
    "                using(StreamReader sr = File.OpenText(path))\n",
    "                {\n",
    "                    List<string> list = new List<string>();\n",
    "                    while (!sr.EndOfStream)\n",
    "                    {\n",
    "                    list.Add(sr.ReadLine());\n",
    "                    }\n",
    "                    list.Sort();\n",
    "                    foreach(string str in list)\n",
    "                    {\n",
    "                        Console.WriteLine(str);\n",
    "                    }\n",
    "                }\n",
    "            }\n",
    "        catch (IOException e) \n",
    "        {\n",
    "            Console.WriteLine(\"An error occurred\");\n",
    "            Console.WriteLine(e.Message);\n",
    "        }\n",
    "    }\n",
    "}"
   ]
  },
  {
   "cell_type": "markdown",
   "metadata": {},
   "source": [
    "## Exemplo 2: Ordena lista de objetos Nome-Valor: [\"João, 100\", \"Maria, 200\", etc..]\n",
    "\n",
    "* Requer IComparable. Ele compara dois objetos e retorna -1, 0, 1 para mostrar qual é o maior baseado numa regra de negócio customizada. Neste exemplo, para um objeto Nome-Salário, o que vale é o nome.\n",
    "\n",
    "<div>\n",
    "<img src=\"_img/icomparable.png\" width=\"500\"/>\n",
    "</div>"
   ]
  },
  {
   "cell_type": "code",
   "execution_count": null,
   "metadata": {
    "vscode": {
     "languageId": "javascript"
    }
   },
   "outputs": [],
   "source": [
    "// Classe funcionário. Objeto com Nome e Salário\n",
    "using System.Globalization;\n",
    "namespace Course {\n",
    "    class Employee {\n",
    "        public string Name { get; set; }\n",
    "        public double Salary { get; set; }\n",
    "        public Employee(string csvEmployee) \n",
    "        {\n",
    "            string[] vect = csvEmployee.Split(',');\n",
    "            Name = vect[0];\n",
    "            Salary = double.Parse(vect[1], CultureInfo.InvariantCulture);\n",
    "        }\n",
    "        public override string ToString() \n",
    "        {\n",
    "        return Name + \", \" + Salary.ToString(\"F2\", CultureInfo.InvariantCulture);\n",
    "        }}"
   ]
  },
  {
   "cell_type": "code",
   "execution_count": null,
   "metadata": {
    "vscode": {
     "languageId": "javascript"
    }
   },
   "outputs": [],
   "source": [
    "// Implementação da interface IComparable. Para um objeto Nome-Salário, o critério de comparação é o nome.\n",
    "using System;\n",
    "using System.Globalization;\n",
    "namespace Course \n",
    "{\n",
    "    class Employee : IComparable \n",
    "    {\n",
    "        public string Name { get; set; }\n",
    "        public double Salary { get; set; }\n",
    "        public Employee(string csvEmployee) \n",
    "        {\n",
    "            string[] vect = csvEmployee.Split(',');\n",
    "            Name = vect[0];\n",
    "            Salary = double.Parse(vect[1], CultureInfo.InvariantCulture);\n",
    "        }\n",
    "        public override string ToString() \n",
    "        {\n",
    "            return Name + \", \" + Salary.ToString(\"F2\", CultureInfo.InvariantCulture);\n",
    "        }\n",
    "        // Compara dois objetos retornando um inteiro.\n",
    "        // Neste caso o item a ser comparado é o nome!\n",
    "        public int CompareTo(object obj) \n",
    "        {\n",
    "            if (!(obj is Employee)) \n",
    "            {\n",
    "            throw new ArgumentException(\"Comparing error: argument is not an Employee\");\n",
    "            }\n",
    "            Employee other = obj as Employee;\n",
    "            // Critério de comparacao é o Name\n",
    "            return Name.CompareTo(other.Name);\n",
    "            // Critério de comparacao é o Salary\n",
    "            //return Salary.CompareTo(other.Salary);\n",
    "        }\n",
    "    }\n",
    "}"
   ]
  }
 ],
 "metadata": {
  "kernelspec": {
   "display_name": "Python 3.10.4 64-bit",
   "language": "python",
   "name": "python3"
  },
  "language_info": {
   "name": "python",
   "version": "3.10.4"
  },
  "orig_nbformat": 4,
  "vscode": {
   "interpreter": {
    "hash": "aee8b7b246df8f9039afb4144a1f6fd8d2ca17a180786b69acc140d282b71a49"
   }
  }
 },
 "nbformat": 4,
 "nbformat_minor": 2
}
