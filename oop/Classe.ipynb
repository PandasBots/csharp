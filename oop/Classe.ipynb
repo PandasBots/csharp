{
 "cells": [
  {
   "cell_type": "markdown",
   "metadata": {},
   "source": [
    "# Programação Orientada a Objetos\n",
    "\n",
    "A programação Orientada a Objetos é útil quando existem entidades/objetos no código que se repetem. \n",
    "\n",
    "Objetos que possuem funções/métodos repetidos ou mesmo atributos que serão usados muitas vezes.\n",
    "\n",
    "A orientação a objetos é uma maneira mais eficiente de desenhar grandes aplicações, deixando o código mais segmentado e legível."
   ]
  },
  {
   "cell_type": "markdown",
   "metadata": {},
   "source": [
    "# Classe (PascalCase)\n",
    "\n",
    "* É  a estrutura usada para representar os objetos. É o tipo.\n",
    "\n",
    "* O objeto são as instâncias, criadas dinâmicamente. Eles possuem:\n",
    "    * Atributos: são os dados/campos/características do objeto.\n",
    "    * Métodos: são as funções, operações associadas a esta classe.\n",
    "\n",
    "* Outros recursos das classes:\n",
    "    * Construtores\n",
    "    * Sobrecargas\n",
    "    * Encapsulamento\n",
    "    * Herança\n",
    "    * Polimorfismo\n",
    "\n",
    "* Exemplos:\n",
    "    * Entidades: Produto, cliente, entidade..\n",
    "    * Serviços\n",
    "    * Controladores\n",
    "    * Utilitários\n"
   ]
  },
  {
   "cell_type": "markdown",
   "metadata": {},
   "source": [
    "## Estrutura da Classe\n",
    "\n",
    "A estrutura da classe é alocada na parte Stack da memória, porém, um objeto criado a partir desta classe é armazenado na parte Heap (Dinâmica) da memória.\n",
    "\n",
    "Logo, todo objeto criado é uma instância da Classe, alocado dinamicamente na memória.\n",
    "\n",
    "<div>\n",
    "<img src=\"img/classe1.png\" width=\"500\"/>\n",
    "<img src=\"img/classe2.png\" width=\"500\"/>\n",
    "</div>"
   ]
  },
  {
   "cell_type": "markdown",
   "metadata": {},
   "source": [
    "## Inicializando a Classe\n",
    "\n",
    "* Ver pasta \"HelpClass\"\n",
    "\n",
    "<div>\n",
    "<img src=\"img/classe3.png\" width=\"500\"/>\n",
    "</div>\n",
    "\n",
    "````\n",
    "using System;\n",
    "namespace HelpClass{\n",
    "    public class Triangulo{\n",
    "            // Atributos do Triangulo\n",
    "            public double A;\n",
    "            public double B;\n",
    "            public double C;\n",
    "        }\n",
    "    }\n",
    "````\n",
    "\n",
    "E pode ser inicializada:\n",
    "\n",
    "````\n",
    "namespace HelpClass\n",
    "    internal class Program\n",
    "    {\n",
    "        static void Main(string[] args)\n",
    "        {\n",
    "            // Inicia o objeto\n",
    "            Triangulo x;\n",
    "            x = new Triangulo();\n",
    "            // Define seus atributos\n",
    "            x.A = 1;\n",
    "            x.B = 2;\n",
    "            x.C = 3;\n",
    "            // Imprime um atributo no console\n",
    "            Console.WriteLine(x.A);\n",
    "        }\n",
    "    }\n",
    "}\n",
    "````\n"
   ]
  },
  {
   "cell_type": "markdown",
   "metadata": {},
   "source": [
    "## Atributos\n",
    "\n",
    "Uma vez criada a classe, um atributo é acessado e modificado da seguinte maneira:\n",
    "\n",
    "````\n",
    "Triangulo x;\n",
    "x = new Triangulo();\n",
    "// Define o atributo A da instância da classe Triangulo\n",
    "x.A = 1;\n",
    "````\n"
   ]
  },
  {
   "cell_type": "markdown",
   "metadata": {},
   "source": [
    "## Métodos\n",
    "\n",
    "É uma função associada a uma determinada classe.\n",
    "\n",
    "````\n",
    "namespace HelpClass{\n",
    "    public class Triangulo{\n",
    "        // Atributos do Triangulo\n",
    "        public double A;\n",
    "        public double B;\n",
    "        public double C;\n",
    "        // Método\n",
    "        public double Area(){\n",
    "            double p = (A + B + C) / 2.0;\n",
    "            return Math.Sqrt(p * (p - A) * (p - B) * (p - C));\n",
    "            }\n",
    "        }\n",
    "    }\n",
    "````\n",
    "\n",
    "Neste caso, a função não leva parâmetros, pois usa os atributos já instanciados do objeto. Assim, para chamar o método, basta:\n",
    "\n",
    "````\n",
    "static void Main(string[] args)\n",
    "        {\n",
    "            Console.WriteLine(\"Hello World!\");\n",
    "            // Instancia objeto da classe triangulo\n",
    "            Triangulo x;\n",
    "            x = new Triangulo();\n",
    "            x.A = 3;\n",
    "            x.B = 4;\n",
    "            x.C = 5;\n",
    "            Console.WriteLine(x.A);\n",
    "            // Chama o método do cálculo da área\n",
    "            double areaX = x.Area();\n",
    "            Console.WriteLine(areaX);\n",
    "        }\n",
    "````\n"
   ]
  },
  {
   "cell_type": "markdown",
   "metadata": {},
   "source": [
    "---\n",
    "\n",
    "# Projeto UML\n",
    "\n",
    "Estrutura para criar uma classe.\n",
    "\n",
    "<div>\n",
    "<img src=\"img/uml.png\" width=\"500\"/>\n",
    "</div>\n",
    "\n"
   ]
  }
 ],
 "metadata": {
  "kernelspec": {
   "display_name": ".NET (C#)",
   "language": "C#",
   "name": ".net-csharp"
  },
  "language_info": {
   "file_extension": ".cs",
   "mimetype": "text/x-csharp",
   "name": "C#",
   "pygments_lexer": "csharp",
   "version": "9.0"
  },
  "orig_nbformat": 4
 },
 "nbformat": 4,
 "nbformat_minor": 2
}
