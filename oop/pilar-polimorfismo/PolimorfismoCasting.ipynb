{
 "cells": [
  {
   "cell_type": "markdown",
   "metadata": {},
   "source": [
    "# # Polimorfismo\n",
    "\n",
    "* Ref.: https://www.c-sharpcorner.com/article/polymorphism-up-casting-and-down-casting/"
   ]
  },
  {
   "cell_type": "markdown",
   "metadata": {},
   "source": [
    "# # Upcasting\n",
    "\n",
    "* Casting da subclasse para superclasse."
   ]
  },
  {
   "cell_type": "code",
   "execution_count": null,
   "metadata": {
    "vscode": {
     "languageId": "javascript"
    }
   },
   "outputs": [],
   "source": [
    "// Ex usado em Polimorfismo\n",
    "// Instanciar objeto Account\n",
    "Account acc = new Account(1001, \"Alex\", 0.0);\n",
    "// Instanciar objeto BusinessAccount\n",
    "BusinessAccount bacc = new BusinessAccount(1002, \"Maria\", 0, 500);\n",
    "\n",
    "// UPCASTING\n",
    "\n",
    "// 1. O businessAccount é um Account, assim a variável do tipo account recebe um objeto de qq tipo de subclasse dela.\n",
    "Account acc1 = bacc;\n",
    "// 2. OUtra forma\n",
    "Account acc2 = new BusinessAccount(1003, \"Bob\", 0, 200);\n",
    "// 3. OUtra forma   \n",
    "Account acc3 = new SavingsAccount(1004, \"Anna\", 0, 0.01); \n",
    "\n",
    "// Veja que acc2 é um Account, logo não possui o método LoanLimit\n",
    "// acc2.LoanLimit = 200.0;  // Erro"
   ]
  },
  {
   "cell_type": "markdown",
   "metadata": {},
   "source": [
    "# # Downcasting\n",
    "\n",
    "* Casting da superclasse para subclasse.\n",
    "* Palavras `as` e `is`.\n",
    "* Uso comum: Métodos que recebem parâmetros genéricos (Equals)."
   ]
  },
  {
   "cell_type": "code",
   "execution_count": null,
   "metadata": {
    "vscode": {
     "languageId": "javascript"
    }
   },
   "outputs": [],
   "source": [
    "// Ex usado em Polimorfismo\n",
    "// Instanciar objeto Account\n",
    "Account acc = new Account(1001, \"Alex\", 0.0);\n",
    "// Instanciar objeto BusinessAccount\n",
    "BusinessAccount bacc = new BusinessAccount(1002, \"Maria\", 0, 500);\n",
    "\n",
    "// UPCASTING\n",
    "\n",
    "// 1. O businessAccount é um Account, assim a variável do tipo account recebe um objeto de qq tipo de subclasse dela.\n",
    "Account acc1 = bacc;\n",
    "// 2. OUtra forma\n",
    "Account acc2 = new BusinessAccount(1003, \"Bob\", 0, 200);\n",
    "acc2.Loan(100.0); // Erro. Pois acc2 é do tipo Account, logo não possui o método Loan   \n",
    "// 3. OUtra forma   \n",
    "Account acc3 = new SavingsAccount(1004, \"Anna\", 0, 0.01);\n",
    "\n",
    "// DOWNCASTING\n",
    "BusinessAccount acc4 = (BusinessAccount)acc2;   \n",
    "acc4.Loan(100.0); // OK\n",
    "\n",
    "BusinessAccount acc5 = (BusinessAccount)acc3; // Erro, pois acc3 é do tipo SavingsAccount. Filhos são incompatíveis entre si."
   ]
  },
  {
   "cell_type": "markdown",
   "metadata": {},
   "source": [
    "# # AS & IS \n",
    "\n",
    "* IS: Verifica de qual instância o objeto faz parte.\n",
    "* AS: Outra forma de fazer casting."
   ]
  },
  {
   "cell_type": "code",
   "execution_count": null,
   "metadata": {
    "vscode": {
     "languageId": "javascript"
    }
   },
   "outputs": [],
   "source": [
    "if (acc3 is BusinessAccount) // Verifica se acc3 é uma instância do BusinessAccount\n",
    "{\n",
    "    // BusinessAccount acc5 = (BusinessAccount)acc3;\n",
    "    BusinessAccount acc5 = acc3 as BusinessAccount; // Outra forma de fazer o downcasting   \n",
    "    acc5.Loan(200.0);\n",
    "    Console.WriteLine(\"Loan!\");\n",
    "}   \n",
    "if (acc3 is SavingsAccount) // Verifica se acc3 é uma instância do SavingsAccount\n",
    "{\n",
    "    // SavingsAccount acc5 = (SavingsAccount)acc3;\n",
    "    SavingsAccount acc5 = acc3 as SavingsAccount; // Outra forma de fazer o downcasting\n",
    "    acc5.UpdateBalance();\n",
    "    Console.WriteLine(\"Update!\");\n",
    "}   \n",
    "\n",
    "// Como acc3 é do tipo SavingsAccount, o resultado será \"Update!\"\n"
   ]
  }
 ],
 "metadata": {
  "kernelspec": {
   "display_name": "Python 3.10.4 64-bit",
   "language": "python",
   "name": "python3"
  },
  "language_info": {
   "name": "python",
   "version": "3.10.4"
  },
  "orig_nbformat": 4,
  "vscode": {
   "interpreter": {
    "hash": "aee8b7b246df8f9039afb4144a1f6fd8d2ca17a180786b69acc140d282b71a49"
   }
  }
 },
 "nbformat": 4,
 "nbformat_minor": 2
}
