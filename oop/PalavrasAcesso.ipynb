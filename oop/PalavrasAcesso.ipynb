{
 "cells": [
  {
   "cell_type": "markdown",
   "metadata": {},
   "source": [
    "# #This\n",
    "\n",
    "* Ref.: https://learn.microsoft.com/pt-br/dotnet/csharp/language-reference/keywords/this\n",
    "\n",
    "É uma referência ao próprio objeto instanciado."
   ]
  },
  {
   "cell_type": "markdown",
   "metadata": {},
   "source": [
    "## Diferenciar Atributo e Parâmetro\n",
    "\n",
    "Em Java é comum usar this para diferenciar estas variáveis. Porém em C#, o uso do PascalCase x camelCase resolve este problema."
   ]
  },
  {
   "cell_type": "code",
   "execution_count": null,
   "metadata": {
    "dotnet_interactive": {
     "language": "csharp"
    },
    "vscode": {
     "languageId": "dotnet-interactive.csharp"
    }
   },
   "outputs": [],
   "source": [
    "// Em c# o correto seria deixar os parâmetros com letras mínusculas.: \n",
    "// public Produto(string nome, double preco){\n",
    "public Produto(string Nome, double Preco){\n",
    "    this.Nome = Nome;\n",
    "    this.Preco = Preco; \n",
    "}"
   ]
  },
  {
   "cell_type": "markdown",
   "metadata": {},
   "source": [
    "## Referenciar outro construtor em um construtor."
   ]
  },
  {
   "cell_type": "code",
   "execution_count": null,
   "metadata": {
    "dotnet_interactive": {
     "language": "csharp"
    },
    "vscode": {
     "languageId": "dotnet-interactive.csharp"
    }
   },
   "outputs": [],
   "source": [
    "using System.Globalization; \n",
    "\n",
    "namespace Course {\n",
    "    class Produto {\n",
    "        public string Nome; \n",
    "        public double Preco; \n",
    "        public int Quantidade;\n",
    "\n",
    "        // Construtor padrão. Ocorre quando inicializamos o objeto sem parâmetros. Já recebe o atributo quantidade = 0.\n",
    "        public Produto() { \n",
    "            Quantidade = 0;\n",
    "        }\n",
    "        // Construtor 2 parâmetros.\n",
    "        // Se inicializarmos o objeto com 2 parâmetros, por causa do 'this' ele também irá chamar o construtor padrão e a quantidade será 0.\n",
    "        public Produto(string nome, double preco) : this() { \n",
    "            Nome = nome;\n",
    "            Preco = preco;\n",
    "        }\n",
    "        // Se inicializarmos o objeto com 3 parâmetros, por causa do 'this' ele também irá chamar o construtor de 2 parâmetros. \n",
    "        // Temos assim um código mais limpo e organizado.   \n",
    "        public Produto(string nome, double preco, int quantidade) : this(nome, preco) { \n",
    "            Quantidade = quantidade;\n",
    "        }\n",
    "    }\n",
    "}"
   ]
  },
  {
   "cell_type": "markdown",
   "metadata": {},
   "source": [
    "## Passar o próprio objeto instanciado como argumento de um método/construtor"
   ]
  },
  {
   "cell_type": "markdown",
   "metadata": {},
   "source": [
    "# #Base\n",
    "\n",
    "* Ref.: https://learn.microsoft.com/pt-br/dotnet/csharp/language-reference/keywords/base"
   ]
  },
  {
   "cell_type": "markdown",
   "metadata": {},
   "source": []
  }
 ],
 "metadata": {
  "kernelspec": {
   "display_name": ".NET (C#)",
   "language": "C#",
   "name": ".net-csharp"
  },
  "language_info": {
   "file_extension": ".cs",
   "mimetype": "text/x-csharp",
   "name": "C#",
   "pygments_lexer": "csharp",
   "version": "9.0"
  },
  "orig_nbformat": 4
 },
 "nbformat": 4,
 "nbformat_minor": 2
}
