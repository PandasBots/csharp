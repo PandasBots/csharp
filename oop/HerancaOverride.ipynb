{
 "cells": [
  {
   "cell_type": "markdown",
   "metadata": {},
   "source": [
    "# # Sobreposição/Sobrescrita\n",
    "\n",
    "* É a implementação de um método da superclasse na subclasse.\n",
    "\n",
    "* Para que um método comum (Não abstrato) possa ser sobrescrito, precisa conter a declaração `virtual`.\n",
    "\n",
    "* Da mesma forma, um método que será sobrescrito deve conter `override`."
   ]
  },
  {
   "cell_type": "markdown",
   "metadata": {},
   "source": [
    "## Exemplo: Saque com regras diferentes dependendo da classe.\n",
    "\n",
    "No exemplo abaixo, a classe Savings ao invés de herdar o método Withdraw idêntico de Account, irá ter um método Withdraw modificado."
   ]
  },
  {
   "cell_type": "code",
   "execution_count": null,
   "metadata": {
    "vscode": {
     "languageId": "javascript"
    }
   },
   "outputs": [],
   "source": [
    "// Classe Base: Account\n",
    "// Aqui é preciso usar a palavra virtual para que a classe derivada possa sobrescrever o método da classe base\n",
    "public virtual void Withdraw(double amount){\n",
    "    Balance -= amount + 5.0;    \n",
    "}\n",
    "\n",
    "// Classe Derivada: SavingsAccount  \n",
    "// Aqui é preciso usar a palavra override para sobrescrever o método da classe base\n",
    "public override void Withdraw(double amount){\n",
    "    Balance -= amount;  \n",
    "}"
   ]
  },
  {
   "cell_type": "markdown",
   "metadata": {},
   "source": [
    "* Também é possível manter a chamada do método Withdraw da classe Base. Incluindo operações adicionais se necessário."
   ]
  },
  {
   "cell_type": "code",
   "execution_count": null,
   "metadata": {
    "vscode": {
     "languageId": "javascript"
    }
   },
   "outputs": [],
   "source": [
    "// Classe Base: Account\n",
    "public virtual void Withdraw(double amount){\n",
    "    Balance -= amount + 5.0;    \n",
    "}\n",
    "\n",
    "// Classe Derivada: SavingsAccount\n",
    "public override void Withdraw(double amount){   \n",
    "    base.Withdraw(amount); // Chama o método da classe base, que realiza o saque com taxa de 5.0    \n",
    "    Balance += - 2.0; // Acrescenta -2.0 ao saldo\n",
    "}"
   ]
  }
 ],
 "metadata": {
  "kernelspec": {
   "display_name": "Python 3.10.4 64-bit",
   "language": "python",
   "name": "python3"
  },
  "language_info": {
   "name": "python",
   "version": "3.10.4"
  },
  "orig_nbformat": 4,
  "vscode": {
   "interpreter": {
    "hash": "aee8b7b246df8f9039afb4144a1f6fd8d2ca17a180786b69acc140d282b71a49"
   }
  }
 },
 "nbformat": 4,
 "nbformat_minor": 2
}
