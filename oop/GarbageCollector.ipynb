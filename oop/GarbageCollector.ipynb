{
 "cells": [
  {
   "cell_type": "markdown",
   "metadata": {},
   "source": [
    "# # Garbage Collector\n",
    "\n",
    "* É um processo que automatiza o gerenciamento de memória de um programa em execução.\n",
    "* O garbage collector monitora os objetos alocados dinamicamente pelo programa (no heap) desalocando aqueles que não estão mais sendo utilizados, ou seja, que já não são mais referenciados.\n",
    "\n",
    "<div>\n",
    "<img src=\"img/gc.png\" width=\"500\"/>\n",
    "</div>"
   ]
  },
  {
   "cell_type": "markdown",
   "metadata": {},
   "source": [
    "# # Desalocação por Escopo\n",
    "\n",
    "As variáveis criadas num método só existem enquanto o método estiver rodando. Mesmo dentro de um if, a variável só existe enquanto o if estiver sendo usado.\n",
    "\n",
    "• Objetos alocados dinamicamente, quando não possuem mais referência para eles, serão desalocados pelo garbage collector.\n",
    "• Variáveis locais são desalocadas imediatamente assim que seu escopo local sai de execução.\n",
    "\n",
    "<div>\n",
    "<img src=\"img/de1.png\" width=\"330\"/>\n",
    "<img src=\"img/de2.png\" width=\"330\"/>\n",
    "<img src=\"img/de3.png\" width=\"330\"/>\n",
    "</div>"
   ]
  },
  {
   "cell_type": "markdown",
   "metadata": {},
   "source": [
    "## Outros Exemplo - Métodos\n",
    "\n",
    "<div>\n",
    "<img src=\"img/1de1.png\" width=\"330\"/>\n",
    "<img src=\"img/1de2.png\" width=\"330\"/>\n",
    "<img src=\"img/1de3.png\" width=\"330\"/>\n",
    "</div>\n"
   ]
  }
 ],
 "metadata": {
  "kernelspec": {
   "display_name": "Python 3.10.4 64-bit",
   "language": "python",
   "name": "python3"
  },
  "language_info": {
   "name": "python",
   "version": "3.10.4"
  },
  "orig_nbformat": 4,
  "vscode": {
   "interpreter": {
    "hash": "aee8b7b246df8f9039afb4144a1f6fd8d2ca17a180786b69acc140d282b71a49"
   }
  }
 },
 "nbformat": 4,
 "nbformat_minor": 2
}
