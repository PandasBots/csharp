{
 "cells": [
  {
   "cell_type": "markdown",
   "metadata": {},
   "source": [
    "# # Abstrações\n",
    "\n",
    "* Ref.: https://learn.microsoft.com/pt-br/dotnet/csharp/language-reference/keywords/abstract\n",
    "\n",
    "* O modificador abstract indica que o item que está sendo modificado tem uma implementação ausente ou incompleta. O modificador abstrato pode ser usado com classes, métodos, propriedades, indexadores e eventos. Use o modificador abstract em uma declaração de classe para indicar que uma classe se destina somente a ser uma classe base de outras classes, não instanciada por conta própria. Membros marcados como abstratos precisam ser implementados por classes não abstratas que derivam da classe abstrata."
   ]
  },
  {
   "cell_type": "markdown",
   "metadata": {},
   "source": [
    "# # Classe Abstrata\n",
    "\n",
    "* São Classes que não podem ser instanciadas. Garantia de herança total. Apenas a subclasse não abstrata poderá ser instanciada, mas nunca a classe mãe abstata.\n",
    "\n",
    "* Vantagem: \n",
    "    * Reuso: Como as classes Savings E Business tem características em comum, faz sentido ter a classe mãe Account.\n",
    "    * Polimorfismo: Você pode criar variáveis do tipo abstrato mas que apontam para tipos específicos não abstratos. Isso é útil, pois podem ser tratados da mesma forma, por exemplo os armazenando numa lista do tipo abstrato."
   ]
  },
  {
   "cell_type": "markdown",
   "metadata": {},
   "source": [
    "<div>\n",
    "<img src=\"img/abs1.png\" width=\"500\"/>\n",
    "</div>"
   ]
  },
  {
   "cell_type": "markdown",
   "metadata": {},
   "source": [
    "# # Método Abstrato\n",
    "\n",
    "* Quando o método é genérico demais para estar na classe mãe. Ele depende da subclasse associada. Por exemplo, o método área vai depender se o objeto é da subclasse círculo ou retângulo.\n",
    "\n",
    "* No caso da classe abstrata ela era necessária para que objetos de tipos diferentes conversassem entre si. Aqui ocorre algo semelhante. Porém não pela via da classe mas pela via do método. Ou seja, seria possível criar métodos específicos para círculo e retângulo, mas aí eles não iriam se conversar. Logo, criamos o método área abstrato na classe mãe, e deixamos eles serem especificados nas filhas.\n",
    "\n",
    "* Se uma classe possui ao menos um método abstrado, então ela também será abstrata.\n",
    "\n",
    "<div>\n",
    "<img src=\"img/abs2.png\" width=\"500\"/>\n",
    "</div>"
   ]
  },
  {
   "cell_type": "markdown",
   "metadata": {},
   "source": []
  }
 ],
 "metadata": {
  "kernelspec": {
   "display_name": "Python 3.10.4 64-bit",
   "language": "python",
   "name": "python3"
  },
  "language_info": {
   "name": "python",
   "version": "3.10.4"
  },
  "orig_nbformat": 4,
  "vscode": {
   "interpreter": {
    "hash": "aee8b7b246df8f9039afb4144a1f6fd8d2ca17a180786b69acc140d282b71a49"
   }
  }
 },
 "nbformat": 4,
 "nbformat_minor": 2
}
