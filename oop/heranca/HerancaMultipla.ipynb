{
 "cells": [
  {
   "cell_type": "markdown",
   "metadata": {},
   "source": [
    "# # Problema do Diamante\n",
    "\n",
    "* Não é permitida, pois no caso abaixo, a classe comboDevice terá ambiguidade na hora de receber o método processDoc().\n",
    "\n",
    "<div>\n",
    "<img src=\"_img/diamante.png\" width=\"500\"/>\n",
    "</div>"
   ]
  },
  {
   "cell_type": "markdown",
   "metadata": {},
   "source": [
    "## Solução\n",
    "\n",
    "<div>\n",
    "<img src=\"_img/diamante1.png\" width=\"500\"/>\n",
    "</div>"
   ]
  },
  {
   "cell_type": "code",
   "execution_count": null,
   "metadata": {
    "vscode": {
     "languageId": "javascript"
    }
   },
   "outputs": [],
   "source": [
    "// Implementação da classe Abstrata Device\n",
    "namespace Course.Devices {\n",
    "    abstract class Device {\n",
    "        public int SerialNumber { get; set; }\n",
    "\n",
    "        public abstract void ProcessDoc(string document);\n",
    "    }\n",
    "}"
   ]
  },
  {
   "cell_type": "code",
   "execution_count": null,
   "metadata": {
    "vscode": {
     "languageId": "javascript"
    }
   },
   "outputs": [],
   "source": [
    "// Interface IPrinter com método Print\n",
    "namespace Course.Devices {\n",
    "    interface IPrinter {\n",
    "        void Print(string document);\n",
    "    }\n",
    "}"
   ]
  },
  {
   "cell_type": "code",
   "execution_count": null,
   "metadata": {
    "vscode": {
     "languageId": "javascript"
    }
   },
   "outputs": [],
   "source": [
    "// Interface IScanner com método Scan\n",
    "namespace Course.Devices {\n",
    "    interface IScanner {\n",
    "        string Scan();\n",
    "    }\n",
    "}"
   ]
  },
  {
   "cell_type": "code",
   "execution_count": null,
   "metadata": {
    "vscode": {
     "languageId": "javascript"
    }
   },
   "outputs": [],
   "source": [
    "// Printer\n",
    "// Subclasses de Device mas também implementa o método Print da interface IPrinter  \n",
    "namespace Course.Devices {\n",
    "    class Printer : Device, IPrinter {\n",
    "\n",
    "        public override void ProcessDoc(string document) {\n",
    "            Console.WriteLine(\"Printer processing: \" + document);\n",
    "        }\n",
    "\n",
    "        public void Print(string document) {\n",
    "            Console.WriteLine(\"Printer print \" + document);\n",
    "        }\n",
    "    }\n",
    "}"
   ]
  },
  {
   "cell_type": "code",
   "execution_count": null,
   "metadata": {
    "vscode": {
     "languageId": "javascript"
    }
   },
   "outputs": [],
   "source": [
    "// Scanner\n",
    "// Subclasses de Device mas também implementa o método Scabn da interface IScaaner  \n",
    "\n",
    "namespace Course.Devices {\n",
    "    class Scanner : Device, IScanner {\n",
    "\n",
    "        public override void ProcessDoc(string document) {\n",
    "            Console.WriteLine(\"Scanner processing: \" + document);\n",
    "        }\n",
    "\n",
    "        public string Scan() {\n",
    "            return \"Scanner scan result\";\n",
    "        }\n",
    "    }\n",
    "}"
   ]
  },
  {
   "cell_type": "code",
   "execution_count": null,
   "metadata": {
    "vscode": {
     "languageId": "javascript"
    }
   },
   "outputs": [],
   "source": [
    "// ComboDevice\n",
    "// Irá herdar de Iprinter e IScanner para trazer os métodos sem ambiguidade. E também irá herdar de Device para trazer o método ProcessDoc.\n",
    "namespace Course.Devices {\n",
    "    class ComboDevice : Device, IScanner, IPrinter {\n",
    "        // IPrinter\n",
    "        public void Print(string document) {\n",
    "            Console.WriteLine(\"Combodevice print \" + document);\n",
    "        }\n",
    "        // Device\n",
    "        public override void ProcessDoc(string document) {\n",
    "            Console.WriteLine(\"Combodevice processing \" + document);\n",
    "        }\n",
    "        // IScanner\n",
    "        public string Scan() {\n",
    "            return \"Combodevice scan result\";\n",
    "        }\n",
    "    }\n",
    "}"
   ]
  },
  {
   "cell_type": "markdown",
   "metadata": {},
   "source": [
    "* E o Program:"
   ]
  },
  {
   "cell_type": "code",
   "execution_count": null,
   "metadata": {
    "vscode": {
     "languageId": "javascript"
    }
   },
   "outputs": [],
   "source": [
    "\n",
    "\n",
    "using System;\n",
    "using Course.Devices;\n",
    "\n",
    "namespace Course {\n",
    "    class Program {\n",
    "        static void Main(string[] args) {\n",
    "\n",
    "            Printer p = new Printer() { SerialNumber = 1080 };\n",
    "            p.ProcessDoc(\"My letter\");\n",
    "            p.Print(\"My letter\");\n",
    "\n",
    "            Scanner s = new Scanner() { SerialNumber = 2003 };\n",
    "            s.ProcessDoc(\"My Email\");\n",
    "            Console.WriteLine(s.Scan());\n",
    "\n",
    "            ComboDevice c = new ComboDevice() { SerialNumber = 3921 };\n",
    "            c.ProcessDoc(\"My dissertation\");\n",
    "            c.Print(\"My dissertation\");\n",
    "            Console.WriteLine(c.Scan());\n",
    "        }\n",
    "    }\n",
    "}"
   ]
  }
 ],
 "metadata": {
  "kernelspec": {
   "display_name": "Python 3.10.4 64-bit",
   "language": "python",
   "name": "python3"
  },
  "language_info": {
   "name": "python",
   "version": "3.10.4"
  },
  "orig_nbformat": 4,
  "vscode": {
   "interpreter": {
    "hash": "aee8b7b246df8f9039afb4144a1f6fd8d2ca17a180786b69acc140d282b71a49"
   }
  }
 },
 "nbformat": 4,
 "nbformat_minor": 2
}
