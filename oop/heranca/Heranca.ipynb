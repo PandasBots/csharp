{
 "cells": [
  {
   "cell_type": "markdown",
   "metadata": {},
   "source": [
    "# # Herança\n",
    "\n",
    "* Ref.: https://learn.microsoft.com/pt-br/dotnet/csharp/fundamentals/tutorials/inheritance\n",
    "\n",
    "### Sintaxe\n",
    "\n",
    ": (estende)\n",
    "\n",
    "### Informações: O que é a herança?\n",
    "\n",
    "Herança é um dos atributos fundamentais da programação orientada a objeto. Ela permite que você defina uma classe filha que reutiliza (herda), estende ou modifica o comportamento de uma classe pai. A classe cujos membros são herdados é chamada de classe base. A classe que herda os membros da classe base é chamada de classe derivada.\n",
    "\n",
    "C# e .NET oferecem suporte apenas à herança única. Ou seja, uma classe pode herdar apenas de uma única classe. No entanto, a herança é transitiva, o que permite que você defina uma hierarquia de herança para um conjunto de tipos. Em outras palavras, o tipo D pode herdar do tipo C, que herda do tipo B, que herda do tipo de classe base A. Como a herança é transitiva, os membros do tipo A estão disponíveis ao tipo D.\n",
    "\n",
    "Nem todos os membros de uma classe base são herdados por classes derivadas. Os membros a seguir não são herdados:\n",
    "\n",
    "* Construtores estáticos, que inicializam os dados estáticos de uma classe.\n",
    "\n",
    "* Construtores de instância, que você chama para criar uma nova instância da classe. Cada classe deve definir seus próprios construtores.\n",
    "\n",
    "* Finalizadores, que são chamados pelo coletor de lixo do runtime para destruir as instâncias de uma classe."
   ]
  },
  {
   "cell_type": "markdown",
   "metadata": {},
   "source": [
    "# Exemplo: Ver HerancaExemplo\n",
    "\n",
    "<div>\n",
    "<img src=\"img/herancaexemplo.png\" width=\"500\"/>\n",
    "</div>\n",
    "\n",
    "* Adicionar o folder \"Entities\"\n",
    "* Adicionar as classes Account e BusinessAccount"
   ]
  },
  {
   "cell_type": "markdown",
   "metadata": {},
   "source": [
    "* Para que a classe filha herde de uma classe base, basta usar o : (estende)"
   ]
  },
  {
   "cell_type": "code",
   "execution_count": null,
   "metadata": {
    "vscode": {
     "languageId": "javascript"
    }
   },
   "outputs": [],
   "source": [
    "using System;\n",
    "namespace HerancaExemplo.Entities\n",
    "{\n",
    "    class BusinessAccount : Account\n",
    "    {\n",
    "        public BusinessAccount()\n",
    "        {\n",
    "        }\n",
    "    }\n",
    "}"
   ]
  },
  {
   "cell_type": "markdown",
   "metadata": {},
   "source": [
    "* O reuso de código ocorre, por exemplo, quando chamamos base(args) ao invés de atribuir novamente cada uma das variáveis deste objeto."
   ]
  },
  {
   "cell_type": "code",
   "execution_count": null,
   "metadata": {
    "vscode": {
     "languageId": "javascript"
    }
   },
   "outputs": [],
   "source": [
    "// Para o construtor do Business account, ao invés de atribuir cada variável, basta chamar base e inputar tais variáveis.\n",
    "public BusinessAccount(int number, string holder, double balance, double loanLimit) : base(number, holder, balance)\n",
    "    {\n",
    "    /*\n",
    "    Number = number;\n",
    "    Holder = holder;\n",
    "    Balance = balance;\n",
    "    */\n",
    "    LoanLimit = loanLimit;\n",
    "}"
   ]
  },
  {
   "cell_type": "markdown",
   "metadata": {},
   "source": [
    "### Modificadores de acesso\n",
    "\n",
    "* O modificador `private set` não permite que as variáveis da classe sejam alteradas fora dela. `Nem mesmo nas suas filhas`."
   ]
  },
  {
   "cell_type": "code",
   "execution_count": null,
   "metadata": {
    "vscode": {
     "languageId": "javascript"
    }
   },
   "outputs": [],
   "source": [
    "class Account\n",
    "{\n",
    "    // 1. Atributos\n",
    "    public int Number { get; private set; }\n",
    "    public string Holder { get; private set; }\n",
    "    public double Balance { get; private set; }"
   ]
  },
  {
   "cell_type": "markdown",
   "metadata": {},
   "source": [
    "* A solução é o usar o modificador `protected`, que permite acesso também para as subclasses."
   ]
  },
  {
   "cell_type": "code",
   "execution_count": null,
   "metadata": {
    "vscode": {
     "languageId": "javascript"
    }
   },
   "outputs": [],
   "source": [
    "class Account\n",
    "{\n",
    "    // 1. Atributos\n",
    "    public int Number { get; protected set; }\n",
    "    public string Holder { get; protected set; }\n",
    "    public double Balance { get; protected set; }"
   ]
  },
  {
   "cell_type": "markdown",
   "metadata": {},
   "source": [
    "* Logo, o atributo pode ser acessado GET, mas não modificado SET. Fora da classe ou subclasses."
   ]
  },
  {
   "cell_type": "code",
   "execution_count": null,
   "metadata": {
    "vscode": {
     "languageId": "javascript"
    }
   },
   "outputs": [],
   "source": [
    "using System;\n",
    "using HerancaExemplo.Entities;\n",
    "\n",
    "namespace HerancaExemplo // Note: actual namespace depends on the project name.\n",
    "{\n",
    "    internal class Program\n",
    "    {\n",
    "        static void Main(string[] args)\n",
    "        {\n",
    "            Console.WriteLine(\"Hello World!\");\n",
    "            // Criar objeto BusinesseAccount\n",
    "            BusinessAccount account = new BusinessAccount(800, \"bob\", 100, 500);\n",
    "            // Pode ser acessado GET\n",
    "            Console.WriteLine(account.Balance);\n",
    "            // Não pode ser modificado SET\n",
    "            account.Balance = 10;\n",
    "\n",
    "        }\n",
    "    }\n",
    "}"
   ]
  }
 ],
 "metadata": {
  "kernelspec": {
   "display_name": "Python 3.10.4 64-bit",
   "language": "python",
   "name": "python3"
  },
  "language_info": {
   "name": "python",
   "version": "3.10.4"
  },
  "orig_nbformat": 4,
  "vscode": {
   "interpreter": {
    "hash": "aee8b7b246df8f9039afb4144a1f6fd8d2ca17a180786b69acc140d282b71a49"
   }
  }
 },
 "nbformat": 4,
 "nbformat_minor": 2
}
