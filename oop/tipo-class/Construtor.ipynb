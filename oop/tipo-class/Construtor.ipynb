{
 "cells": [
  {
   "cell_type": "markdown",
   "metadata": {},
   "source": [
    "# Construtor\n",
    "\n",
    "* Ref.: https://learn.microsoft.com/pt-br/dotnet/csharp/programming-guide/classes-and-structs/constructors"
   ]
  },
  {
   "cell_type": "markdown",
   "metadata": {},
   "source": [
    "## # Tipos de Construtor\n",
    "\n",
    "Pontos Principais\n",
    "\n",
    "* É uma operação instrínseca da classe, executada quando se inicia um objeto da classe.\n",
    "\n",
    "* Usos:\n",
    "    * Iniciar valor dos atributos.\n",
    "    * Permitir/Obrigar que o objeto receba dados/dependências no momento da instanciação. (Injection Dependency)\n"
   ]
  },
  {
   "cell_type": "markdown",
   "metadata": {},
   "source": [
    "### Construtor padrão\n"
   ]
  },
  {
   "cell_type": "code",
   "execution_count": null,
   "metadata": {
    "dotnet_interactive": {
     "language": "csharp"
    },
    "vscode": {
     "languageId": "dotnet-interactive.csharp"
    }
   },
   "outputs": [],
   "source": [
    "// Instância vazia. Sem atributos.\n",
    "\n",
    "NomeClasse p = new NomeClasse();\n",
    "\n",
    "// inicializa\n",
    "p"
   ]
  },
  {
   "cell_type": "markdown",
   "metadata": {},
   "source": [
    "### Construtor Customizado"
   ]
  },
  {
   "cell_type": "code",
   "execution_count": 1,
   "metadata": {
    "dotnet_interactive": {
     "language": "csharp"
    },
    "vscode": {
     "languageId": "dotnet-interactive.csharp"
    }
   },
   "outputs": [],
   "source": [
    "public class Person\n",
    "{\n",
    "   private string last;\n",
    "   private string first;\n",
    "\n",
    "   public Person(string lastName, string firstName)\n",
    "   {\n",
    "      last = lastName;\n",
    "      first = firstName;\n",
    "   }\n",
    "\n",
    "   // Remaining implementation of Person class.\n",
    "}"
   ]
  },
  {
   "cell_type": "code",
   "execution_count": null,
   "metadata": {
    "dotnet_interactive": {
     "language": "csharp"
    },
    "vscode": {
     "languageId": "dotnet-interactive.csharp"
    }
   },
   "outputs": [],
   "source": [
    "using System;\n",
    "\n",
    "Person p = new Person(\"Smith\", \"John\");\n",
    "\n",
    "p"
   ]
  },
  {
   "cell_type": "markdown",
   "metadata": {},
   "source": [
    "## #Sobrecarga\n",
    "\n",
    "Ocorre quando criamos mais de um construtor customizado, com diferente número de parâmetros. Assim, ao instanciar este objeto, podemos definir quais parâmetros enviar."
   ]
  },
  {
   "cell_type": "code",
   "execution_count": null,
   "metadata": {
    "dotnet_interactive": {
     "language": "csharp"
    },
    "vscode": {
     "languageId": "dotnet-interactive.csharp"
    }
   },
   "outputs": [],
   "source": [
    "public class Person\n",
    "{\n",
    "   public string Last;\n",
    "   public string First;\n",
    "   public int Age;\n",
    "\n",
    "   // Construtor 1: 3 parâmetros\n",
    "   public Person(string lastName, string firstName, int age)\n",
    "   {\n",
    "      Last = lastName;\n",
    "      First = firstName;\n",
    "      Age = age;\n",
    "   }\n",
    "   // Construtor 2: 2 parâmetros. O atributo Age é inicializado com 0. \n",
    "   public Person(string lastName, string firstName)\n",
    "   {\n",
    "      Last = lastName;\n",
    "      First = firstName;\n",
    "      Age = 0;\n",
    "   }\n",
    "\n",
    "   // Remaining implementation of Person class.\n",
    "}\n",
    "\n",
    "\n",
    "// E podendo ser chamado assim:\n",
    "\n",
    "Person p1 = new Person(\"Smith\", \"John\", 21);    \n",
    "// Neste caso, o atributo Age será por definição 0. Conforme descrito no construtor 2.  \n",
    "Person p2 = new Person(\"Smith\", \"John\");"
   ]
  },
  {
   "cell_type": "markdown",
   "metadata": {},
   "source": [
    "## # Instânciar um Objeto"
   ]
  },
  {
   "cell_type": "code",
   "execution_count": null,
   "metadata": {
    "dotnet_interactive": {
     "language": "csharp"
    },
    "vscode": {
     "languageId": "dotnet-interactive.csharp"
    }
   },
   "outputs": [],
   "source": [
    "// Supondo a seguinte classe:\n",
    "\n",
    "public class Person\n",
    "{\n",
    "   public string last;\n",
    "   public string first;\n",
    "\n",
    "}\n",
    "\n",
    "// Inicialização\n",
    "\n",
    "// O construtor padrão será:\n",
    "Person p1 = new Person();\n",
    "\n",
    "// O construtor que sempre funciona será:\n",
    "Person p2 = new Person(){\n",
    "    last = \"Smith\",\n",
    "    first = \"John\"\n",
    "};\n",
    "\n",
    "// MAs não irá funcionar o construtor que recebe parâmetros. Para isso, é preciso construir o construtor personalizado dentro da classe!\n",
    "Person p3 = new Person(\"Smith\", \"John\");    // Erro!"
   ]
  }
 ],
 "metadata": {
  "kernelspec": {
   "display_name": ".NET (C#)",
   "language": "C#",
   "name": ".net-csharp"
  },
  "language_info": {
   "file_extension": ".cs",
   "mimetype": "text/x-csharp",
   "name": "C#",
   "pygments_lexer": "csharp",
   "version": "9.0"
  },
  "orig_nbformat": 4
 },
 "nbformat": 4,
 "nbformat_minor": 2
}
