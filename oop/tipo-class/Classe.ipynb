{
 "cells": [
  {
   "cell_type": "markdown",
   "metadata": {},
   "source": [
    "# Programação Orientada a Objetos\n",
    "\n",
    "A programação Orientada a Objetos é útil quando existem entidades/objetos no código que se repetem. \n",
    "\n",
    "Objetos que possuem funções/métodos repetidos ou mesmo atributos que serão usados muitas vezes.\n",
    "\n",
    "A orientação a objetos é uma maneira mais eficiente de desenhar grandes aplicações, deixando o código mais segmentado e legível."
   ]
  },
  {
   "cell_type": "markdown",
   "metadata": {},
   "source": [
    "# Classe (PascalCase)\n",
    "\n",
    "* É  a estrutura usada para representar os objetos. É o tipo.\n",
    "\n",
    "* O objeto são as instâncias, criadas dinâmicamente. Eles possuem:\n",
    "    * Atributos: são os dados/campos/características do objeto.\n",
    "    * Métodos: são as funções, operações associadas a esta classe.\n",
    "\n",
    "* Outros recursos das classes:\n",
    "    * Construtores\n",
    "    * Sobrecargas\n",
    "    * Encapsulamento\n",
    "    * Herança\n",
    "    * Polimorfismo\n",
    "\n",
    "* Exemplos:\n",
    "    * Entidades: Produto, cliente, entidade..\n",
    "    * Serviços\n",
    "    * Controladores\n",
    "    * Utilitários\n"
   ]
  },
  {
   "cell_type": "markdown",
   "metadata": {},
   "source": [
    "## Estrutura da Classe\n",
    "\n",
    "A estrutura da classe é alocada na parte Stack da memória, porém, um objeto criado a partir desta classe é armazenado na parte Heap (Dinâmica) da memória.\n",
    "\n",
    "Logo, todo objeto criado é uma instância da Classe, alocado dinamicamente na memória.\n",
    "\n",
    "<div>\n",
    "<img src=\"_img/classe1.png\" width=\"500\"/>\n",
    "<img src=\"_img/classe2.png\" width=\"500\"/>\n",
    "</div>"
   ]
  },
  {
   "cell_type": "markdown",
   "metadata": {},
   "source": [
    "# Design e Organização\n",
    "\n",
    "* Num sistema orientado a objetos, tudo é 'objeto'. Mas eles podem ser agrupados e categorizados.\n",
    "\n",
    "* Principais categorias:\n",
    "    * Views\n",
    "    * Entities\n",
    "    * Controllers\n",
    "    * Services\n",
    "    * Repositories"
   ]
  },
  {
   "cell_type": "markdown",
   "metadata": {},
   "source": [
    "## Criando a Classe\n",
    "\n",
    "* Ver pasta \"HelpClass\"\n",
    "\n",
    "<div>\n",
    "<img src=\"_img/classe3.png\" width=\"500\"/>\n",
    "</div>"
   ]
  },
  {
   "cell_type": "code",
   "execution_count": null,
   "metadata": {
    "dotnet_interactive": {
     "language": "csharp"
    },
    "vscode": {
     "languageId": "dotnet-interactive.csharp"
    }
   },
   "outputs": [],
   "source": [
    "using System;\n",
    "\n",
    "namespace HelpClass{\n",
    "    public class Triangulo{\n",
    "            // Atributos do Triangulo\n",
    "            public double A;\n",
    "            public double B;\n",
    "            public double C;\n",
    "        }\n",
    "    }\n",
    "\n",
    "// E pode ser inicializada:\n",
    "\n",
    "namespace HelpClass{\n",
    "    internal class Program\n",
    "    {\n",
    "        static void Main(string[] args)\n",
    "        {\n",
    "            // Inicia o objeto\n",
    "            Triangulo x;\n",
    "            x = new Triangulo();\n",
    "            // Define seus atributos\n",
    "            x.A = 1;\n",
    "            x.B = 2;\n",
    "            x.C = 3;\n",
    "            // Imprime um atributo no console\n",
    "            Console.WriteLine(x.A);\n",
    "        }\n",
    "    }\n",
    "}"
   ]
  },
  {
   "cell_type": "markdown",
   "metadata": {},
   "source": [
    "## Membros da Classe: Atributos e Métodos"
   ]
  },
  {
   "cell_type": "markdown",
   "metadata": {},
   "source": [
    "## Atributos\n",
    "\n",
    "Uma vez criada a classe, um atributo é acessado e modificado da seguinte maneira:"
   ]
  },
  {
   "cell_type": "code",
   "execution_count": null,
   "metadata": {
    "dotnet_interactive": {
     "language": "csharp"
    },
    "vscode": {
     "languageId": "dotnet-interactive.csharp"
    }
   },
   "outputs": [],
   "source": [
    "Triangulo x;\n",
    "\n",
    "x = new Triangulo();\n",
    "// Define o atributo A da instância da classe Triangulo\n",
    "x.A = 1;\n"
   ]
  },
  {
   "cell_type": "markdown",
   "metadata": {},
   "source": [
    "## Métodos"
   ]
  },
  {
   "cell_type": "code",
   "execution_count": null,
   "metadata": {
    "dotnet_interactive": {
     "language": "csharp"
    },
    "vscode": {
     "languageId": "dotnet-interactive.csharp"
    }
   },
   "outputs": [],
   "source": [
    "// É uma função associada a uma determinada classe.\n",
    "\n",
    "namespace HelpClass{\n",
    "    public class Triangulo{\n",
    "        // Atributos do Triangulo\n",
    "        public double A;\n",
    "        public double B;\n",
    "        public double C;\n",
    "        // Método\n",
    "        public double Area(){\n",
    "            double p = (A + B + C) / 2.0;\n",
    "            return Math.Sqrt(p * (p - A) * (p - B) * (p - C));\n",
    "            }\n",
    "        }\n",
    "    }"
   ]
  },
  {
   "cell_type": "code",
   "execution_count": null,
   "metadata": {
    "dotnet_interactive": {
     "language": "csharp"
    },
    "vscode": {
     "languageId": "dotnet-interactive.csharp"
    }
   },
   "outputs": [],
   "source": [
    "// Neste caso, a função não leva parâmetros, pois usa os atributos já instanciados do objeto. Assim, para chamar o método, basta:\n",
    "\n",
    "static void Main(string[] args)\n",
    "    {\n",
    "    Console.WriteLine(\"Hello World!\");\n",
    "    // Instancia objeto da classe triangulo\n",
    "    Triangulo x;\n",
    "    x = new Triangulo();\n",
    "    x.A = 3;\n",
    "    x.B = 4;\n",
    "    x.C = 5;\n",
    "    Console.WriteLine(x.A);\n",
    "    // Chama o método do cálculo da área\n",
    "    double areaX = x.Area();\n",
    "    Console.WriteLine(areaX);\n",
    "}"
   ]
  },
  {
   "cell_type": "markdown",
   "metadata": {},
   "source": [
    "## Membros Estáticos (De Classe) x Membros de Instância\n",
    "\n",
    "* Membros estáticos fazem sentido independente do objeto. São chamados a partir do próprio nome da classe.\n",
    "* Uma classe estática não pode ser instanciada e possui apenas membros estáticos.\n",
    "* Aplicações: Classes utilitárias (Math.Sqrt(double)) e declarações de constantes."
   ]
  },
  {
   "cell_type": "markdown",
   "metadata": {},
   "source": [
    "### Exemplo: Membro Estático"
   ]
  },
  {
   "cell_type": "code",
   "execution_count": null,
   "metadata": {
    "dotnet_interactive": {
     "language": "csharp"
    },
    "vscode": {
     "languageId": "dotnet-interactive.csharp"
    }
   },
   "outputs": [],
   "source": [
    "// Classe apenas \n",
    "class Program{\n",
    "    // Variável pi deve ser estática para ser usada dentro da função estática tb.\n",
    "    static double Pi = 3.14;\n",
    "    static double CalcCirc(double r){\n",
    "        return 2.0 * Pi * r;\n",
    "    }\n",
    "    static void Main(string[] args){\n",
    "        double raio = 1.0;\n",
    "        double circ = CalcCirc(raio);\n",
    "        Console.WriteLine(circ);\n",
    "    }\n",
    "}"
   ]
  },
  {
   "cell_type": "markdown",
   "metadata": {},
   "source": [
    "### Exemplo: Classe Estática"
   ]
  },
  {
   "cell_type": "code",
   "execution_count": null,
   "metadata": {
    "dotnet_interactive": {
     "language": "csharp"
    },
    "vscode": {
     "languageId": "dotnet-interactive.csharp"
    }
   },
   "outputs": [],
   "source": [
    "// Criando a classe, sem atributos, apenas métodos.\n",
    "\n",
    "namespace PrimeiroProjeto\n",
    "{\n",
    "    public class ClasseEstatica\n",
    "    {\n",
    "        public static double Pi = 3.14;\n",
    "        public static double CalculaCircunferencia(double raio) {\n",
    "            return 2 * Pi * raio;\n",
    "        }        \n",
    "    }\n",
    "}\n",
    "\n",
    "// Chama Operação da Clásse Estática\n",
    "\n",
    "int raio = 3;\n",
    "double circ = ClasseEstatica.CalculaCircunferencia(raio);\n",
    "Console.WriteLine($\"Circunferencia do circulo de raio: {raio} é: {circ}\");"
   ]
  }
 ],
 "metadata": {
  "kernelspec": {
   "display_name": ".NET (C#)",
   "language": "C#",
   "name": ".net-csharp"
  },
  "language_info": {
   "file_extension": ".cs",
   "mimetype": "text/x-csharp",
   "name": "C#",
   "pygments_lexer": "csharp",
   "version": "9.0"
  },
  "orig_nbformat": 4
 },
 "nbformat": 4,
 "nbformat_minor": 2
}
