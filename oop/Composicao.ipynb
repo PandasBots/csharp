{
 "cells": [
  {
   "cell_type": "markdown",
   "metadata": {},
   "source": [
    "# # Composição\n",
    "\n",
    "É um tipo de associação que permite que um objeto contenha outro.\n",
    "\n",
    "* Relação: \"tem-um\" ou \"tem-vários\"\n",
    "\n",
    "* Vantagens: \n",
    "    * Organização: Divisão de responsabilidades.\n",
    "    * Coesão, flexibilidade, reuso."
   ]
  },
  {
   "cell_type": "markdown",
   "metadata": {},
   "source": [
    "## Exemplo\n",
    "\n",
    "Na UML o diamante preto representa a composição. Relação 'todo-parte'.\n",
    "\n",
    "* Uma ordem (todo) contém vários itens (partes). \n",
    "\n",
    "* Veja que na relação order-client não é 'todo-parte', assim, não usa o diamante preto. Ainda assim é uma composição de objetos.\n",
    "\n",
    "<div>\n",
    "<img src=\"img/comp1.png\" width=\"500\"/>\n",
    "</div>"
   ]
  },
  {
   "cell_type": "markdown",
   "metadata": {},
   "source": [
    "## Exercício\n",
    "\n",
    "* Ver arquivo na pasta 'ComposicaoExercicio'.\n",
    "\n",
    "<div>\n",
    "<img src=\"img/exec1.png\" width=\"500\"/>\n",
    "</div>\n",
    "\n",
    "* Começar pelas classes que apenas recebem uma relação. Department, HourContract.."
   ]
  },
  {
   "cell_type": "markdown",
   "metadata": {},
   "source": []
  }
 ],
 "metadata": {
  "kernelspec": {
   "display_name": "Python 3.10.4 64-bit",
   "language": "python",
   "name": "python3"
  },
  "language_info": {
   "name": "python",
   "version": "3.10.4"
  },
  "orig_nbformat": 4,
  "vscode": {
   "interpreter": {
    "hash": "aee8b7b246df8f9039afb4144a1f6fd8d2ca17a180786b69acc140d282b71a49"
   }
  }
 },
 "nbformat": 4,
 "nbformat_minor": 2
}
