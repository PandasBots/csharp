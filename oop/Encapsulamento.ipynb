{
 "cells": [
  {
   "cell_type": "markdown",
   "metadata": {},
   "source": [
    "# Encapsulamento\n",
    "\n",
    "* Ref.: https://www.alura.com.br/artigos/o-que-e-encapsulamento\n",
    "\n",
    "### O que é encapsulamento?\n",
    "\n",
    "Encapsulamento é um princípo de design de código, geralmente ligado a programação orientada, que nos orienta a esconder as funcionalidades e funcionamento do nosso código dentro de pequenas unidades (normalmente métodos e funções). Isso possibilita que modificações no sistema possam ser feitas de maneira mais cirurgicas, sem que uma funcionalidade esteja espalhada por diversas partes do sistema.\n",
    "\n",
    "### Quando usar encapsulamento?\n",
    "\n",
    "Basicamente sempre, pois a interface, a forma como classes e objetos conversam um com o outro, deve sempre estar isolada da forma como executam o que se propuseram a fazer. Essa execução é a implementação do código. Como diz o livro Design patterns: programe voltado à interface, não à implementação.\n",
    "\n",
    "### O que é a quebra de encapsulamento?\n",
    "\n",
    "É quando a implementação deu uma funcionalidade 'vaza' para diversas partes do sistema, com código em regiões, unidades, módulos ou pacotes muito diferentes. Dessa forma, sempre que precisamos modificar essa funcionalidade, necessitamos alterar diversas partes distantes do código. Um exemplo é o uso exagerado de variáveis globais: elas começam a gerar códigos espalhados que acessam e modificam essas varáiveis, um forte acoplamento, que amarra pontas que deveriam estar mais soltas."
   ]
  },
  {
   "cell_type": "markdown",
   "metadata": {},
   "source": [
    "## 1) Método Manual\n",
    "\n",
    "O objetivo é evitar que o programador altere atributos do objeto sem usar os métodos padrão de uma determinada classe."
   ]
  },
  {
   "cell_type": "code",
   "execution_count": 15,
   "metadata": {
    "dotnet_interactive": {
     "language": "csharp"
    },
    "vscode": {
     "languageId": "dotnet-interactive.csharp"
    }
   },
   "outputs": [],
   "source": [
    "// Suponha a classe\n",
    "\n",
    "public class Produto\n",
    "{\n",
    "    // Atributos do objeto instanciado pela classe Produto\n",
    "    public string Nome;\n",
    "    public double Preco;\n",
    "    // Private garante que o atributo não seja acessado fora da classe. A convenção de nome deve mudar também.\n",
    "    private int _quantidade;\n",
    "\n",
    "    // Construtor da classe Produto\n",
    "    public Produto(string nome, double preco, int quantidade)\n",
    "    {\n",
    "        Nome = nome;\n",
    "        Preco = preco;\n",
    "        _quantidade = quantidade;\n",
    "    }   \n",
    "\n",
    "    // Função que retorna o preço x quantidade\n",
    "    public double ValorTotalEmEstoque(){\n",
    "        return Preco * _quantidade;\n",
    "    }\n",
    "    // Função que atualiza o atributo Quantidade\n",
    "    public void AdicionarProdutos(int qtdAdicionada){\n",
    "        _quantidade = _quantidade + qtdAdicionada;\n",
    "    }\n",
    "    //\n",
    "    public void RemoverProdutos(int qtdRemovida){\n",
    "        _quantidade = _quantidade - qtdRemovida;\n",
    "    }\n",
    "    //ToString\n",
    "    public override string ToString(){\n",
    "        return $\"Produto: {Nome}, Preço: {Preco:F2}, Quantidade: {_quantidade}, Estoque: {ValorTotalEmEstoque()}\";\n",
    "    }\n",
    "}"
   ]
  },
  {
   "cell_type": "code",
   "execution_count": 16,
   "metadata": {
    "dotnet_interactive": {
     "language": "csharp"
    },
    "vscode": {
     "languageId": "dotnet-interactive.csharp"
    }
   },
   "outputs": [
    {
     "ename": "Error",
     "evalue": "(6,7): error CS0122: \"Produto.Quantidade\" é inacessível devido ao seu nível de proteção",
     "output_type": "error",
     "traceback": [
      "(6,7): error CS0122: \"Produto.Quantidade\" é inacessível devido ao seu nível de proteção"
     ]
    }
   ],
   "source": [
    "static void Main(string[] args){\n",
    "    Produto p = new Produto(\"TV\", 500.00, 10);\n",
    "\n",
    "    // Queremos impedir o codigo abaixo\n",
    "    // Para isso, na classe Produto, devemos colocar o modificador de acesso private    \n",
    "    p.Quantidade = -10;\n",
    "\n",
    "    Console.WriteLine(p);\n",
    "}"
   ]
  },
  {
   "cell_type": "markdown",
   "metadata": {},
   "source": [
    "### GET/SET\n",
    "\n",
    "* Mas agora, como a classe tem atributos apenas privados, será preciso criar métodos GET/SET para poder defini-los e exibi-los para o usuário."
   ]
  },
  {
   "cell_type": "code",
   "execution_count": 1,
   "metadata": {
    "dotnet_interactive": {
     "language": "csharp"
    },
    "vscode": {
     "languageId": "dotnet-interactive.csharp"
    }
   },
   "outputs": [],
   "source": [
    "public class Produto\n",
    "{\n",
    "    // Atributos do objeto instanciado pela classe Produto\n",
    "    // Private garante que o atributo não seja acessado fora da classe. A convenção de nome deve mudar também.\n",
    "    private string _nome;\n",
    "    private double _preco;\n",
    "    private int _quantidade;\n",
    "\n",
    "    // Construtor da classe Produto\n",
    "    public Produto(string nome, double preco, int quantidade)\n",
    "    {\n",
    "        _nome = nome;\n",
    "        _preco = preco;\n",
    "        _quantidade = quantidade;\n",
    "    }   \n",
    "\n",
    "    // GET / SET\n",
    "    // Retorna o valor do atributo  \n",
    "    public string GetNome(){\n",
    "        return _nome;\n",
    "    }\n",
    "    public void SetNome(string nome){\n",
    "        _nome = nome;\n",
    "    }\n",
    "}"
   ]
  },
  {
   "cell_type": "code",
   "execution_count": null,
   "metadata": {
    "dotnet_interactive": {
     "language": "csharp"
    },
    "vscode": {
     "languageId": "dotnet-interactive.csharp"
    }
   },
   "outputs": [],
   "source": [
    "static void Main(string[] args){\n",
    "\n",
    "    Produto p = new Produto(\"TV\", 500.00, 10);\n",
    "\n",
    "    // Obtem o nome do produto\n",
    "    p.GetNome();\n",
    "    Console.WriteLine(p.GetNome());\n",
    "\n",
    "    // Altera o nome do produto para esta instância.\n",
    "    p.SetNome(\"TV 4K\");\n",
    "}"
   ]
  },
  {
   "cell_type": "markdown",
   "metadata": {},
   "source": [
    "---\n",
    "\n",
    "## 2) Properties (Método Recomendável)\n",
    "\n",
    "* Ref.: https://learn.microsoft.com/pt-br/dotnet/csharp/programming-guide/classes-and-structs/properties\n",
    "\n",
    "São definições de métodos encapsulados, porém com sintaxe similar ao de atributos e não de métodos.\n",
    "\n",
    "Ou seja, as funções GET/SET implementadas de um jeito mais amigável."
   ]
  },
  {
   "cell_type": "code",
   "execution_count": 2,
   "metadata": {
    "dotnet_interactive": {
     "language": "csharp"
    },
    "vscode": {
     "languageId": "dotnet-interactive.csharp"
    }
   },
   "outputs": [],
   "source": [
    "public class Produto\n",
    "{\n",
    "    // Atributos do objeto instanciado pela classe Produto\n",
    "    // Private garante que o atributo não seja acessado fora da classe. A convenção de nome deve mudar também.\n",
    "    private string _nome;\n",
    "    private double _preco;\n",
    "    private int _quantidade;\n",
    "\n",
    "    // Construtor da classe Produto\n",
    "    public Produto(string nome, double preco, int quantidade)\n",
    "    {\n",
    "        _nome = nome;\n",
    "        _preco = preco;\n",
    "        _quantidade = quantidade;\n",
    "    }   \n",
    "    \n",
    "    /*\n",
    "    // GET / SET\n",
    "    // Retorna o valor do atributo  \n",
    "    public string GetNome(){\n",
    "        return _nome;\n",
    "    }\n",
    "    public void SetNome(string nome){\n",
    "        _nome = nome;\n",
    "    }\n",
    "    */\n",
    "    // Implementação usando properties\n",
    "    public string Nome{\n",
    "        get { \n",
    "            return _nome; \n",
    "        }\n",
    "        set {\n",
    "            _nome = value;\n",
    "        }\n",
    "    }\n",
    "}"
   ]
  },
  {
   "cell_type": "code",
   "execution_count": 3,
   "metadata": {
    "dotnet_interactive": {
     "language": "csharp"
    },
    "vscode": {
     "languageId": "dotnet-interactive.csharp"
    }
   },
   "outputs": [],
   "source": [
    "static void Main(string[] args){\n",
    "\n",
    "    Produto p = new Produto(\"TV\", 500.00, 10);\n",
    "\n",
    "    /*\n",
    "    // Obtem o nome do produto\n",
    "    p.GetNome();\n",
    "    // Altera o nome do produto para esta instância.\n",
    "    p.SetNome(\"TV 4K\");\n",
    "    */\n",
    "\n",
    "    // Nova forma de fazer Get/Set.\n",
    "    p.Nome = \"TV 4K\";   \n",
    "\n",
    "    Console.WriteLine(p.Nome);\n",
    "}"
   ]
  },
  {
   "cell_type": "markdown",
   "metadata": {},
   "source": [
    "## Auto-Properties\n",
    "\n",
    "* Ref.: https://learn.microsoft.com/pt-br/dotnet/csharp/programming-guide/classes-and-structs/auto-implemented-properties\n",
    "\n",
    "Útil para quando temos propriedades que não possuem lógica."
   ]
  },
  {
   "cell_type": "code",
   "execution_count": 4,
   "metadata": {
    "dotnet_interactive": {
     "language": "csharp"
    },
    "vscode": {
     "languageId": "dotnet-interactive.csharp"
    }
   },
   "outputs": [],
   "source": [
    "public class Produto\n",
    "{\n",
    "    // Atributos do objeto instanciado pela classe Produto\n",
    "    // Private garante que o atributo não seja acessado fora da classe. A convenção de nome deve mudar também.\n",
    "    // Veja que agora estamos dando ao atributo nome o acesso get mas sem set.\n",
    "    public string Nome { get; private set; }\n",
    "    private double _preco;\n",
    "    private int _quantidade;\n",
    "\n",
    "    // Construtor da classe Produto\n",
    "    public Produto(string nome, double preco, int quantidade)\n",
    "    {\n",
    "        Nome = nome;\n",
    "        _preco = preco;\n",
    "        _quantidade = quantidade;\n",
    "    }   \n",
    "    \n",
    "}"
   ]
  }
 ],
 "metadata": {
  "kernelspec": {
   "display_name": ".NET (C#)",
   "language": "C#",
   "name": ".net-csharp"
  },
  "language_info": {
   "file_extension": ".cs",
   "mimetype": "text/x-csharp",
   "name": "C#",
   "pygments_lexer": "csharp",
   "version": "9.0"
  },
  "orig_nbformat": 4
 },
 "nbformat": 4,
 "nbformat_minor": 2
}
