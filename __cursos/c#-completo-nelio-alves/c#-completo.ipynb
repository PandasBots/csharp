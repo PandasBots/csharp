{
 "cells": [
  {
   "cell_type": "markdown",
   "metadata": {},
   "source": [
    "# C# COMPLETO\n",
    "\n",
    "* Ref.: https://www.udemy.com/course/programacao-orientada-a-objetos-csharp/\n",
    "\n",
    "* Professor: Nelio Alves\n",
    "\n",
    "Curso mais didático e completo de C# e OO, coleções, UML, ASP.NET, Entity Framework, LINQ, Lambda e muito mais\n"
   ]
  }
 ],
 "metadata": {
  "interpreter": {
   "hash": "62ac5eec3b562cd8e8a23a4367a248c2f76dc71f53045ec22c89109f963a6f1d"
  },
  "kernelspec": {
   "display_name": ".NET (C#)",
   "language": "C#",
   "name": ".net-csharp"
  },
  "language_info": {
   "file_extension": ".cs",
   "mimetype": "text/x-csharp",
   "name": "C#",
   "pygments_lexer": "csharp",
   "version": "9.0"
  },
  "orig_nbformat": 4
 },
 "nbformat": 4,
 "nbformat_minor": 2
}
