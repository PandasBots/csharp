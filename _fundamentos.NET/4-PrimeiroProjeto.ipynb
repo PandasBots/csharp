{
 "cells": [
  {
   "cell_type": "markdown",
   "metadata": {},
   "source": [
    "# Primeiro Projeto no VS Studio\n",
    "\n",
    "Ao criar um projeto, dê o nome do projeto, da solução e do namespace da mesma forma.\n",
    "\n",
    "Depois de escrever o código, primeiro compile e depois vá em executar sem depuração para ver o resultado. Esse processo cria a pasta bin e obj.\n",
    "\n",
    "Para abrir um projeto é possível ir diretamente no arquivo .sln e abri-lo."
   ]
  },
  {
   "cell_type": "markdown",
   "metadata": {},
   "source": [
    "# Estrutura de Arquivos\n",
    "\n",
    "* Arquivo .sln: É o arquivo da solução/aplicação.\n",
    "* Arquivo .csproj: Configurações.\n",
    "* Classe principal .cs: Arquivo da linguagem c# com o código principal.\n",
    "* Subpastas obj e bin: Aqui o VS Studio (compilador) guarda os arquivos compilados."
   ]
  },
  {
   "cell_type": "markdown",
   "metadata": {},
   "source": [
    "# Estrutura Base\n",
    "\n",
    "* Namespace: Agrupamento maior\n",
    "* Classe: Agrupamento dentro do namespace\n",
    "* Método: São as funções dentro de cada classe"
   ]
  },
  {
   "cell_type": "markdown",
   "metadata": {},
   "source": [
    "# Estrutura do Código Fonte\n",
    "\n",
    "```\n",
    "// Referência do namespace para usarmos as funções associadas, como \"Console\" \n",
    "using System;\n",
    "\n",
    "// Não é necessário, mas por boa prática sempre deixe as suas classes dentro de namespaces.\n",
    "// É a forma de agrupar as classes num agrupamento.\n",
    "namespace PrimeiroProjeto \n",
    "{\n",
    "    // Classe é a unidade básica da programação orientada a objetos.\n",
    "    // Por convenção o nome da classe deve seguir o nome do arquivo .cs\n",
    "    internal class Program\n",
    "    {\n",
    "        // Membro da classe. Método/Função principal que indica o entrypoint da aplicação. É aqui que se começa a execução do programa. \n",
    "        static void Main(string[] args)\n",
    "        {\n",
    "            // Comando a ser executado\n",
    "            Console.WriteLine(\"Hello World!\");\n",
    "        }\n",
    "    }\n",
    "}\n",
    "```\n"
   ]
  },
  {
   "cell_type": "markdown",
   "metadata": {},
   "source": []
  }
 ],
 "metadata": {
  "kernelspec": {
   "display_name": ".NET (C#)",
   "language": "C#",
   "name": ".net-csharp"
  },
  "language_info": {
   "file_extension": ".cs",
   "mimetype": "text/x-csharp",
   "name": "C#",
   "pygments_lexer": "csharp",
   "version": "9.0"
  },
  "orig_nbformat": 4
 },
 "nbformat": 4,
 "nbformat_minor": 2
}
