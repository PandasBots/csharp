{
 "cells": [
  {
   "cell_type": "markdown",
   "metadata": {
    "tags": []
   },
   "source": [
    "# Projeto Xadrez"
   ]
  },
  {
   "cell_type": "markdown",
   "metadata": {},
   "source": [
    "# # Criar Projeto\n",
    "\n",
    "* Criar uma pasta onde será armazenado os arquivos do projeto.\n",
    "* No VS escolher a pasta e criar um aplicativo de console.\n",
    "* Copiar a estrutura no Program.cs:\n",
    "\n",
    "```\n",
    "using System;\n",
    "// Nome do namespace segue o nome da pasta do projeto\n",
    "namespace xadrez_console\n",
    "{\n",
    "    class Program\n",
    "    {\n",
    "        static void Main(string[] args)\n",
    "        {\n",
    "            Console.WriteLine(\"Hello World!\");\n",
    "        }\n",
    "    }\n",
    "}\n",
    "```"
   ]
  },
  {
   "cell_type": "markdown",
   "metadata": {},
   "source": [
    "# # Arquitetura\n",
    "\n",
    "* Dividir o sistema em 3 camadas básicas.\n",
    "    * Tabuleiro: Peças, cores, representação do tabuleiro com operações básicas.\n",
    "    * Jogo de Xadrez: Regras do jogo, camada de inteligência.\n",
    "    * Camada de aplicação: O aplicativo em si, que consome as duas outras camadas.\n",
    "\n",
    "Essa implementação compartimentada ajuda a dar manutenção no sistema, bem como entende-lo.\n",
    "\n",
    "Para isso, crie folders (clicando no nome do projeto) e insira os arquivos relacionados nele. Use letras minúsculas."
   ]
  },
  {
   "cell_type": "markdown",
   "metadata": {},
   "source": [
    "## # Camada Tabuleiro (tabuleiro)\n",
    "\n",
    "* Importante: \n",
    "    * Atenção para o uso de THIS. Esta função é usada para especificar de qual variável estamos tratando, quando os nomes são iguais. Diferencia o que é atributo da classe e o que é input das funções.\n",
    "    * Repare que o nome da pasta (namespace) é tabuleiro minúsculo, pois haverá uma classe Tabuleiro maiúsculo nela. Esses detalhes podem afetar o programa.\n",
    "\n",
    "<div>\n",
    "<img src=\"img/1.png\" width=\"500\"/>\n",
    "</div>\"\n",
    "\n",
    "</br>\n",
    "\n",
    "* Criar o namespace `tabuleiro` que contém as classes:\n",
    "    * Posicao: Indica em qual lin/col que a peça está.\n",
    "    * Cor: Especifica as cores das peças do jogo. Será uma classe `Enum` útil para categorização.\n",
    "    * Peca: O objeto desta classe tem que ter uma posição e uma cor. Inicialmente genérica.\n",
    "        * Na camada do Jogo de Xadrez, vamos usar subclasses específicas para cada peça.\n",
    "        * Criar um método para que as peças possam fazer movimentos legais. Para cada peça específica criamos uma subclasse que herda as propriedades. Assim temos um método abstrato, o que impõe que a classe também seja abstrata.\n",
    "    * Tabuleiro: Objeto que armazena as propriedades do tabuleiro em si, por exemplo a quantidade de casas.\n",
    "        * Contém método para colocar peças nele.\n",
    "\n",
    "* Exceções:\n",
    "    * Exceção personalizada para indicar que uma posição é inválida. Que uma peça está sendo colocada numa posição já ocupada. Tamanho do tabuleiro."
   ]
  },
  {
   "cell_type": "markdown",
   "metadata": {},
   "source": [
    "## # Camada Jogo de Xadrez (xadrez)\n",
    "\n",
    "* Criar classes para cada uma das peças, que herdam as propriedades da classe `Peca` do namespace `tabuleiro`.\n",
    "* Criar classe posição, que especifica a classe `Posicao` dentro do contexto de xadrez. (a1, b2, ..). Ela deve ter um método que converte a posição nos padrões do Xadrez para posição de Matriz.\n",
    "* Criar classe Partida de Xadrez: Inteligência da partida, como colocação de peças, métodos para mover as peças e restrições."
   ]
  },
  {
   "cell_type": "markdown",
   "metadata": {},
   "source": [
    "## # Camada do Programa\n",
    "\n",
    "* Classe Tela: Contém o método que imprime o tabuleiro na tela. Está na camada da aplicação.\n",
    "    * Método para imprimir a cor das peças diferentes.\n",
    "\n",
    "    "
   ]
  },
  {
   "cell_type": "markdown",
   "metadata": {},
   "source": []
  }
 ],
 "metadata": {
  "kernelspec": {
   "display_name": "Python 3.10.4 64-bit",
   "language": "python",
   "name": "python3"
  },
  "language_info": {
   "name": "python",
   "version": "3.10.4"
  },
  "orig_nbformat": 4,
  "vscode": {
   "interpreter": {
    "hash": "aee8b7b246df8f9039afb4144a1f6fd8d2ca17a180786b69acc140d282b71a49"
   }
  }
 },
 "nbformat": 4,
 "nbformat_minor": 2
}
