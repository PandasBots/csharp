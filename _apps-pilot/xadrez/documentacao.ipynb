{
 "cells": [
  {
   "cell_type": "markdown",
   "metadata": {
    "tags": []
   },
   "source": [
    "# Projeto Xadrez"
   ]
  },
  {
   "cell_type": "markdown",
   "metadata": {},
   "source": [
    "# # Criar Projeto\n",
    "\n",
    "* Criar uma pasta onde será armazenado os arquivos do projeto.\n",
    "* No VS escolher a pasta e criar um aplicativo de console.\n",
    "* Copiar a estrutura no Program.cs:\n",
    "\n",
    "```\n",
    "using System;\n",
    "// Nome do namespace segue o nome da pasta do projeto\n",
    "namespace xadrez_console\n",
    "{\n",
    "    class Program\n",
    "    {\n",
    "        static void Main(string[] args)\n",
    "        {\n",
    "            Console.WriteLine(\"Hello World!\");\n",
    "        }\n",
    "    }\n",
    "}\n",
    "```"
   ]
  },
  {
   "cell_type": "markdown",
   "metadata": {},
   "source": [
    "# # Arquitetura\n",
    "\n",
    "* Dividir o sistema em 3 camadas básicas.\n",
    "    * Tabuleiro: Peças, cores, representação do tabuleiro com operações básicas.\n",
    "    * Jogo de Xadrez: Regras do jogo, camada de inteligência.\n",
    "    * Camada de aplicação: O aplicativo em si, que consome as duas outras camadas.\n",
    "\n",
    "Essa implementação compartimentada ajuda a dar manutenção no sistema, bem como entende-lo.\n",
    "\n",
    "Para isso, crie folders (clicando no nome do projeto) e insira os arquivos relacionados nele."
   ]
  },
  {
   "cell_type": "markdown",
   "metadata": {},
   "source": []
  }
 ],
 "metadata": {
  "kernelspec": {
   "display_name": "Python 3.10.4 64-bit",
   "language": "python",
   "name": "python3"
  },
  "language_info": {
   "name": "python",
   "version": "3.10.4"
  },
  "orig_nbformat": 4,
  "vscode": {
   "interpreter": {
    "hash": "aee8b7b246df8f9039afb4144a1f6fd8d2ca17a180786b69acc140d282b71a49"
   }
  }
 },
 "nbformat": 4,
 "nbformat_minor": 2
}
