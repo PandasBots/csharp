{
 "cells": [
  {
   "cell_type": "markdown",
   "metadata": {
    "tags": []
   },
   "source": [
    "# Projeto Xadrez"
   ]
  },
  {
   "cell_type": "markdown",
   "metadata": {},
   "source": [
    "# # Criar Projeto\n",
    "\n",
    "* Criar uma pasta onde será armazenado os arquivos do projeto.\n",
    "* No VS escolher a pasta e criar um aplicativo de console.\n",
    "* Copiar a estrutura no Program.cs:\n",
    "\n",
    "```\n",
    "using System;\n",
    "// Nome do namespace segue o nome da pasta do projeto\n",
    "namespace xadrez_console\n",
    "{\n",
    "    class Program\n",
    "    {\n",
    "        static void Main(string[] args)\n",
    "        {\n",
    "            Console.WriteLine(\"Hello World!\");\n",
    "        }\n",
    "    }\n",
    "}\n",
    "```"
   ]
  },
  {
   "cell_type": "markdown",
   "metadata": {},
   "source": [
    "# # Arquitetura\n",
    "\n",
    "* Dividir o sistema em 3 camadas básicas.\n",
    "    * Tabuleiro: Peças, cores, representação do tabuleiro com operações básicas.\n",
    "    * Jogo de Xadrez: Regras do jogo, camada de inteligência.\n",
    "    * Camada de aplicação: O aplicativo em si, que consome as duas outras camadas.\n",
    "\n",
    "Essa implementação compartimentada ajuda a dar manutenção no sistema, bem como entende-lo.\n",
    "\n",
    "Para isso, crie folders (clicando no nome do projeto) e insira os arquivos relacionados nele."
   ]
  },
  {
   "cell_type": "markdown",
   "metadata": {},
   "source": [
    "## # Camada Tabuleiro\n",
    "\n",
    "* Importante: \n",
    "    * Atenção para o uso de THIS. Esta função é usada para especificar de qual variável estamos tratando, quando os nomes são iguais. Diferencia o que é atributo da classe e o que é input das funções.\n",
    "    * Repare que o nome da pasta (namespace) é tabuleiro minúsculo, pois haverá uma classe Tabuleiro maiúsculo nela. Esses detalhes podem afetar o programa.\n",
    "\n",
    "</br>\n",
    "\n",
    "* Criar a pasta `tabuleiro` que contém as classes:\n",
    "    * Posicao: Indica em qual lin/col que a peça está.\n",
    "    * Cor: Especifica as cores das peças do jogo. Será uma classe `Enum` útil para categorização.\n",
    "    * Peca: O objeto desta classe tem que ter uma posição e uma cor.\n",
    "    * Tabuleiro: Objeto que armazena as propriedades do tabuleiro em si, por exemplo a quantidade de casas."
   ]
  },
  {
   "cell_type": "markdown",
   "metadata": {},
   "source": [
    "## # Camada do Programa\n",
    "\n",
    "* Classe Tela: Contém o método que imprime o tabuleiro na tela. Está na camada da aplicação."
   ]
  },
  {
   "cell_type": "markdown",
   "metadata": {},
   "source": []
  }
 ],
 "metadata": {
  "kernelspec": {
   "display_name": "Python 3.10.4 64-bit",
   "language": "python",
   "name": "python3"
  },
  "language_info": {
   "name": "python",
   "version": "3.10.4"
  },
  "orig_nbformat": 4,
  "vscode": {
   "interpreter": {
    "hash": "aee8b7b246df8f9039afb4144a1f6fd8d2ca17a180786b69acc140d282b71a49"
   }
  }
 },
 "nbformat": 4,
 "nbformat_minor": 2
}
