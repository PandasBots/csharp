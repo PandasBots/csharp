{
 "cells": [
  {
   "cell_type": "markdown",
   "metadata": {},
   "source": [
    "# # Conexão com Banco de Dados\n",
    "\n",
    "* Dentro da pasta `conexao` adicionar a classe: `ConnectionFactory.cs`. Esta é a classe responsável por gerar a conexão com o banco dados.\n",
    "\n",
    "* Primeiro, em app.config, faça:\n",
    "\n",
    "```\n",
    "<connectionStrings>\n",
    "    <add name=\"NomeDoBanco\" connectionString=\"server=localhost; user ID=root; password=root; database=NomeDB\"\n",
    "    providerName=\"MySql.Data.MySqlClient;\"/>\n",
    "</connectionStrings>\n",
    "```\n",
    " * Depois, crie a classe ConnectionFactory:"
   ]
  },
  {
   "cell_type": "code",
   "execution_count": null,
   "metadata": {
    "vscode": {
     "languageId": "javascript"
    }
   },
   "outputs": [],
   "source": [
    "// ConnectionFactory\n",
    "\n",
    "public class ConnectionFactory\n",
    "{\n",
    "    public MySqlConnection getConnection()\n",
    "    {   \n",
    "        string conexao = ConfigurationManager.ConnectionStrings[\"NomeDoBanco\"].ConnectionString;  \n",
    "        return new MySqlConnection(conexao);\n",
    "    }   \n",
    "\n",
    "}"
   ]
  },
  {
   "cell_type": "markdown",
   "metadata": {},
   "source": [
    "# # Conexão View -> Banco de Dados (DAO - Data Access Object)\n",
    "\n",
    "### Exemplo: Cadastro de Clientes\n",
    "\n",
    "* Definir a connection string no app.config.\n",
    "* Criar a tela para receber os objetos do cliente na pasta View.\n",
    "* Criar na pasta Model a classe Cliente.\n",
    "* Na pasta DAO adicionar a classe ClienteDAO\n",
    "* \n",
    "\n"
   ]
  },
  {
   "cell_type": "code",
   "execution_count": null,
   "metadata": {
    "vscode": {
     "languageId": "javascript"
    }
   },
   "outputs": [],
   "source": [
    "// Classe Cliente\n",
    "public class Cliente\n",
    "{\n",
    "    public int Id { get; set; } \n",
    "    public string Nome { get; set; }    \n",
    "    public string Email { get; set; }\n",
    "}"
   ]
  },
  {
   "cell_type": "code",
   "execution_count": null,
   "metadata": {
    "vscode": {
     "languageId": "javascript"
    }
   },
   "outputs": [],
   "source": [
    "// Classe ClienteDAO\n",
    "\n",
    "public class ClienteDAO{\n",
    "    // 1. Atributos\n",
    "    private MySqlConnection conexao;\n",
    "    // 2. Construtor\n",
    "    public ClienteDAO()\n",
    "    {\n",
    "        // Aqui this é redundante\n",
    "        this.conexao = new ConnectionFactory().getConnection();  \n",
    "    }\n",
    "    // 3. Métodos\n",
    "    public void cadastrarCliente(Cliente cliente)\n",
    "    {\n",
    "        try\n",
    "        {\n",
    "            // 1. Definir o comando\n",
    "            string cmdsql = \"INSERT INTO cliente (nome, email) VALUES (@nome, @email)\";\n",
    "            // Forma mais simples: MySqlCommand execmd = new MySqlCommand(cmdsql, ConnectionFactory.getConnection());   \n",
    "            MySqlCommand execmd = new MySqlCommand(cmdsql, conexao);    \n",
    "            // 2. Organizar o comando\n",
    "            execmd.Parameters.AddWithValue(\"@nome\", cliente.Nome);  \n",
    "            execmd.Parameters.AddWithValue(\"@email\", cliente.Email);  \n",
    "            // 3. Executar o comando\n",
    "            this.conexao.open();\n",
    "            execmd.ExecuteNonQuery();   \n",
    "            this.conexao.close();\n",
    "\n",
    "        }\n",
    "        catch (Exception ex)\n",
    "        {\n",
    "            throw new Exception($\"Erro ao cadastrar cliente: {ex.Message}\");\n",
    "        }\n",
    "    }\n",
    "}"
   ]
  }
 ],
 "metadata": {
  "kernelspec": {
   "display_name": "Python 3.10.4 64-bit",
   "language": "python",
   "name": "python3"
  },
  "language_info": {
   "name": "python",
   "version": "3.10.4"
  },
  "orig_nbformat": 4,
  "vscode": {
   "interpreter": {
    "hash": "aee8b7b246df8f9039afb4144a1f6fd8d2ca17a180786b69acc140d282b71a49"
   }
  }
 },
 "nbformat": 4,
 "nbformat_minor": 2
}
