{
 "cells": [
  {
   "cell_type": "markdown",
   "metadata": {},
   "source": [
    "# # Conexão com Banco de Dados\n",
    "\n",
    "* Dentro da pasta `conexao` adicionar a classe: `ConnectionFactory.cs`. Esta é a classe responsável por gerar a conexão com o banco dados.\n",
    "\n",
    "* Primeiro, em app.config, faça:\n",
    "\n",
    "```\n",
    "<connectionStrings>\n",
    "    <add name=\"NomeDoBanco\" connectionString=\"server=localhost; user ID=root; password=root; database=NomeDB\"\n",
    "    providerName=\"MySql.Data.MySqlClient;\"/>\n",
    "</connectionStrings>\n",
    "```\n",
    " * Depois, crie a classe ConnectionFactory:"
   ]
  },
  {
   "cell_type": "code",
   "execution_count": null,
   "metadata": {
    "vscode": {
     "languageId": "javascript"
    }
   },
   "outputs": [],
   "source": [
    "// ConnectionFactory\n",
    "\n",
    "public class ConnectionFactory\n",
    "{\n",
    "    public MySqlConnection getConnection()\n",
    "    {   \n",
    "        string conexao = ConfigurationManager.ConnectionStrings[\"NomeDoBanco\"].ConnectionString;  \n",
    "        return new MySqlConnection(conexao);\n",
    "    }   \n",
    "\n",
    "}"
   ]
  },
  {
   "cell_type": "markdown",
   "metadata": {},
   "source": [
    "# # Conexão View -> Banco de Dados (DAO - Data Access Object)\n",
    "\n",
    "### Exemplo: Cadastro de Clientes\n",
    "\n",
    "* Definir a connection string no app.config.\n",
    "* Criar a tela para receber os objetos do cliente na pasta View.\n",
    "* Criar na pasta Model a classe Cliente.\n",
    "* Na pasta DAO adicionar a classe ClienteDAO\n",
    "* \n",
    "\n"
   ]
  },
  {
   "cell_type": "code",
   "execution_count": null,
   "metadata": {
    "vscode": {
     "languageId": "javascript"
    }
   },
   "outputs": [],
   "source": [
    "// Classe Cliente\n",
    "public class Cliente\n",
    "{\n",
    "    public int Id { get; set; } \n",
    "    public string Nome { get; set; }    \n",
    "    public string Email { get; set; }\n",
    "}"
   ]
  },
  {
   "cell_type": "code",
   "execution_count": null,
   "metadata": {
    "vscode": {
     "languageId": "javascript"
    }
   },
   "outputs": [],
   "source": [
    "// Classe ClienteDAO\n",
    "\n",
    "public class ClienteDAO{\n",
    "    // 1. Atributos\n",
    "    private MySqlConnection conexao;\n",
    "    // 2. Construtor\n",
    "    public ClienteDAO()\n",
    "    {\n",
    "        // Aqui this é redundante\n",
    "        this.conexao = new ConnectionFactory().getConnection();  \n",
    "    }\n",
    "    // 3. Métodos\n",
    "    // 3.1 Cadastrar Cliente\n",
    "    public void cadastrarCliente(Cliente cliente)\n",
    "    {\n",
    "        try\n",
    "        {\n",
    "            // 1. Definir o comando SQL\n",
    "            string cmdsql = \"INSERT INTO tb_cliente (nome, email) VALUES (@nome, @email)\";\n",
    "            // 2. Organizar o comando\n",
    "            // Forma mais simples: MySqlCommand execmd = new MySqlCommand(cmdsql, ConnectionFactory.getConnection());   \n",
    "            MySqlCommand execmd = new MySqlCommand(cmdsql, conexao);    \n",
    "            execmd.Parameters.AddWithValue(\"@nome\", cliente.Nome);  \n",
    "            execmd.Parameters.AddWithValue(\"@email\", cliente.Email);  \n",
    "            // 3. Executar o comando\n",
    "            this.conexao.open();\n",
    "            execmd.ExecuteNonQuery();   \n",
    "            this.conexao.close();\n",
    "\n",
    "        }\n",
    "        catch (Exception ex)\n",
    "        {\n",
    "            throw new Exception($\"Erro ao cadastrar cliente: {ex.Message}\");\n",
    "        }\n",
    "    }\n",
    "    // 3.2 Listar Clientes  \n",
    "    public DataTable listarClientes()\n",
    "    {\n",
    "        // 1. Definir o comando SQL e o objeto que recebe o resultado da consulta\n",
    "        this.DataTable dt = new DataTable();\n",
    "        string cmdsql = \"SELECT * FROM tb_cliente\";\n",
    "        // 2. Organiza o comando\n",
    "        MySqlCommand execmd = new MySqlCommand(cmdsql, conexao); \n",
    "        // 3. Executar o comando\n",
    "        this.conexao.open();\n",
    "        execmd.ExecuteNonQuery();   \n",
    "        this.conexao.close();\n",
    "        // 4. Preencher o DataTable\n",
    "        MySqlDataAdapter da = new MySqlDataAdapter(execmd);\n",
    "        da.Fill(dt);    \n",
    "        return dt;\n",
    "    }\n",
    "}"
   ]
  },
  {
   "cell_type": "markdown",
   "metadata": {},
   "source": [
    "* Para listar o cliente, é preciso alterar a view, para receber as informações."
   ]
  },
  {
   "cell_type": "markdown",
   "metadata": {},
   "source": []
  }
 ],
 "metadata": {
  "kernelspec": {
   "display_name": "Python 3.10.4 64-bit",
   "language": "python",
   "name": "python3"
  },
  "language_info": {
   "name": "python",
   "version": "3.10.4"
  },
  "orig_nbformat": 4,
  "vscode": {
   "interpreter": {
    "hash": "aee8b7b246df8f9039afb4144a1f6fd8d2ca17a180786b69acc140d282b71a49"
   }
  }
 },
 "nbformat": 4,
 "nbformat_minor": 2
}
