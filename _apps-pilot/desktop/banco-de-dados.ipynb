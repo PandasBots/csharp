{
 "cells": [
  {
   "cell_type": "markdown",
   "metadata": {},
   "source": [
    "# # Conexão com Banco de Dados\n",
    "\n",
    "* Dentro da pasta `conexao` adicionar a classe: `ConnectionFactory.cs`. Esta é a classe responsável por gerar a conexão com o banco dados.\n",
    "\n",
    "* Primeiro, em app.config, faça:\n",
    "\n",
    "```\n",
    "<connectionStrings>\n",
    "    <add name=\"NomeDoBanco\" connectionString=\"server=localhost; user ID=root; password=root; database=NomeDB\"\n",
    "    providerName=\"MySql.Data.MySqlClient;\"/>\n",
    "</connectionStrings>\n",
    "```\n",
    " * Depois, crie a classe ConnectionFactory:"
   ]
  },
  {
   "cell_type": "code",
   "execution_count": null,
   "metadata": {
    "vscode": {
     "languageId": "javascript"
    }
   },
   "outputs": [],
   "source": [
    "// ConnectionFactory\n",
    "\n",
    "public class ConnectionFactory\n",
    "{\n",
    "    public MySqlConnection getConnection()\n",
    "    {   \n",
    "        string conexao = ConfigurationManager.ConnectionStrings[\"NomeDoBanco\"].ConnectionString;  \n",
    "        return new MySqlConnection(conexao);\n",
    "    }   \n",
    "\n",
    "}"
   ]
  },
  {
   "cell_type": "markdown",
   "metadata": {},
   "source": []
  }
 ],
 "metadata": {
  "kernelspec": {
   "display_name": "Python 3.10.4 64-bit",
   "language": "python",
   "name": "python3"
  },
  "language_info": {
   "name": "python",
   "version": "3.10.4"
  },
  "orig_nbformat": 4,
  "vscode": {
   "interpreter": {
    "hash": "aee8b7b246df8f9039afb4144a1f6fd8d2ca17a180786b69acc140d282b71a49"
   }
  }
 },
 "nbformat": 4,
 "nbformat_minor": 2
}
