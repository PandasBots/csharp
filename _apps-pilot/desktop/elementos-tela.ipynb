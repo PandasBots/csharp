{
 "cells": [
  {
   "cell_type": "markdown",
   "metadata": {},
   "source": [
    "# # Elementos de Tela\n",
    "\n",
    "Cada elemento possui características que podem ser alterarda na aba Propriedades. A propriedade (name) é responsável pelo nome do componente a nível de código, podendo ser manipulado posteriormente.\n"
   ]
  },
  {
   "cell_type": "markdown",
   "metadata": {},
   "source": [
    "## Criando uma tela\n",
    "\n",
    "* Adicionar `windows forms` na pasta `view`. Nomeie com `frmnome`.\n",
    "* Alterar o título deste form na opção `text`.\n",
    "* Para adicionar elementos, use o menu `tool box`."
   ]
  },
  {
   "cell_type": "markdown",
   "metadata": {},
   "source": [
    "## Panel\n",
    "    * Altere o background.\n",
    "    * Altere a posição para topo.\n",
    "    * Adicionar um label com nome: cadastro de clientes.\n",
    "\n",
    "## Tab control\n",
    "\n",
    "Uma tabela com tabs para mudar de tela dentro de outra maior.\n",
    "\n",
    "## Text\n",
    "\n",
    "Campo para adicionar texto.\n",
    "\n",
    "## MaskedText\n",
    "\n",
    "Campo para adicionar texto com máscaras validadoras.\n",
    "\n",
    "## Button\n",
    "\n",
    "Botões que permitem ações.\n",
    "\n",
    "## Data Grid View\n",
    "\n",
    "Área onde os dados do banco irão aparecer."
   ]
  },
  {
   "cell_type": "markdown",
   "metadata": {},
   "source": []
  }
 ],
 "metadata": {
  "kernelspec": {
   "display_name": "Python 3.10.4 64-bit",
   "language": "python",
   "name": "python3"
  },
  "language_info": {
   "name": "python",
   "version": "3.10.4"
  },
  "orig_nbformat": 4,
  "vscode": {
   "interpreter": {
    "hash": "aee8b7b246df8f9039afb4144a1f6fd8d2ca17a180786b69acc140d282b71a49"
   }
  }
 },
 "nbformat": 4,
 "nbformat_minor": 2
}
