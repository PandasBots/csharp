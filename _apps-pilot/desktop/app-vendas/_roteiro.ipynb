{
 "cells": [
  {
   "cell_type": "markdown",
   "metadata": {},
   "source": [
    "# # Sobre o Projeto\n",
    "\n",
    "* Projeto para aplicativo de vendas baseado no curso: Criando um Controle de Vendas Desktop com C# e MySQL (Udemy)."
   ]
  },
  {
   "cell_type": "markdown",
   "metadata": {},
   "source": [
    "## 1) Criar um projeto\n",
    "\n",
    "* No VS selecionar Aplicativo de Windows Forms(.NET Framework). \n",
    "* Nomear o projeto.\n",
    "* Selecionar o Framework."
   ]
  },
  {
   "cell_type": "markdown",
   "metadata": {},
   "source": [
    "## 2) Configurar referências para conectar ao MySql.\n",
    "\n",
    "* Em Referências gerenciar pacotes do NuGet. \n",
    "    * Adicionar MySql.Data.\n",
    "    * Adicionar System.Configuration.\n"
   ]
  },
  {
   "cell_type": "markdown",
   "metadata": {},
   "source": [
    "## 3) Adicionar estrutura de pastas\n",
    "\n",
    "* Na raiz do projeto adicionar a pasta `br.com.nomeProjeto.view`. A view é responsável por organizar os arquivos de views que interagem com o usuário.\n",
    "\n",
    "* Na raiz do projeto adicionar a pasta `br.com.nomeProjeto.dao`. Métodos que fazem a conexão do objeto de Model com o banco de dados.\n",
    "\n",
    "* Na raiz do projeto adicionar a pasta `br.com.nomeProjeto.model`. Classes que contém os objetos principais do sistema.\n",
    "\n",
    "* Na raiz do projeto adicionar a pasta `br.com.nomeProjeto.conexao`."
   ]
  },
  {
   "cell_type": "markdown",
   "metadata": {},
   "source": []
  }
 ],
 "metadata": {
  "kernelspec": {
   "display_name": "Python 3.10.4 64-bit",
   "language": "python",
   "name": "python3"
  },
  "language_info": {
   "name": "python",
   "version": "3.10.4"
  },
  "orig_nbformat": 4,
  "vscode": {
   "interpreter": {
    "hash": "aee8b7b246df8f9039afb4144a1f6fd8d2ca17a180786b69acc140d282b71a49"
   }
  }
 },
 "nbformat": 4,
 "nbformat_minor": 2
}
