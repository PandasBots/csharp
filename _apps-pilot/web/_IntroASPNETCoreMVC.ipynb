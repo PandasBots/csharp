{
 "cells": [
  {
   "cell_type": "markdown",
   "metadata": {},
   "source": [
    "# # ASP.NET Core MVC\n",
    "\n",
    "* 3 partes: Model, View, Controller.\n",
    "    * Model: É o verdadeiro sistema, o coração das regras de negócio. Composto de entities e services.\n",
    "    * Controllers: Intermediário entre o sistema e as telas do sistema. Recebe e trata as interações do usuário com o sistema.\n",
    "    * Views: Telas do sistema. Define a estrutura e o comportamento das telas.\n",
    "\n",
    "* \n",
    "\n",
    "### Tipos de Aplicação\n",
    "\n",
    "* Webservice: Aplicação em que o backend é segmentado do frontend. Via API's, o frontend faz requisições para o backend aplicar a lógica do negócio e interagir com o banco.\n",
    "    * Frameworks Javascript: Angular, React, JQuery.\n",
    "\n",
    "* Template Engine: Neste caso, existe um sistema de templates que faz o frontend. O backend tem muito mais responsabilidades, inclusive para com o frontend.\n",
    "    * Python-Django, C#-ASP.NET (template Razor), PHP-Laravel (Template Blade), Java-Spring (Template Timeleaf).\n",
    "\n",
    "<div>\n",
    "<img src=\"_img/mvc.png\" width=\"400\"/>\n",
    "<img src=\"_img/mvc1.png\" width=\"400\"/>\n",
    "\n",
    "</div>"
   ]
  },
  {
   "cell_type": "markdown",
   "metadata": {},
   "source": [
    "# # Estrutura do Projeto\n",
    "\n"
   ]
  },
  {
   "cell_type": "markdown",
   "metadata": {},
   "source": [
    "## Connected Services\n",
    "\n",
    "Serviços conectado ao projeto, como cloud da Azure.\n",
    "\n",
    "## Dependencies\n",
    "\n",
    "Pacotes NuGet, SDK, Ferramentas de análise.\n",
    "\n",
    "## Properties\n",
    "\n",
    "Propriedades e configurações do projeto. Nome do namespace, versão, framework, etc.\n",
    "\n",
    "## wwwroot\n",
    "\n",
    "Recursos do Frontend: Estão os arquivos css, imagens, javascript, bootstrap, jquery-DOM. \n",
    "\n",
    "## Pastas do MVC\n",
    "\n",
    "* Controllers.\n",
    "\n",
    "* Models.\n",
    "\n",
    "* Views: Telas da aplicação. Cada pasta está relacionada com uma página. Sistema de templates.\n",
    "    * Home: A pasta Home está relacionada com o controlador básico HomeController, que controla ações básicas.\n",
    "    * Shared: Contém o arquivo _layout que controla layouts básicos da aplicação. Contém página de erros, etc.\n",
    "    * ViewStart e ViewImports: Contém definições básicas sobre bibliotecas que serão usadas, etc.\n",
    "\n",
    "## AppSettings.json\n",
    "\n",
    "Configurações com banco de dados, etc.\n",
    "\n",
    "## Program.cs\n",
    "\n",
    "Ponto de entrada da aplicação, com a função MAIN. Aqui é acionado a classe Startup.\n",
    "\n",
    "## Startup.cs\n",
    "\n",
    "Classe que herda de IConfiguration que contém configurações principais. Contém as configurações básicas de Routes.\n",
    "\n"
   ]
  },
  {
   "cell_type": "markdown",
   "metadata": {},
   "source": []
  }
 ],
 "metadata": {
  "kernelspec": {
   "display_name": "Python 3.10.4 64-bit",
   "language": "python",
   "name": "python3"
  },
  "language_info": {
   "name": "python",
   "version": "3.10.4"
  },
  "orig_nbformat": 4,
  "vscode": {
   "interpreter": {
    "hash": "aee8b7b246df8f9039afb4144a1f6fd8d2ca17a180786b69acc140d282b71a49"
   }
  }
 },
 "nbformat": 4,
 "nbformat_minor": 2
}
