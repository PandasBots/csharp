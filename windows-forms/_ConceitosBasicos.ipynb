{
 "cells": [
  {
   "cell_type": "markdown",
   "metadata": {},
   "source": [
    "# # Conceitos Básicos\n",
    "\n",
    "* Ref.: https://learn.microsoft.com/pt-br/dotnet/desktop/winforms/overview/?view=netdesktop-6.0\n",
    "\n",
    "O Windows Forms é uma estrutura de interface do usuário que cria aplicativos cliente de área de trabalho avançados para Windows. A plataforma de desenvolvimento Windows Forms dá suporte a uma ampla gama de recursos de desenvolvimento do aplicativo, incluindo controles, grafos, associação de dados e entrada de usuário. O Windows Forms apresenta um designer visual de arrastar e soltar no Visual Studio para criar facilmente aplicativos do Windows Forms."
   ]
  },
  {
   "cell_type": "markdown",
   "metadata": {},
   "source": [
    "## ## Formulários\n",
    "\n",
    "O WF é baseado em formulários, que são classes que representam as telas que o usuário interage. Toda vez que adicionamos um elemento do WF na tela ou form, a classe subjacente deste form estará sendo alterada.\n",
    "\n",
    "\n",
    "\n"
   ]
  },
  {
   "cell_type": "markdown",
   "metadata": {},
   "source": [
    "## ## Métodos Principais\n",
    "\n",
    "* **New**: Método que inicializa o formulário.\n",
    "* **NomeButton_Click**: Método que corresponde ao clique do botão de name = NomeButton."
   ]
  },
  {
   "cell_type": "markdown",
   "metadata": {},
   "source": [
    "## "
   ]
  }
 ],
 "metadata": {
  "kernelspec": {
   "display_name": "Python 3.10.4 64-bit",
   "language": "python",
   "name": "python3"
  },
  "language_info": {
   "name": "python",
   "version": "3.10.4"
  },
  "orig_nbformat": 4,
  "vscode": {
   "interpreter": {
    "hash": "aee8b7b246df8f9039afb4144a1f6fd8d2ca17a180786b69acc140d282b71a49"
   }
  }
 },
 "nbformat": 4,
 "nbformat_minor": 2
}
