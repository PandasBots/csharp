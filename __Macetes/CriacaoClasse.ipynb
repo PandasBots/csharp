{
 "cells": [
  {
   "cell_type": "markdown",
   "metadata": {},
   "source": [
    "# Ordem para implementar Classe\n",
    "\n",
    "* Atributos privados\n",
    "* Propriedades Auto-implementadas\n",
    "* Construtores\n",
    "* Propriedades Customizadas\n",
    "* Outros métodos"
   ]
  },
  {
   "cell_type": "code",
   "execution_count": 2,
   "metadata": {
    "dotnet_interactive": {
     "language": "csharp"
    },
    "vscode": {
     "languageId": "dotnet-interactive.csharp"
    }
   },
   "outputs": [],
   "source": [
    "using System.Globalization;\n",
    "class Produto {\n",
    "    // Atributo privativo\n",
    "    private string _nome;\n",
    "    // Propriedade  autoimplementada    \n",
    "    public double Preco { get; private set; }\n",
    "    public double Quantidade { get; set; }\n",
    "    // Construtores\n",
    "    public Produto() {\n",
    "    }\n",
    "    public Produto(string nome, double preco, int quantidade) {\n",
    "        _nome = nome;\n",
    "        Preco = preco;\n",
    "        Quantidade = quantidade;\n",
    "    }\n",
    "    // Propriedade Customizada\n",
    "    public string Nome {\n",
    "        get { return _nome; }\n",
    "        set {\n",
    "            if (value != null && value.Length > 1) {\n",
    "            _nome = value;\n",
    "            }\n",
    "        }\n",
    "    }\n",
    "    // Métodos\n",
    "    public double ValorTotalEmEstoque {\n",
    "        get { return Preco * Quantidade; }\n",
    "    }\n",
    "    public void AdicionarProdutos(int quantidade) {\n",
    "        Quantidade += quantidade;\n",
    "    }\n",
    "    public void RemoverProdutos(int quantidade) {\n",
    "        Quantidade -= quantidade;\n",
    "    }\n",
    "    public override string ToString() {\n",
    "        return $@\"{_nome}, R$ {Preco.ToString(\"F2\", CultureInfo.InvariantCulture)}, \n",
    "        {Quantidade} unidades, Total: R$ {ValorTotalEmEstoque.ToString(\"F2\", CultureInfo.InvariantCulture)}\";\n",
    "    }\n",
    "}"
   ]
  },
  {
   "cell_type": "code",
   "execution_count": null,
   "metadata": {
    "dotnet_interactive": {
     "language": "csharp"
    },
    "vscode": {
     "languageId": "dotnet-interactive.csharp"
    }
   },
   "outputs": [],
   "source": []
  }
 ],
 "metadata": {
  "kernelspec": {
   "display_name": ".NET (C#)",
   "language": "C#",
   "name": ".net-csharp"
  },
  "language_info": {
   "file_extension": ".cs",
   "mimetype": "text/x-csharp",
   "name": "C#",
   "pygments_lexer": "csharp",
   "version": "9.0"
  },
  "orig_nbformat": 4
 },
 "nbformat": 4,
 "nbformat_minor": 2
}
