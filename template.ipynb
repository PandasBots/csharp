{
 "cells": [
  {
   "cell_type": "markdown",
   "metadata": {},
   "source": [
    "# # Template\n",
    "\n",
    "<div>\n",
    "<img src=\"img/condicao.png\" width=\"500\"/>\n",
    "</div>"
   ]
  },
  {
   "cell_type": "markdown",
   "metadata": {},
   "source": []
  }
 ],
 "metadata": {
  "kernelspec": {
   "display_name": "Python 3.10.8 64-bit (microsoft store)",
   "language": "python",
   "name": "python3"
  },
  "language_info": {
   "name": "python",
   "version": "3.10.8"
  },
  "orig_nbformat": 4,
  "vscode": {
   "interpreter": {
    "hash": "c38167cce9b6215bf1de306282b2a82f949b6e4277c1cdd6673e9503c3de574b"
   }
  }
 },
 "nbformat": 4,
 "nbformat_minor": 2
}
