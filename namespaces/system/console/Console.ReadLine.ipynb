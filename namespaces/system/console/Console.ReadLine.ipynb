{
 "cells": [
  {
   "cell_type": "markdown",
   "metadata": {},
   "source": [
    "# Console.ReadLine\n",
    "\n",
    "* Classe Console: https://learn.microsoft.com/pt-br/dotnet/api/system.console?view=net-6.0\n",
    "\n",
    "* Método ReadLine: https://learn.microsoft.com/pt-br/dotnet/api/system.console.readline?view=net-6.0\n",
    "\n",
    "Método da Classe Console no Namespace System, para ler informação do console.\n",
    "\n",
    "#### IMPORTANTE\n",
    "\n",
    "O ReadLine() sempre gera uma string. Se quiser transformar em int, char, etc.. Use Parse."
   ]
  },
  {
   "cell_type": "markdown",
   "metadata": {},
   "source": [
    "## Diferença Read x ReadLine\n",
    "\n",
    "O primeiro lê um caractere do buffer e o segundo lê uma linha, ou seja, todos os caracteres até que encontre um indicador de fim de linha, quebra de linha.\n",
    "\n",
    "Por ler apenas um caractere o Read() retorna um inteiro indicando qual seria o caractere lido. Ele sequer é um char. É necessário uma conversão se precisar da informação como caractere mesmo. E obviamente se precisar como string a conversão também é necessária. O ReadLine() retorna uma string para acomodar toda a linha. O sinal de fim de linha não faz parte desta string resultante.\n",
    "\n",
    "Este buffer normalmente é o teclado. Não há garantias que venha de lá mas a entrada padrão usada pelo console é este dispositivo. Obviamente ele pode ter sido redirecionado mas o C# ou o .NET não precisa saber disto. Por isto, normalmente o indicador de fim de linha é gerado quando o ENTER é acionado. Tecnicamente falando é quando recebe uma string NewLine."
   ]
  },
  {
   "cell_type": "markdown",
   "metadata": {},
   "source": [
    "## Exemplo"
   ]
  },
  {
   "cell_type": "code",
   "execution_count": null,
   "metadata": {
    "dotnet_interactive": {
     "language": "csharp"
    },
    "vscode": {
     "languageId": "dotnet-interactive.csharp"
    }
   },
   "outputs": [
    {
     "name": "stdout",
     "output_type": "stream",
     "text": [
      "{\"command\":{\"code\":\"rafa\",\"targetKernelName\":\"csharp\"},\"commandType\":\"RequestDiagnostics\",\"token\":\"112\",\"id\":\"fd6a1604-91c0-61c0-74a9-839ca1d7292e\"}\n"
     ]
    }
   ],
   "source": [
    "// Armazena uma linha\n",
    "string frase = Console.ReadLine();\n",
    "\n",
    "// Imprime a linha  \n",
    "Console.WriteLine(frase);"
   ]
  },
  {
   "cell_type": "code",
   "execution_count": null,
   "metadata": {
    "dotnet_interactive": {
     "language": "csharp"
    },
    "vscode": {
     "languageId": "dotnet-interactive.csharp"
    }
   },
   "outputs": [],
   "source": [
    "string s = \"rafael\";"
   ]
  },
  {
   "cell_type": "code",
   "execution_count": null,
   "metadata": {
    "dotnet_interactive": {
     "language": "csharp"
    },
    "vscode": {
     "languageId": "dotnet-interactive.csharp"
    }
   },
   "outputs": [],
   "source": []
  }
 ],
 "metadata": {
  "kernelspec": {
   "display_name": ".NET (C#)",
   "language": "C#",
   "name": ".net-csharp"
  },
  "language_info": {
   "file_extension": ".cs",
   "mimetype": "text/x-csharp",
   "name": "C#",
   "pygments_lexer": "csharp",
   "version": "9.0"
  },
  "orig_nbformat": 4
 },
 "nbformat": 4,
 "nbformat_minor": 2
}
