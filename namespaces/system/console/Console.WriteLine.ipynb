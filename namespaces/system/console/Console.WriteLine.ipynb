{
 "cells": [
  {
   "cell_type": "markdown",
   "metadata": {},
   "source": [
    "# Console.WriteLine\n",
    "\n",
    "* Classe Console: https://learn.microsoft.com/pt-br/dotnet/api/system.console?view=net-6.0\n",
    "\n",
    "* Método WriteLine: https://learn.microsoft.com/pt-br/dotnet/api/system.console.writeline?view=net-6.0\n",
    "\n",
    "Método da Classe Console no Namespace System, para imprimir informação no console."
   ]
  },
  {
   "cell_type": "markdown",
   "metadata": {},
   "source": [
    "## Write X WriteLine\n",
    "\n",
    "WriteLine: Insere uma quebra de linha automática, enquanto Write não faz.\n"
   ]
  },
  {
   "cell_type": "code",
   "execution_count": null,
   "metadata": {
    "dotnet_interactive": {
     "language": "csharp"
    },
    "vscode": {
     "languageId": "dotnet-interactive.csharp"
    }
   },
   "outputs": [
    {
     "name": "stdout",
     "output_type": "stream",
     "text": [
      "Olá Mundo!\n",
      "Olá Mundo!\n"
     ]
    }
   ],
   "source": [
    "Console.WriteLine(\"Olá Mundo!\");\n",
    "Console.WriteLine(\"Olá Mundo!\");"
   ]
  },
  {
   "cell_type": "code",
   "execution_count": null,
   "metadata": {
    "dotnet_interactive": {
     "language": "csharp"
    },
    "vscode": {
     "languageId": "dotnet-interactive.csharp"
    }
   },
   "outputs": [
    {
     "name": "stdout",
     "output_type": "stream",
     "text": [
      "Olá Mundo!Olá Mundo!"
     ]
    }
   ],
   "source": [
    "Console.Write(\"Olá Mundo!\");\n",
    "Console.Write(\"Olá Mundo!\");"
   ]
  },
  {
   "cell_type": "markdown",
   "metadata": {},
   "source": [
    "## Controle do número de casas decimais"
   ]
  },
  {
   "cell_type": "code",
   "execution_count": null,
   "metadata": {
    "dotnet_interactive": {
     "language": "csharp"
    },
    "vscode": {
     "languageId": "dotnet-interactive.csharp"
    }
   },
   "outputs": [
    {
     "name": "stdout",
     "output_type": "stream",
     "text": [
      "1000,1234\n",
      "1000,12\n"
     ]
    }
   ],
   "source": [
    "// Número com 4 casas\n",
    "double saldo = 1000.1234;\n",
    "\n",
    "Console.WriteLine(saldo);\n",
    "\n",
    "// Transforma o número em string e usa ToString para definir o número de casas decimais. F(2) = 2 casas decimais.\n",
    "\n",
    "string saldoAjustado = saldo.ToString(\"F2\");\n",
    "\n",
    "Console.WriteLine(saldoAjustado);\n"
   ]
  },
  {
   "cell_type": "markdown",
   "metadata": {},
   "source": [
    "## Mudar formato de número americano (.) para brasileiro (,)\n",
    "\n",
    "* Requer using System.Globalization;"
   ]
  },
  {
   "cell_type": "code",
   "execution_count": null,
   "metadata": {
    "dotnet_interactive": {
     "language": "csharp"
    },
    "vscode": {
     "languageId": "dotnet-interactive.csharp"
    }
   },
   "outputs": [
    {
     "name": "stdout",
     "output_type": "stream",
     "text": [
      "1000,1234\n",
      "1000.12\n"
     ]
    }
   ],
   "source": [
    "// Namespace System.Globalization necessário para usar o CultureInfo\n",
    "using System.Globalization;\n",
    "\n",
    "// Número com ponto mas que é impresso com vírgula\n",
    "double saldo = 1000.1234;\n",
    "\n",
    "Console.WriteLine(saldo);\n",
    "\n",
    "// Transforma o número em string e usa ToString para definir o número de casas decimais. F(2) = 2 casas decimais.\n",
    "// Depois, usa o CultureInfo.InvariantCulture para que o número seja impresso com ponto.\n",
    "\n",
    "string saldoAjustado = saldo.ToString(\"F2\", CultureInfo.InvariantCulture);\n",
    "\n",
    "Console.WriteLine(saldoAjustado);"
   ]
  },
  {
   "cell_type": "markdown",
   "metadata": {},
   "source": [
    "## Formas de imprimir um texto com variáveis"
   ]
  },
  {
   "cell_type": "code",
   "execution_count": null,
   "metadata": {
    "dotnet_interactive": {
     "language": "csharp"
    },
    "vscode": {
     "languageId": "dotnet-interactive.csharp"
    }
   },
   "outputs": [],
   "source": [
    "int idade = 32;\n",
    "double saldo = 10.35784;\n",
    "string nome = \"Maria\";"
   ]
  },
  {
   "cell_type": "markdown",
   "metadata": {},
   "source": [
    "* Interpolação (A partir do C# versão 6)"
   ]
  },
  {
   "cell_type": "code",
   "execution_count": null,
   "metadata": {
    "dotnet_interactive": {
     "language": "csharp"
    },
    "vscode": {
     "languageId": "dotnet-interactive.csharp"
    }
   },
   "outputs": [
    {
     "name": "stdout",
     "output_type": "stream",
     "text": [
      "Maria tem 32 anos e tem saldo igual a 10,358 reais"
     ]
    }
   ],
   "source": [
    "Console.Write($\"{nome} tem {idade} anos e tem saldo igual a {saldo:F3} reais\");"
   ]
  },
  {
   "cell_type": "markdown",
   "metadata": {},
   "source": [
    "* Placeholder"
   ]
  },
  {
   "cell_type": "code",
   "execution_count": null,
   "metadata": {
    "dotnet_interactive": {
     "language": "csharp"
    },
    "vscode": {
     "languageId": "dotnet-interactive.csharp"
    }
   },
   "outputs": [
    {
     "name": "stdout",
     "output_type": "stream",
     "text": [
      "Maria tem 32 anos e tem saldo igual a 10,36 reais"
     ]
    }
   ],
   "source": [
    "Console.Write(\"{0} tem {1} anos e tem saldo igual a {2:F2} reais\", nome, idade, saldo);  "
   ]
  },
  {
   "cell_type": "markdown",
   "metadata": {},
   "source": [
    "* Concatenação de strings (Técnica mais antiga)"
   ]
  },
  {
   "cell_type": "code",
   "execution_count": null,
   "metadata": {
    "dotnet_interactive": {
     "language": "csharp"
    },
    "vscode": {
     "languageId": "dotnet-interactive.csharp"
    }
   },
   "outputs": [
    {
     "name": "stdout",
     "output_type": "stream",
     "text": [
      "Maria tem 32 anos e tem saldo igual a 10,4 reais"
     ]
    }
   ],
   "source": [
    "Console.Write(nome + \" tem \" + idade + \" anos e tem saldo igual a \" + saldo.ToString(\"F1\") + \" reais\");"
   ]
  }
 ],
 "metadata": {
  "kernelspec": {
   "display_name": ".NET (C#)",
   "language": "C#",
   "name": ".net-csharp"
  },
  "language_info": {
   "file_extension": ".cs",
   "mimetype": "text/x-csharp",
   "name": "C#",
   "pygments_lexer": "csharp",
   "version": "9.0"
  },
  "orig_nbformat": 4
 },
 "nbformat": 4,
 "nbformat_minor": 2
}
