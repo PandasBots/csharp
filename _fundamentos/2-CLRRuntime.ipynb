{
 "cells": [
  {
   "cell_type": "markdown",
   "metadata": {},
   "source": [
    "# Máquina Virtual do .NET - CLR"
   ]
  },
  {
   "cell_type": "markdown",
   "metadata": {},
   "source": [
    "## Compilação e Interpretação\n",
    "\n",
    "#### Compilador: Visual Studio\n",
    "\n",
    "É o processo de transformar o código criado pelo desenvolvedor, em linguagem humana, em código entendido pela máquina.\n",
    "\n",
    "* Linguagens compiladas: C, C++\n",
    "\n",
    "* Linguagens interpretadas: PHP, Javascript\n",
    "\n",
    "* Linguagens pré-compiladas: JAVA, C#"
   ]
  },
  {
   "cell_type": "markdown",
   "metadata": {},
   "source": [
    "## Linguagem Compilada\n",
    "\n",
    "Programa escrito pelo programador, exige um compilador específico que irá transformar o arquivo num arquivo executável de forma a ser lido pelo sistema operacional (Windows, Mac, etc..), que por usa vez está no nível da máquina.\n",
    "\n",
    "<div>\n",
    "<img src=\"img/ling-compilada.png\" width=\"500\"/>\n",
    "</div>\n"
   ]
  },
  {
   "cell_type": "markdown",
   "metadata": {},
   "source": [
    "## Linguagem Interpretada\n",
    "\n",
    "Neste caso, o código-fonte do desenvolvedor é lido diretamente pelo sistema operacional, graças ao interpretador específico (Máquina Virtual) daquele sistema operacional. O interpretador é o software capaz de ler o código fonte. Assim, não precisa do processo de compilação e geração de arquivo executável. Aqui, a manutenção é mais fácil, pois o código é escrito uma única vez e lido em diversos sistemas.\n",
    "\n",
    "Este processo é mais fácil, mas mais lento.\n",
    "\n",
    "<div>\n",
    "<img src=\"img/ling-interpretada.png\" width=\"500\"/>\n",
    "</div>"
   ]
  },
  {
   "cell_type": "markdown",
   "metadata": {},
   "source": [
    "## Linguagem pré-compilda (híbrida): C#\n",
    "\n",
    "Neste caso, o compilador gera um arquivo \"bytecode\" correto, que pode ser lido pelo interpretador (Máquina Virutal) do .NET para cada sistema específica. Assim, temos maior rapidez num processo mais simples de ser executado.\n",
    "\n",
    "<div>\n",
    "<img src=\"img/ling-hibrida.png\" width=\"500\"/>\n",
    "</div>\n",
    "\n",
    "* Resumidamente:\n",
    "    * Programador escreve o código fonte (.cs)\n",
    "    * Ao compilar, o compilador gera um arquivo pré-compilado em formato CIL (Common Intermediate Language - Bytecode). \n",
    "    * O arquivo CIL irá rodar em cima da máquina virtual específica para o sistema, por exemplo o .NET CLR do Windows, de maneira muito mais rápida que no caso de um interpretador comum.\n",
    "    * Finalmente, o código de máquina gerado pelo processo anterior irá ser executado pelo computador."
   ]
  },
  {
   "cell_type": "markdown",
   "metadata": {},
   "source": []
  }
 ],
 "metadata": {
  "kernelspec": {
   "display_name": ".NET (C#)",
   "language": "C#",
   "name": ".net-csharp"
  },
  "language_info": {
   "file_extension": ".cs",
   "mimetype": "text/x-csharp",
   "name": "C#",
   "pygments_lexer": "csharp",
   "version": "9.0"
  },
  "orig_nbformat": 4
 },
 "nbformat": 4,
 "nbformat_minor": 2
}
