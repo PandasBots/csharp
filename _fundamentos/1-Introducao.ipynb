{
 "cells": [
  {
   "cell_type": "markdown",
   "metadata": {},
   "source": [
    "# Diferença C# e .NET\n",
    "\n",
    "* C#: É uma linguagem de programação. Regras sintáticas para escrever programas.\n",
    "\n",
    "* .NET: É um framework (plataforma de desenvolvimento) para se criar diversas aplicações com vários tipos de linguagens. (C#, F#, VB)"
   ]
  },
  {
   "cell_type": "markdown",
   "metadata": {},
   "source": [
    "## CLI Command Line Interface\n",
    "\n",
    "* Ref.: https://www.w3schools.com/whatis/whatis_cli.asp\n",
    "\n",
    "É o programa de linha de comando usado para inserir textos que executam funções. Era a forma básica de se comunicar com os computadores até que vieram os comandos via interface gráfica (GUI). "
   ]
  },
  {
   "cell_type": "markdown",
   "metadata": {},
   "source": [
    "## CLI Common Language Infrastructure\n",
    "\n",
    "* Ref.: https://www.c-sharpcorner.com/blogs/overview-of-common-language-infrastructure\n",
    "\n",
    "O .NET Framework, .NET Core, e Mono são implementações da CLI.\n",
    "\n",
    "Common Language Infrastructure é um padrão desenvolvido pela Miscrosoft que permite o uso de múltiplas linguagens de alto nível em diferentes máquinas sem ter que reescrever o código para uma determinada arquitetura. Logo, a CLI permite uma aplicação escrita numa linguagem comum ser rodada em qualquer sistema operacional usando um runtime comum.\n",
    "\n",
    "<div>\n",
    "<img src=\"_img/cli.png\" width=\"300\"/>\n",
    "</div>"
   ]
  },
  {
   "cell_type": "markdown",
   "metadata": {},
   "source": [
    "## .NET\n",
    "\n",
    "* O que é .NET: https://dotnet.microsoft.com/en-us/learn/dotnet/what-is-dotnet\n",
    "\n",
    "* Componentes: \n",
    "    * BCL (Base Class Library): Contém várias bibliotecas, funcionalidades, para ajudar na criação das aplicações.\n",
    "        * Ref.: https://learn.microsoft.com/en-us/previous-versions/gg145045(v=vs.110)?redirectedfrom=MSDN\n",
    "    * CLR (Common Language Runtime): Máquina Virtual que executa os programas feitos em .NET. Similarmente é a jvm do JAVA, que é onde o programa está sendo rodado. O CLR possui o garbage collection que identifica objetos não utilizados e os remove da memória.\n",
    "        * Download do .NET: https://dotnet.microsoft.com/en-us/download\n",
    "        * Como verificar versão do .NET: https://learn.microsoft.com/pt-br/dotnet/framework/migration-guide/how-to-determine-which-versions-are-installed"
   ]
  },
  {
   "cell_type": "markdown",
   "metadata": {},
   "source": [
    "### .NET Standard\n",
    "\n",
    "* Ref.: https://learn.microsoft.com/en-us/dotnet/standard/net-standard?tabs=net-standard-1-0\n",
    "\n",
    ".NET Standard é uma especificação, documentação contendo a descrição das operações que o .NET deve ter. Mas para que ele exista de fato é preciso que haja a implementação.\n",
    "\n",
    "#### Implementações do .NET Standard\n",
    "\n",
    "* (2002) .NET Framework: Implementação da própria Microsoft, funciona apenas em Windows. ASP.Net.\n",
    "* (2004) MONO: Open Source, com execução multiplataforma. Usado por Xamarin e Unity para fazer games.\n",
    "* (2011) Xamarin: Usado para aplicativos móveis e Mac.\n",
    "* (2014) .NET Core: Nova implementação conjunta entre Microsoft e comunidade. Open Source. Mais rápido e performático.\n"
   ]
  },
  {
   "cell_type": "markdown",
   "metadata": {},
   "source": [
    "<div>\n",
    "<img src=\"_img/resumo.png\" width=\"500\"/>\n",
    "</div>"
   ]
  },
  {
   "cell_type": "markdown",
   "metadata": {},
   "source": [
    "### Interface com Janelas\n",
    "\n",
    "* .NET Framework 2002 possui o Windows forms. Já o .NET Core 2004 não possui um suporte nativo. Para isso, uma biblioteca que vem crescendo no desenvolvimento de janelas é o Electron."
   ]
  },
  {
   "cell_type": "markdown",
   "metadata": {},
   "source": [
    "# Paradigma Funcional da Programação\n",
    "\n",
    "<div>\n",
    "<img src=\"_img/paradigma.png\" width=\"500\"/>\n",
    "</div>"
   ]
  },
  {
   "cell_type": "markdown",
   "metadata": {},
   "source": []
  }
 ],
 "metadata": {
  "kernelspec": {
   "display_name": ".NET (C#)",
   "language": "C#",
   "name": ".net-csharp"
  },
  "language_info": {
   "file_extension": ".cs",
   "mimetype": "text/x-csharp",
   "name": "C#",
   "pygments_lexer": "csharp",
   "version": "9.0"
  },
  "orig_nbformat": 4
 },
 "nbformat": 4,
 "nbformat_minor": 2
}
