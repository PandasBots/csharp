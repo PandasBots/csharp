{
 "cells": [
  {
   "cell_type": "markdown",
   "metadata": {},
   "source": [
    "# Estrutura de uma aplicação .NET\n",
    "\n",
    "Uma aplicação é composta de classes, que podem ser agrupadas em namespaces, ou seja, classes relacionadas.\n"
   ]
  },
  {
   "cell_type": "markdown",
   "metadata": {},
   "source": [
    "## Agrupamento Lógico\n",
    "\n",
    "Agrupamento em entidades, serviços, repositórios. Por exemplo, o namespace \"repositories\" que são classes usadas para acessar os dados.\n",
    "\n",
    "<div>\n",
    "<img src=\"img/grupo-logico.png\" width=\"500\"/>\n",
    "</div>"
   ]
  },
  {
   "cell_type": "markdown",
   "metadata": {},
   "source": [
    "## Agrupamento Físico (Assembly / Project)\n",
    "\n",
    "Assembly (DLL ou EXE) agrupamento físico, ou seja, a aplicação fica divida em módulos.\n",
    "\n",
    "<div>\n",
    "<img src=\"img/grupo-fisico.png\" width=\"500\"/>\n",
    "</div>"
   ]
  },
  {
   "cell_type": "markdown",
   "metadata": {},
   "source": [
    "## Aplicação (Solution)\n",
    "\n",
    "A aplicação, finalmente, é o agrupamento dos assemblys. No Visual Studio, o conceito de \"Solution\" é a aplicação, enquanto \"Project\" diz respeito aos diversos assemblys."
   ]
  }
 ],
 "metadata": {
  "kernelspec": {
   "display_name": ".NET (C#)",
   "language": "C#",
   "name": ".net-csharp"
  },
  "language_info": {
   "file_extension": ".cs",
   "mimetype": "text/x-csharp",
   "name": "C#",
   "pygments_lexer": "csharp",
   "version": "9.0"
  },
  "orig_nbformat": 4
 },
 "nbformat": 4,
 "nbformat_minor": 2
}
