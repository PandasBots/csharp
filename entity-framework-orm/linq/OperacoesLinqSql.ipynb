{
 "cells": [
  {
   "cell_type": "markdown",
   "metadata": {},
   "source": [
    "# # Operações Principais\n",
    "\n",
    "* Ref.: https://odetocode.com/articles/739.aspx\n",
    "\n",
    "* Ref.: https://learn.microsoft.com/pt-pt/samples/browse/?redirectedfrom=MSDN-samples\n",
    "\n",
    "\n",
    "<div>\n",
    "<img src=\"_img/linq1.png\" width=\"500\"/>\n",
    "</div>"
   ]
  },
  {
   "cell_type": "markdown",
   "metadata": {},
   "source": [
    "# Exemplo"
   ]
  },
  {
   "cell_type": "code",
   "execution_count": null,
   "metadata": {
    "vscode": {
     "languageId": "javascript"
    }
   },
   "outputs": [],
   "source": [
    "// Entities\n",
    "\n",
    "\n",
    "// Classe Category\n",
    "namespace Course.Entities {\n",
    "    class Category {\n",
    "        public int Id { get; set; }\n",
    "        public string Name { get; set; }\n",
    "        public int Tier { get; set; }\n",
    "    }\n",
    "}\n",
    "\n",
    "// Classe Produc\n",
    "using System.Globalization;\n",
    "namespace Course.Entities {\n",
    "    class Product {\n",
    "        public int Id { get; set; }\n",
    "        public string Name { get; set; }\n",
    "        public double Price { get; set; }\n",
    "        public Category Category { get; set; }\n",
    "\n",
    "        public override string ToString() {\n",
    "            return Id\n",
    "                + \", \"\n",
    "                + Name\n",
    "                + \", \"\n",
    "                + Price.ToString(\"F2\", CultureInfo.InvariantCulture)\n",
    "                + \", \"\n",
    "                + Category.Name\n",
    "                + \", \"\n",
    "                + Category.Tier;\n",
    "        }\n",
    "    }\n",
    "}"
   ]
  },
  {
   "cell_type": "code",
   "execution_count": null,
   "metadata": {
    "vscode": {
     "languageId": "javascript"
    }
   },
   "outputs": [],
   "source": [
    "using System;\n",
    "using System.Collections.Generic;\n",
    "using System.Linq;\n",
    "using Course.Entities;\n",
    "\n",
    "namespace Course {\n",
    "\n",
    "    class Program {\n",
    "\n",
    "        static void Print<T>(string message, IEnumerable<T> collection) {\n",
    "            Console.WriteLine(message);\n",
    "            foreach (T obj in collection) {\n",
    "                Console.WriteLine(obj);\n",
    "            }\n",
    "            Console.WriteLine();\n",
    "        }\n",
    "\n",
    "        static void Main(string[] args) {\n",
    "\n",
    "            Category c1 = new Category() { Id = 1, Name = \"Tools\", Tier = 2 };\n",
    "            Category c2 = new Category() { Id = 2, Name = \"Computers\", Tier = 1 };\n",
    "            Category c3 = new Category() { Id = 3, Name = \"Electronics\", Tier = 1 };\n",
    "\n",
    "            List<Product> products = new List<Product>() {\n",
    "                new Product() { Id = 1, Name = \"Computer\", Price = 1100.0, Category = c2 },\n",
    "                new Product() { Id = 2, Name = \"Hammer\", Price = 90.0, Category = c1 },\n",
    "                new Product() { Id = 3, Name = \"TV\", Price = 1700.0, Category = c3 },\n",
    "                new Product() { Id = 4, Name = \"Notebook\", Price = 1300.0, Category = c2 },\n",
    "                new Product() { Id = 5, Name = \"Saw\", Price = 80.0, Category = c1 },\n",
    "                new Product() { Id = 6, Name = \"Tablet\", Price = 700.0, Category = c2 },\n",
    "                new Product() { Id = 7, Name = \"Camera\", Price = 700.0, Category = c3 },\n",
    "                new Product() { Id = 8, Name = \"Printer\", Price = 350.0, Category = c3 },\n",
    "                new Product() { Id = 9, Name = \"MacBook\", Price = 1800.0, Category = c2 },\n",
    "                new Product() { Id = 10, Name = \"Sound Bar\", Price = 700.0, Category = c3 },\n",
    "                new Product() { Id = 11, Name = \"Level\", Price = 70.0, Category = c1 }\n",
    "            };\n",
    "\n",
    "            //var r1 = products.Where(p => p.Category.Tier == 1 && p.Price < 900.0);\n",
    "            var r1 =\n",
    "                from p in products\n",
    "                where p.Category.Tier == 1 && p.Price < 900\n",
    "                select p;\n",
    "            Print(\"TIER 1 AND PRICE < 900:\", r1);\n",
    "\n",
    "            //var r2 = products.Where(p => p.Category.Name == \"Tools\").Select(p => p.Name);\n",
    "            var r2 =\n",
    "                from p in products\n",
    "                where p.Category.Name == \"Tools\"\n",
    "                select p.Name;\n",
    "            Print(\"NAMES OF PRODUCTS FROM TOOLS\", r2);\n",
    "\n",
    "            //var r3 = products.Where(p => p.Name[0] == 'C').Select(p => new { p.Name, p.Price, CategoryName = p.Category.Name });\n",
    "            var r3 =\n",
    "                from p in products\n",
    "                where p.Name[0] == 'C'\n",
    "                select new {\n",
    "                    p.Name,\n",
    "                    p.Price,\n",
    "                    CategoryName = p.Category.Name\n",
    "                };\n",
    "            Print(\"NAMES STARTED WITH 'C' AND ANONYMOUS OBJECT\", r3);\n",
    "\n",
    "            //var r4 = products.Where(p => p.Category.Tier == 1).OrderBy(p => p.Price).ThenBy(p => p.Name);\n",
    "            var r4 =\n",
    "                from p in products\n",
    "                where p.Category.Tier == 1\n",
    "                orderby p.Name\n",
    "                orderby p.Price\n",
    "                select p;\n",
    "            Print(\"TIER 1 ORDER BY PRICE THEN BY NAME\", r4);\n",
    "\n",
    "            //var r5 = r4.Skip(2).Take(4);\n",
    "            var r5 =\n",
    "                (from p in r4\n",
    "                 select p)\n",
    "                 .Skip(2)\n",
    "                 .Take(4);\n",
    "            Print(\"TIER 1 ORDER BY PRICE THEN BY NAME SKIP 2 TAKE 4\", r5);\n",
    "\n",
    "            //var r16 = products.GroupBy(p => p.Category);\n",
    "            var r16 =\n",
    "                from p in products\n",
    "                group p by p.Category;\n",
    "            foreach (IGrouping<Category, Product> group in r16) {\n",
    "                Console.WriteLine(\"Category \" + group.Key.Name + \":\");\n",
    "                foreach (Product p in group) {\n",
    "                    Console.WriteLine(p);\n",
    "                }\n",
    "                Console.WriteLine();\n",
    "            }\n",
    "        }\n",
    "    }\n",
    "}\n"
   ]
  }
 ],
 "metadata": {
  "kernelspec": {
   "display_name": "Python 3.10.4 64-bit",
   "language": "python",
   "name": "python3"
  },
  "language_info": {
   "name": "python",
   "version": "3.10.4"
  },
  "orig_nbformat": 4,
  "vscode": {
   "interpreter": {
    "hash": "aee8b7b246df8f9039afb4144a1f6fd8d2ca17a180786b69acc140d282b71a49"
   }
  }
 },
 "nbformat": 4,
 "nbformat_minor": 2
}
