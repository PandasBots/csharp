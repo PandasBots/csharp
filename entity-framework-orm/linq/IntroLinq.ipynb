{
 "cells": [
  {
   "cell_type": "markdown",
   "metadata": {},
   "source": [
    "# # LINQ: Language Integrated Query\n",
    "\n",
    "* Ref.: https://learn.microsoft.com/pt-br/dotnet/csharp/programming-guide/concepts/linq/introduction-to-linq-queries\n",
    "\n",
    "### Passos Principais\n",
    "* Definir de onde vem os dados (Arrays, banco de dados, arquivo, etc..)\n",
    "* Definir a Query. Escrever a consulta com LINQ.\n",
    "* Executar a consulta, seja com foreach ou operação final."
   ]
  },
  {
   "cell_type": "code",
   "execution_count": null,
   "metadata": {
    "vscode": {
     "languageId": "javascript"
    }
   },
   "outputs": [],
   "source": [
    "using System.Linq;\n",
    "\n",
    "// 1. Definir a Fonte de Dados\n",
    "int[] numbers = new int[] { 2, 3, 4, 5 };\n",
    "\n",
    "// 2. Definir a Query\n",
    "// 2.1 Filtrar apenas números pares\n",
    "// var result = numbers.Where(x => x % 2 == 0)\n",
    "// 2.2 Filtrar apenas números pares. Deste resultado multiplicar por 10 cada elemento usando lambda.\n",
    "// var result = numbers.Where(x => x % 2 == 0).Select(x => x * 10);\n",
    "// 2.3 Agora definindo a saída com um IEnumerable e ttransformando par lisat.\n",
    "IEnumerable < int > result = numbers\n",
    "    .Where(x => x % 2 == 0)\n",
    "    .Select(x => x * 10).ToList();\n",
    "\n",
    "// 3. Executar a Query\n",
    "foreach(int x in result)\n",
    "{\n",
    "Console.WriteLine(x);\n",
    "} // 20 40"
   ]
  },
  {
   "cell_type": "markdown",
   "metadata": {},
   "source": [
    "# # Operações Principais\n",
    "\n",
    "<div>\n",
    "<img src=\"_img/linq1.png\" width=\"500\"/>\n",
    "</div>"
   ]
  },
  {
   "cell_type": "markdown",
   "metadata": {},
   "source": []
  }
 ],
 "metadata": {
  "kernelspec": {
   "display_name": "Python 3.10.4 64-bit",
   "language": "python",
   "name": "python3"
  },
  "language_info": {
   "name": "python",
   "version": "3.10.4"
  },
  "orig_nbformat": 4,
  "vscode": {
   "interpreter": {
    "hash": "aee8b7b246df8f9039afb4144a1f6fd8d2ca17a180786b69acc140d282b71a49"
   }
  }
 },
 "nbformat": 4,
 "nbformat_minor": 2
}
