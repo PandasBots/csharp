{
 "cells": [
  {
   "cell_type": "markdown",
   "metadata": {},
   "source": [
    "# # Path\n",
    "\n",
    "* Ref.: https://learn.microsoft.com/pt-br/dotnet/api/system.io.path?view=net-6.0\n",
    "\n",
    "* Realiza operações com strings que contém informações de um arquivo ou pasta."
   ]
  },
  {
   "cell_type": "markdown",
   "metadata": {},
   "source": [
    "## Paths Principais"
   ]
  },
  {
   "cell_type": "code",
   "execution_count": null,
   "metadata": {
    "vscode": {
     "languageId": "javascript"
    }
   },
   "outputs": [],
   "source": [
    "string path @\"C:\\Users\\user\\Documents\\file.txt\";\n",
    "\n",
    "// Retonra apenas o caminho da pasta de onde está o arquivo: C:\\Users\\user\\Documents \n",
    "Console.WriteLine($\"GetDirectoryName: {Path.GetDirectoryName(path)}); \n",
    "    \n",
    "// Retorna apenas o nome do arquivo: file.txt\n",
    "Console.WriteLine($\"GetFileName: {Path.GetFileName(path)});\n",
    "    \n",
    "// Retorna apenas o nome do arquivo sem a extensão: file    \n",
    "Console.WriteLine($\"GetFileNameWithoutExtension: {Path.GetFileNameWithoutExtension(path)}); \n",
    "    \n",
    "    \n",
    "// Retorna apenas a extensão do arquivo: .txt   \n",
    "Console.WriteLine($\"GetExtension: {Path.GetExtension(path)});   \n",
    "    \n",
    "// Retorna o caminho completo do arquivo: C:\\Users\\user\\Documents\\file.txt\n",
    "Console.WriteLine($\"GetFullPath: {Path.GetFullPath(path)});\n",
    "    \n",
    "// Retorna o caminho do arquivo temporário: C:\\Users\\user\\AppData\\Local\\Temp    \n",
    "Console.WriteLine($\"GetTempPath: {Path.GetTempPath(path)});\n",
    "    \n",
    "// Retorna o caractere separador de diretório: \\\n",
    "Console.WriteLine($\"DirectorySeparatorChar: {Path.DirectorySeparatorChar(path)});\n",
    "    \n",
    "// Retorna o caractere separador de caminho: \\\n",
    "Console.WriteLine($\"PathSeparator: {Path.PathSeparator(path)});\n",
    "\n"
   ]
  }
 ],
 "metadata": {
  "kernelspec": {
   "display_name": "Python 3.10.4 64-bit",
   "language": "python",
   "name": "python3"
  },
  "language_info": {
   "name": "python",
   "version": "3.10.4"
  },
  "orig_nbformat": 4,
  "vscode": {
   "interpreter": {
    "hash": "aee8b7b246df8f9039afb4144a1f6fd8d2ca17a180786b69acc140d282b71a49"
   }
  }
 },
 "nbformat": 4,
 "nbformat_minor": 2
}
