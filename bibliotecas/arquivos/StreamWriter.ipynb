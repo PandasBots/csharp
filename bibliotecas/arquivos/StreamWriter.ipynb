{
 "cells": [
  {
   "cell_type": "markdown",
   "metadata": {},
   "source": [
    "# # StreamWriter\n",
    "\n",
    "* Ref.: https://learn.microsoft.com/pt-br/dotnet/api/system.io.streamwriter?view=net-6.0\n",
    "\n",
    "* Stream capaz de escrever caracteres a partir de uma stream binária (FileStream).\n",
    "\n",
    "* Suporte a dados no formato texto."
   ]
  },
  {
   "cell_type": "code",
   "execution_count": null,
   "metadata": {
    "vscode": {
     "languageId": "javascript"
    }
   },
   "outputs": [],
   "source": [
    "// Ler conteúdo do file1 e gravar no file2 tudo em maiúsculo\n",
    "\n",
    "string SourcePath = @\"C:\\Users\\Public\\TestFolder\\file1.txt\";\n",
    "string TargetPath = @\"C:\\Users\\Public\\TestFolder\\file1.txt\";\n",
    "\n",
    "try \n",
    "{\n",
    "    string[] lines = File.ReadAllLines(SourcePath);\n",
    "    using (StreamWriter sw = File.AppendText(TargetPath))\n",
    "    {\n",
    "        foreach(string line in lines)\n",
    "        {\n",
    "            sw.WriteLine(line.ToUpper());\n",
    "        }\n",
    "    }\n",
    "}\n",
    "catch(IOException e)\n",
    "{\n",
    "    Console.WriteLine($\"An error occurred {e.Message}\");\n",
    "}   "
   ]
  },
  {
   "cell_type": "markdown",
   "metadata": {},
   "source": []
  }
 ],
 "metadata": {
  "kernelspec": {
   "display_name": "Python 3.10.4 64-bit",
   "language": "python",
   "name": "python3"
  },
  "language_info": {
   "name": "python",
   "version": "3.10.4"
  },
  "orig_nbformat": 4,
  "vscode": {
   "interpreter": {
    "hash": "aee8b7b246df8f9039afb4144a1f6fd8d2ca17a180786b69acc140d282b71a49"
   }
  }
 },
 "nbformat": 4,
 "nbformat_minor": 2
}
