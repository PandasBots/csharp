{
 "cells": [
  {
   "cell_type": "markdown",
   "metadata": {},
   "source": [
    "# # DirectInfo\n",
    "\n",
    "* Ref.: https://learn.microsoft.com/en-us/dotnet/api/system.io.directoryinfo?view=net-6.0\n",
    "\n",
    "* Listagem de arquivos a partir de um path.\n",
    "\n",
    "* Direct mais simples enquanto DirectInfo usado em casos mais performáticos."
   ]
  },
  {
   "cell_type": "markdown",
   "metadata": {},
   "source": [
    "## Listagem das pastas e arquivos"
   ]
  },
  {
   "cell_type": "code",
   "execution_count": null,
   "metadata": {
    "vscode": {
     "languageId": "javascript"
    }
   },
   "outputs": [],
   "source": [
    "// Caminho para o Folder\n",
    "string path = @\"C:\\Users\\Public\\MyFolder\";\n",
    "\n",
    "try\n",
    "{ \n",
    "    // Método com sobrecarga. (Caminho, Nome do Arquivo - no caso qualquer, Opção de Busca - no caso inclui subpastas)\n",
    "    // Pode usar ao invés de var, IEnumerable < string > , com using System.Collections.Generic;\n",
    "    var folders = Directory.EnumerateDirectories(path, \"*.*\", SearchOption.AllDirectories)\n",
    "    // Imprime o caminho do Folder  \n",
    "    Console.WriteLine(\"FOLDERS:\");\n",
    "    foreach(string s in folders)\n",
    "    {\n",
    "        Console.WriteLine(s);\n",
    "    }\n",
    "    // Método com sobrecarga. (Caminho, Nome do Arquivo - no caso qualquer, Opção de Busca - no caso inclui subpastas)\n",
    "    var files = Directory.EnumerateFiles(path, \"*.*\", SearchOption.AllDirectories)\n",
    "    // Imprime o caminho do Folder  \n",
    "    Console.WriteLine(\"FILES:\");\n",
    "    foreach(string f in files)\n",
    "    {\n",
    "        Console.WriteLine(f);\n",
    "    }\n",
    "}\n",
    "catch (IOException e)\n",
    "{\n",
    "    Console.WriteLine($\"An error occurred {e.Message}\");\n",
    "}"
   ]
  },
  {
   "cell_type": "markdown",
   "metadata": {},
   "source": [
    "## Criar Pasta\n",
    "\n",
    "NewFolder a partir da MyFolder"
   ]
  },
  {
   "cell_type": "code",
   "execution_count": null,
   "metadata": {
    "vscode": {
     "languageId": "javascript"
    }
   },
   "outputs": [],
   "source": [
    "// Caminho para o Folder\n",
    "string path = @\"C:\\Users\\Public\\MyFolder\";\n",
    "\n",
    "try\n",
    "{ \n",
    "    Directory.CreateDirectory($@\"{path}\\newfolder\");\n",
    "}\n",
    "catch (IOException e)\n",
    "{\n",
    "    Console.WriteLine($\"An error occurred {e.Message}\");\n",
    "}"
   ]
  }
 ],
 "metadata": {
  "kernelspec": {
   "display_name": "Python 3.10.4 64-bit",
   "language": "python",
   "name": "python3"
  },
  "language_info": {
   "name": "python",
   "version": "3.10.4"
  },
  "orig_nbformat": 4,
  "vscode": {
   "interpreter": {
    "hash": "aee8b7b246df8f9039afb4144a1f6fd8d2ca17a180786b69acc140d282b71a49"
   }
  }
 },
 "nbformat": 4,
 "nbformat_minor": 2
}
