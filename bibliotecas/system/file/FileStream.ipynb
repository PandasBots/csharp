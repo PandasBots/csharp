{
 "cells": [
  {
   "cell_type": "markdown",
   "metadata": {},
   "source": [
    "# # FileStream\n",
    "\n",
    "* Ref.: https://learn.microsoft.com/pt-br/dotnet/api/system.io.filestream?view=net-6.0\n",
    "\n",
    "* Disponibiliza um stream associado a um arquivo permitindo leitura e escrita.\n",
    "\n",
    "* Suporte a dados binários.\n",
    "\n",
    "# # StreamReader\n",
    "\n",
    "* Ref.: https://learn.microsoft.com/pt-br/dotnet/api/system.io.streamreader?view=net-6.0\n",
    "\n",
    "* É uma stream (sequência de dados) capaz de ler caracteres a partir de uma stream binária, como o FileSream.\n",
    "\n",
    "* Suporte a dados no formato texto.\n",
    "\n",
    "---"
   ]
  },
  {
   "cell_type": "markdown",
   "metadata": {},
   "source": [
    "## Abertura/Leitura de Arquivo\n",
    "\n",
    "Instanciar o FileStream e o StreamReader é a forma mais moderna e segura de tratar arquivos. Porém há uma forma mais resumida com open text.\n",
    "\n",
    "Também é possível usar Using Block para deixar o código menos verboso."
   ]
  },
  {
   "cell_type": "markdown",
   "metadata": {},
   "source": [
    "### Método 1: Using Block + FileStream/StreamReader (Recomendável)"
   ]
  },
  {
   "cell_type": "code",
   "execution_count": null,
   "metadata": {
    "vscode": {
     "languageId": "javascript"
    }
   },
   "outputs": [],
   "source": [
    "string path = @\"C:\\Users\\Public\\Documents\\file1.txt\";\n",
    "\n",
    "try\n",
    "{\n",
    "    using(FileStream fs = new FileStream(path, FileMode.Open)){\n",
    "        using(StreamReader sr = new StreamReader(fs)){      \n",
    "            while(!sr.EndOfStream){\n",
    "                string line = sr.ReadLine(); \n",
    "                Console.WriteLine(line);\n",
    "            }\n",
    "        }\n",
    "    }\n",
    "}\n",
    "catch(Exception e)\n",
    "{\n",
    "    Console.WriteLine(e.Message);\n",
    "}"
   ]
  },
  {
   "cell_type": "markdown",
   "metadata": {},
   "source": [
    "### Método 2: FileStream/StreamReader"
   ]
  },
  {
   "cell_type": "code",
   "execution_count": null,
   "metadata": {
    "vscode": {
     "languageId": "javascript"
    }
   },
   "outputs": [],
   "source": [
    "using System.IO;\n",
    "\n",
    "// Caminho para o arquivo de texto\n",
    "string path = @\"C:\\Users\\Public\\Documents\\file1.txt\";\n",
    "StreamReader sr = null;\n",
    "FileStream fs = null;\n",
    "\n",
    "try\n",
    "{\n",
    "    // Instancia para abrir o arquivo. (caminho do arquivo, modo como instanciar o arquivo: Open para abrir, Read para ler.)\n",
    "    fs = new FileStream(path, FileMode.Open, FileAccess.Read);\n",
    "    // Instancia o StreamReader para ler o arquivo\n",
    "    sr = new StreamReader(fs);\n",
    "    // Lê o arquivo inteiro. Enquanto não chego no final da stream.\n",
    "    while (!sr.EndOfStream)\n",
    "    {\n",
    "        string line = sr.ReadLine();    \n",
    "        Console.WriteLine(line);\n",
    "    }\n",
    "}\n",
    "catch (IOEXception e)\n",
    "{\n",
    "    Console.WriteLine($\"An error occurred {e.message}\");\n",
    "}\n",
    "// Fechar a stream caso ainda esteja aberto.\n",
    "finally\n",
    "{\n",
    "    if(sr != null) sr.Close();\n",
    "    if(fs != null) fs.Close();\n",
    "}\n"
   ]
  },
  {
   "cell_type": "markdown",
   "metadata": {},
   "source": [
    "### Método 3: Using Block + OpenText"
   ]
  },
  {
   "cell_type": "code",
   "execution_count": null,
   "metadata": {
    "vscode": {
     "languageId": "javascript"
    }
   },
   "outputs": [],
   "source": [
    "string path = @\"C:\\Users\\Public\\Documents\\file1.txt\";\n",
    "\n",
    "try\n",
    "{\n",
    "    using(StreamReader sr = File.OpenText(path)){\n",
    "        while(!sr.EndOfStream){\n",
    "            string line = sr.ReadLine(); \n",
    "            Console.WriteLine(line);\n",
    "        }\n",
    "    }\n",
    "}\n",
    "catch(Exception e)\n",
    "{\n",
    "    Console.WriteLine(e.Message);\n",
    "}"
   ]
  },
  {
   "cell_type": "markdown",
   "metadata": {},
   "source": [
    "### Método 4: OpenText"
   ]
  },
  {
   "cell_type": "code",
   "execution_count": null,
   "metadata": {
    "vscode": {
     "languageId": "javascript"
    }
   },
   "outputs": [],
   "source": [
    "using System.IO;\n",
    "\n",
    "// Caminho para o arquivo de texto\n",
    "string path = @\"C:\\Users\\Public\\Documents\\file1.txt\";\n",
    "StreamReader sr = null;\n",
    "try\n",
    "{\n",
    "    // Instancia o StreamReader para ler o arquivo\n",
    "    sr = File.OpenText(path);\n",
    "    // Lê o arquivo inteiro. Enquanto não chego no final da stream.\n",
    "    while (!sr.EndOfStream)\n",
    "    {\n",
    "        string line = sr.ReadLine();    \n",
    "        Console.WriteLine(line);\n",
    "    }\n",
    "}\n",
    "catch (IOEXception e)\n",
    "{\n",
    "    Console.WriteLine($\"An error occurred {e.message}\");\n",
    "}\n",
    "// Fechar a stream caso ainda esteja aberto.\n",
    "finally\n",
    "{\n",
    "    if(sr != null) sr.Close();\n",
    "}"
   ]
  }
 ],
 "metadata": {
  "kernelspec": {
   "display_name": "Python 3.10.4 64-bit",
   "language": "python",
   "name": "python3"
  },
  "language_info": {
   "name": "python",
   "version": "3.10.4"
  },
  "orig_nbformat": 4,
  "vscode": {
   "interpreter": {
    "hash": "aee8b7b246df8f9039afb4144a1f6fd8d2ca17a180786b69acc140d282b71a49"
   }
  }
 },
 "nbformat": 4,
 "nbformat_minor": 2
}
