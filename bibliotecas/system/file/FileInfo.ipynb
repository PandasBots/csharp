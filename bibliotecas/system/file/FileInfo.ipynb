{
 "cells": [
  {
   "cell_type": "markdown",
   "metadata": {},
   "source": [
    "# # File & FileInfo\n",
    "\n",
    "* Ref.: https://learn.microsoft.com/pt-br/dotnet/api/system.io.fileinfo?view=net-6.0\n",
    "\n",
    "* Realiza operações com arquivos (create, copy, delete, move, open, etc..) e ajuda na criação de objetos FileStream.\n",
    "\n",
    "* File: Usado em operações menores. Progamas simples. Performance menor.\n",
    "* FileInfo: Em operações com arquivos maiores. Mais operações e melhor performance.\n"
   ]
  },
  {
   "cell_type": "markdown",
   "metadata": {},
   "source": [
    "## Copiar arquivo"
   ]
  },
  {
   "cell_type": "code",
   "execution_count": null,
   "metadata": {
    "vscode": {
     "languageId": "javascript"
    }
   },
   "outputs": [],
   "source": [
    "using FileSystem.\n",
    "\n",
    "string sourcePath = @\"C:\\Users\\Public\\TestFolder\\SubDir\\file.txt\";\n",
    "string targetPath = @\"C:\\Users\\Public\\TestFolder\\SubDir\\file2.txt\";\n",
    "\n",
    "try\n",
    "{\n",
    "    // Instancia um objeto fileInfo\n",
    "    FileInfo fi = new FileInfo(sourcePath);\n",
    "    // Copia para o outro arquivo\n",
    "    fi.CopyTo(targetPath);\n",
    "\n",
    "}\n",
    "catch(IOException e)   \n",
    "{\n",
    "    Console.WriteLine(\"Erro ao copiar o arquivo\");\n",
    "    Console.WriteLine(e.Message);\n",
    "    \n",
    "}\n"
   ]
  },
  {
   "cell_type": "markdown",
   "metadata": {},
   "source": [
    "## Leitura de um arquivo"
   ]
  },
  {
   "cell_type": "code",
   "execution_count": null,
   "metadata": {
    "vscode": {
     "languageId": "javascript"
    }
   },
   "outputs": [],
   "source": [
    "using FileSystem.\n",
    "\n",
    "string sourcePath = @\"C:\\Users\\Public\\TestFolder\\SubDir\\file.txt\";\n",
    "string targetPath = @\"C:\\Users\\Public\\TestFolder\\SubDir\\file2.txt\";\n",
    "\n",
    "try\n",
    "{\n",
    "    // Lê um arquivo e armazena num vetor.\n",
    "    string[] lines = File.ReadAllLines(sourcePath);\n",
    "    foreach(string line in lines)\n",
    "    {\n",
    "        Console.WriteLine(line);\n",
    "    }\n",
    "\n",
    "}\n",
    "catch(IOException e)   \n",
    "{\n",
    "    Console.WriteLine(\"Erro ao copiar o arquivo\");\n",
    "    Console.WriteLine(e.Message);\n",
    "}\n"
   ]
  }
 ],
 "metadata": {
  "kernelspec": {
   "display_name": "Python 3.10.4 64-bit",
   "language": "python",
   "name": "python3"
  },
  "language_info": {
   "name": "python",
   "version": "3.10.4"
  },
  "orig_nbformat": 4,
  "vscode": {
   "interpreter": {
    "hash": "aee8b7b246df8f9039afb4144a1f6fd8d2ca17a180786b69acc140d282b71a49"
   }
  }
 },
 "nbformat": 4,
 "nbformat_minor": 2
}
