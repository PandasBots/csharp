{
 "cells": [
  {
   "cell_type": "markdown",
   "metadata": {},
   "source": [
    "# # Try & Catch\n",
    "\n",
    "* Ref.: https://learn.microsoft.com/pt-br/dotnet/csharp/language-reference/keywords/try-catch\n",
    "\n",
    "* Bloco Try: Contém o código a ser executado e que **pode** conter um erro.\n",
    "* Bloco Catch: Contém o código a ser executado caso uma exceção ocorra."
   ]
  },
  {
   "cell_type": "markdown",
   "metadata": {},
   "source": [
    "## Estrutura básica"
   ]
  },
  {
   "cell_type": "code",
   "execution_count": null,
   "metadata": {
    "vscode": {
     "languageId": "javascript"
    }
   },
   "outputs": [],
   "source": [
    "try\n",
    "{    \n",
    "}\n",
    "catch (Exception e)\n",
    "{\n",
    "    Console.WriteLine(e.Message); // Exception message\n",
    "}\n",
    "catch (Exception e) when(e.Message == \"foo\")\n",
    "{\n",
    "}\n",
    "// Sempre tente colocar o tipo mais específico de exceção.\n",
    "catch (DivideByZeroException e)\n",
    "{\n",
    "    Console.WriteLine(\"Division by Zero Not Allowed\"); // Exception message  \n",
    "}"
   ]
  },
  {
   "cell_type": "markdown",
   "metadata": {},
   "source": [
    "## Finally\n",
    "\n",
    "* Bloco a ser executado independente se ocorrer ou não o erro.\n",
    "\n",
    "* Muito útil para fechar arquivo e conexão com banco de dados."
   ]
  },
  {
   "cell_type": "code",
   "execution_count": null,
   "metadata": {
    "vscode": {
     "languageId": "javascript"
    }
   },
   "outputs": [],
   "source": [
    "using System;\n",
    "using System.IO;\n",
    "\n",
    "public class ProcessFile \n",
    "{\n",
    "    public static void Main() \n",
    "    {\n",
    "        FileStream fs = null;\n",
    "        try \n",
    "        {\n",
    "            fs = new FileStream(@\"C:\\temp\\data.txt\", FileMode.Open);\n",
    "            StreamReader sr = new StreamReader(fs);\n",
    "            string line = sr.ReadLine();\n",
    "            Console.WriteLine(line);\n",
    "        }\n",
    "        catch (FileNotFoundException e) \n",
    "        {\n",
    "            Console.WriteLine(e.Message);\n",
    "        }\n",
    "        finally \n",
    "        {\n",
    "            if (fs != null) \n",
    "            {\n",
    "                fs.Close();\n",
    "            }\n",
    "        }\n",
    "    }\n",
    "}"
   ]
  },
  {
   "cell_type": "markdown",
   "metadata": {},
   "source": [
    "# # Exceções Personalizadas\n",
    "\n",
    "* Criar uma pasta Exceptions dentro da pasta Entities. Depois, criar uma classe com o nome da exceção, por exemplo, DomainException para tratar questões de domínio."
   ]
  },
  {
   "cell_type": "code",
   "execution_count": null,
   "metadata": {
    "vscode": {
     "languageId": "javascript"
    }
   },
   "outputs": [],
   "source": [
    "class DomainException : ApplicationException\n",
    "{\n",
    "    public DomainException(string message) : base(message)\n",
    "    {\n",
    "    }\n",
    "}\n",
    "\n",
    "// Caso a exceção ocorra, devemos lançar. Por exemplo:\n",
    "throw new DomainException(\"Error in business logic\");   "
   ]
  }
 ],
 "metadata": {
  "kernelspec": {
   "display_name": "Python 3.10.4 64-bit",
   "language": "python",
   "name": "python3"
  },
  "language_info": {
   "name": "python",
   "version": "3.10.4"
  },
  "orig_nbformat": 4,
  "vscode": {
   "interpreter": {
    "hash": "aee8b7b246df8f9039afb4144a1f6fd8d2ca17a180786b69acc140d282b71a49"
   }
  }
 },
 "nbformat": 4,
 "nbformat_minor": 2
}
