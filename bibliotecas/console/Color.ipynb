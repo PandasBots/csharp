{
 "cells": [
  {
   "cell_type": "markdown",
   "metadata": {},
   "source": [
    "# Console.ForegroundColor\n",
    "\n",
    "* Ref.: https://learn.microsoft.com/pt-br/dotnet/api/system.console.foregroundcolor?view=net-6.0\n",
    "\n",
    "Classe que modifica a cor do background no console.\n"
   ]
  },
  {
   "cell_type": "markdown",
   "metadata": {},
   "source": [
    "## Exemplo Básico"
   ]
  },
  {
   "cell_type": "code",
   "execution_count": 2,
   "metadata": {
    "dotnet_interactive": {
     "language": "csharp"
    },
    "vscode": {
     "languageId": "dotnet-interactive.csharp"
    }
   },
   "outputs": [
    {
     "name": "stdout",
     "output_type": "stream",
     "text": [
      "Esta mensagem estará na cor amarela\n",
      "Esta mensagem estará na cor default do console"
     ]
    }
   ],
   "source": [
    "// Primeiro armazenamos a cor default do console\n",
    "ConsoleColor aux = Console.ForegroundColor;\n",
    "// Agora atribuimos a cor amarela ao console\n",
    "Console.ForegroundColor = ConsoleColor.Yellow;\n",
    "// Escrevemos a mensagem\n",
    "Console.Write($\"Esta mensagem estará na cor amarela\\n\");\n",
    "// Agora voltamos a cor default do console\n",
    "Console.ForegroundColor = aux;\n",
    "Console.Write($\"Esta mensagem estará na cor default do console\");\n"
   ]
  },
  {
   "cell_type": "code",
   "execution_count": null,
   "metadata": {
    "dotnet_interactive": {
     "language": "csharp"
    },
    "vscode": {
     "languageId": "dotnet-interactive.csharp"
    }
   },
   "outputs": [],
   "source": []
  }
 ],
 "metadata": {
  "kernelspec": {
   "display_name": ".NET (C#)",
   "language": "C#",
   "name": ".net-csharp"
  },
  "language_info": {
   "file_extension": ".cs",
   "mimetype": "text/x-csharp",
   "name": "C#",
   "pygments_lexer": "csharp",
   "version": "9.0"
  },
  "orig_nbformat": 4
 },
 "nbformat": 4,
 "nbformat_minor": 2
}
