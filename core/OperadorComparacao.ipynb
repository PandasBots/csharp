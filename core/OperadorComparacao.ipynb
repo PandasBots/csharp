{
 "cells": [
  {
   "cell_type": "markdown",
   "metadata": {},
   "source": [
    "# Operador de Comparação"
   ]
  },
  {
   "cell_type": "code",
   "execution_count": null,
   "metadata": {
    "dotnet_interactive": {
     "language": "csharp"
    },
    "vscode": {
     "languageId": "dotnet-interactive.csharp"
    }
   },
   "outputs": [
    {
     "name": "stdout",
     "output_type": "stream",
     "text": [
      "a = False, b = False, c = True, d = True, e = True, f = False\n"
     ]
    }
   ],
   "source": [
    "int x = 10;\n",
    "\n",
    "bool a = x > 10;    // greater than\n",
    "bool b = x < 10;    // less than\n",
    "bool c = x >= 10;   // greater than or equal to\n",
    "bool d = x <= 10;   // less than or equal to\n",
    "bool e = x == 10;   // equal to \n",
    "bool f = x != 10;   // not equal to \n",
    "\n",
    "Console.WriteLine($\"a = {a}, b = {b}, c = {c}, d = {d}, e = {e}, f = {f}\");\n"
   ]
  },
  {
   "cell_type": "code",
   "execution_count": null,
   "metadata": {
    "dotnet_interactive": {
     "language": "csharp"
    },
    "vscode": {
     "languageId": "dotnet-interactive.csharp"
    }
   },
   "outputs": [],
   "source": []
  }
 ],
 "metadata": {
  "kernelspec": {
   "display_name": ".NET (C#)",
   "language": "C#",
   "name": ".net-csharp"
  },
  "language_info": {
   "file_extension": ".cs",
   "mimetype": "text/x-csharp",
   "name": "C#",
   "pygments_lexer": "csharp",
   "version": "9.0"
  },
  "orig_nbformat": 4
 },
 "nbformat": 4,
 "nbformat_minor": 2
}
