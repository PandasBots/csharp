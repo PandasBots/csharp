{
 "cells": [
  {
   "cell_type": "markdown",
   "metadata": {},
   "source": [
    "# # Matrizes\n",
    "\n",
    "* Ref.: https://learn.microsoft.com/pt-br/dotnet/csharp/programming-guide/arrays/multidimensional-arrays\n",
    "\n",
    "* Assim como o vetor é um arranjo unidimensional, a matriz é um arranjo bi-dimensional.\n",
    "\n",
    "* Tem as mesmas características do vetor de ser homogênea, ordenada e precisar ter o tamanho fixo, declarado na sua inicialização.\n",
    "\n",
    "* Vantagens: Acesso imediato aos elementos.\n",
    "\n",
    "* Desvantagens: Mais lento e pouco flexível."
   ]
  },
  {
   "cell_type": "markdown",
   "metadata": {},
   "source": [
    "## # Inicialização"
   ]
  },
  {
   "cell_type": "code",
   "execution_count": null,
   "metadata": {
    "vscode": {
     "languageId": "javascript"
    }
   },
   "outputs": [],
   "source": [
    "// Matriz com 2 linhas e 3 colunas\n",
    "double[,] mat = new double[2, 3];"
   ]
  },
  {
   "cell_type": "markdown",
   "metadata": {},
   "source": [
    "## # Propriedades"
   ]
  },
  {
   "cell_type": "code",
   "execution_count": null,
   "metadata": {
    "vscode": {
     "languageId": "javascript"
    }
   },
   "outputs": [],
   "source": [
    "// Matrizes\n",
    "double[,] mat = new double[2, 3];\n",
    "\n",
    "Console.WriteLine(mat.Length); // Número de elementos. 6.\n",
    "Console.WriteLine(mat.Rank); // Número de dimensões. 2. \n",
    "Console.WriteLine(mat.GetLength(0)); // Número de linhas. 2.    \n",
    "Console.WriteLine(mat.GetLength(1)); // Número de colunas. 3.\n"
   ]
  }
 ],
 "metadata": {
  "language_info": {
   "name": "python"
  },
  "orig_nbformat": 4
 },
 "nbformat": 4,
 "nbformat_minor": 2
}
