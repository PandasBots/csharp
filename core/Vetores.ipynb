{
 "cells": [
  {
   "cell_type": "markdown",
   "metadata": {},
   "source": [
    "# # Vetores\n",
    "\n",
    "* São arranjos (arrays) unidimensionais.\n",
    "    * Homogêneo: Todos os elementos são do mesmo tipo.\n",
    "    * Ordenada: Cada elemento possui uma posição, que vai de 0 a ..\n",
    "    * Alocada de maneira contígua na memória.\n",
    "\n",
    "* Vantagens: \n",
    "    * Acesso de cada elemento é imediato, muito rápido.\n",
    "\n",
    "* Desvantagens:\n",
    "    * Tamanho fixo.\n",
    "    * Dificuldade para realizar inserções e remoções."
   ]
  },
  {
   "cell_type": "markdown",
   "metadata": {},
   "source": [
    "### Criando vetor de valores"
   ]
  },
  {
   "cell_type": "code",
   "execution_count": null,
   "metadata": {},
   "outputs": [],
   "source": [
    "// Cria um vetor de 3 elementos.\n",
    "\n",
    "int n = 3;\n",
    "\n",
    "double[] vect = new double[n];"
   ]
  },
  {
   "cell_type": "markdown",
   "metadata": {},
   "source": [
    "### Criando vetor de objetos de classe"
   ]
  },
  {
   "cell_type": "code",
   "execution_count": null,
   "metadata": {
    "vscode": {
     "languageId": "javascript"
    }
   },
   "outputs": [],
   "source": [
    "// Primeiro, instanciamos o vetor da classe Product\n",
    "// Neste momento o vetor aponta para 2 posições de memória nulas\n",
    "Product[] vect = new Product[2];   // vetor de 2 posições\n",
    "\n",
    "// Agora, vamos instanciar cada uma das posições do vetor   \n",
    "Product p1 = new Product{ Name = \"TV\", Price = 100.00 }; \n",
    "Product p2 = new Product{ Name = \"Notebook\", Price = 1200.00 }; \n",
    "\n",
    "// Agora, vamos atribuir cada uma das posições do vetor \n",
    "vect[0] = p1;   \n",
    "vect[1] = p2;   \n",
    "\n",
    "// Acessando o preço do primeiro elemento do vetor\n",
    "Console.WriteLine(vect[0].Price);"
   ]
  },
  {
   "cell_type": "markdown",
   "metadata": {},
   "source": []
  }
 ],
 "metadata": {
  "kernelspec": {
   "display_name": "Python 3.7.10",
   "language": "python",
   "name": "python3"
  },
  "language_info": {
   "codemirror_mode": {
    "name": "ipython",
    "version": 3
   },
   "file_extension": ".py",
   "mimetype": "text/x-python",
   "name": "python",
   "nbconvert_exporter": "python",
   "pygments_lexer": "ipython3",
   "version": "3.7.10"
  },
  "orig_nbformat": 4,
  "vscode": {
   "interpreter": {
    "hash": "62ac5eec3b562cd8e8a23a4367a248c2f76dc71f53045ec22c89109f963a6f1d"
   }
  }
 },
 "nbformat": 4,
 "nbformat_minor": 2
}
