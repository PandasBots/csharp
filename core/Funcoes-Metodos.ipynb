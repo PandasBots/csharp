{
 "cells": [
  {
   "cell_type": "markdown",
   "metadata": {},
   "source": [
    "# Funções (Métodos)\n",
    "\n",
    "* Representam um processamento com significado\n",
    "* Vantagem de reaproveitamento, modularização do código e otimização\n",
    "* Pode possuir inputs/outputs (parâmetros são inputs)\n",
    "* Em Orientação de Objetos a função se chama \"Método\""
   ]
  },
  {
   "cell_type": "markdown",
   "metadata": {},
   "source": [
    "## Função Simples\n",
    "\n",
    "Veja que as variáveis dentro de uma função possuem escopo local. Não podem ser acessadas variáveis de fora, nem vice-versa."
   ]
  },
  {
   "cell_type": "code",
   "execution_count": null,
   "metadata": {
    "dotnet_interactive": {
     "language": "csharp"
    },
    "vscode": {
     "languageId": "dotnet-interactive.csharp"
    }
   },
   "outputs": [],
   "source": [
    "// O termo static diz respeito a programação orientada a objetos\n",
    "// Em seguida, devemos colocar o tipo da saída da função\n",
    "// Em seguida vem o nome da função\n",
    "// Finalmente vem os dados de entrada da função, os parâmetros\n",
    "static int soma(int a, int b) {\n",
    "    return a + b;\n",
    "}"
   ]
  },
  {
   "cell_type": "code",
   "execution_count": null,
   "metadata": {
    "dotnet_interactive": {
     "language": "csharp"
    },
    "vscode": {
     "languageId": "dotnet-interactive.csharp"
    }
   },
   "outputs": [
    {
     "data": {
      "text/html": [
       "<div class=\"dni-plaintext\">25</div>"
      ]
     },
     "metadata": {},
     "output_type": "display_data"
    }
   ],
   "source": [
    "int x = soma(12, 13);\n",
    "x"
   ]
  },
  {
   "cell_type": "markdown",
   "metadata": {},
   "source": [
    "## VOID\n",
    "\n",
    "Função do tipo void significa que não irá retornar qualquer elemento."
   ]
  },
  {
   "cell_type": "markdown",
   "metadata": {},
   "source": []
  }
 ],
 "metadata": {
  "kernelspec": {
   "display_name": ".NET (C#)",
   "language": "C#",
   "name": ".net-csharp"
  },
  "language_info": {
   "file_extension": ".cs",
   "mimetype": "text/x-csharp",
   "name": "C#",
   "pygments_lexer": "csharp",
   "version": "9.0"
  },
  "orig_nbformat": 4
 },
 "nbformat": 4,
 "nbformat_minor": 2
}
