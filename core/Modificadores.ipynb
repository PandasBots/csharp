{
 "cells": [
  {
   "cell_type": "markdown",
   "metadata": {},
   "source": [
    "# # Params\n",
    "\n",
    "* Modificadores de parâmetros. Permite que a função tenha uma quantidade variável de parâmetros."
   ]
  },
  {
   "cell_type": "code",
   "execution_count": null,
   "metadata": {
    "vscode": {
     "languageId": "javascript"
    }
   },
   "outputs": [],
   "source": [
    "// Suponha a classe Calculadora, que soma os números que recebe.\n",
    "// Aqui temos sobrecarga no método Soma, podendo receber 2 ou 3 números.\n",
    "// Mas e se quisermos que o método Soma receba um número indeterminado de números?  \n",
    "\n",
    "class Calculadora{\n",
    "    public static int Soma(int n1, int n2){\n",
    "        return n1 + n2;\n",
    "    }\n",
    "    public static int Soma(int n1, int n2, int n3) {\n",
    "        return n1 + n2 + n3;\n",
    "    }\n",
    "\n",
    "}"
   ]
  },
  {
   "cell_type": "code",
   "execution_count": null,
   "metadata": {
    "vscode": {
     "languageId": "javascript"
    }
   },
   "outputs": [],
   "source": [
    "// Uma solução seria criar um método que receba um vetor de inteiros.\n",
    "class Calculadora{\n",
    "    public static int Soma(int[] numeros){\n",
    "        int soma = 0;\n",
    "        for(int i = 0; i < numeros.Length; i++){\n",
    "            soma += numeros[i];\n",
    "        }\n",
    "        return soma;\n",
    "    }\n",
    "}\n",
    "\n",
    "// Para chamar o método, precisamos criar um vetor e passá-lo como argumento.   \n",
    "int[] numeros = new int[] {1, 2, 3, 4, 5};  \n",
    "Console.WriteLine(Calculadora.Soma(numeros));"
   ]
  },
  {
   "cell_type": "code",
   "execution_count": null,
   "metadata": {
    "vscode": {
     "languageId": "javascript"
    }
   },
   "outputs": [],
   "source": [
    "// Usando params, podemos simplificar a chamada do método. Não precisamos mais instanciar um vetor.\n",
    "class Calculadora{\n",
    "    public static int Soma(params int[] numeros){\n",
    "        int soma = 0;\n",
    "        for(int i = 0; i < numeros.Length; i++){\n",
    "            soma += numeros[i];\n",
    "        }\n",
    "        return soma;\n",
    "    }\n",
    "}\n",
    "\n",
    "// Para chamar o método, precisamos criar um vetor e passá-lo como argumento.   \n",
    "Console.WriteLine(Calculadora.Soma(1, 2, 3, 4, 5));"
   ]
  }
 ],
 "metadata": {
  "kernelspec": {
   "display_name": "Python 3.10.4 64-bit",
   "language": "python",
   "name": "python3"
  },
  "language_info": {
   "name": "python",
   "version": "3.10.4"
  },
  "orig_nbformat": 4,
  "vscode": {
   "interpreter": {
    "hash": "aee8b7b246df8f9039afb4144a1f6fd8d2ca17a180786b69acc140d282b71a49"
   }
  }
 },
 "nbformat": 4,
 "nbformat_minor": 2
}
