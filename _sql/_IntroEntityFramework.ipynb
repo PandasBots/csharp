{
 "cells": [
  {
   "cell_type": "markdown",
   "metadata": {},
   "source": [
    "# # Entity Framework\n",
    "\n",
    "* Ref.: https://docs.microsoft.com/en-us/ef/\n",
    "\n",
    "* Providers: https://docs.microsoft.com/en-us/ef/core/providers/index\n",
    "\n",
    "* Por muitos anos a grande dificuldade de se criar sistemas orientados a objetos foi a comunicação com Bancos de Dados Relacionais. Paradigmas diferentes.\n",
    "\n",
    "* Ferramenta de implementação objeto-relacional do .NET.\n",
    "\n",
    "\n",
    "* Resultado de imagem para entity framework c# C# Entity framework is an Object Relational Mapping (ORM) framework that gives developers an automated way to store and access databases. The Entity Framework allows developers to work with data at a higher level of abstraction\n",
    "\n",
    "\n",
    "<div>\n",
    "<img src=\"_img/ef.png\" width=\"500\"/>\n",
    "</div>"
   ]
  },
  {
   "cell_type": "markdown",
   "metadata": {},
   "source": [
    "## Principais classes\n",
    "\n",
    "* DbContext: um objeto DbContext encapsula uma sessão com o banco de dados para um determinado modelo de dados (representado por DbSet's).\n",
    "    * É usado para consultar e salvar entidades no banco de dados\n",
    "    * Define quais entidades farão parte do modelo de dados do sistema\n",
    "    * Pode definir várias configurações\n",
    "    * É uma combinação dos padrões Unity of Work e Repository\n",
    "        * Unity of work: \"mantém uma lista de objetos afetados por uma transação e coordena a escrita de mudanças e trata possíveis problemas de concorrência\" - Martin Fowler.\n",
    "        * Repository: define um objeto capaz de realizar operações de acesso a dados (consultar, salvar, atualizar, deletar) para uma entidade.\n",
    "\n",
    "* DbSet<TEntity>: representa a coleção de entidades de um dado tipo emum contexto. Tipicamente corresponde a uma tabela do banco de dados."
   ]
  },
  {
   "cell_type": "markdown",
   "metadata": {},
   "source": []
  }
 ],
 "metadata": {
  "kernelspec": {
   "display_name": "Python 3.10.4 64-bit",
   "language": "python",
   "name": "python3"
  },
  "language_info": {
   "name": "python",
   "version": "3.10.4"
  },
  "orig_nbformat": 4,
  "vscode": {
   "interpreter": {
    "hash": "aee8b7b246df8f9039afb4144a1f6fd8d2ca17a180786b69acc140d282b71a49"
   }
  }
 },
 "nbformat": 4,
 "nbformat_minor": 2
}
