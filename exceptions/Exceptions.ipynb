{
 "cells": [
  {
   "cell_type": "markdown",
   "metadata": {},
   "source": [
    "# # Exceções\n",
    "\n",
    "* Ref.: https://learn.microsoft.com/pt-br/dotnet/csharp/fundamentals/exceptions/\n",
    "\n",
    "* Uma exceção é qualquer condição de erro ou comportamento inesperado de um programa em **execução**.\n",
    "\n",
    "* No .NET a exceção é um objeto da classe `System.Exception`.\n",
    "\n",
    "* Uma exceção é lançada (throw) até que seja tratada ou o programa seja encerrado.\n",
    "\n",
    "<div>\n",
    "<img src=\"img/except1.png\" width=\"500\"/>\n",
    "</div>"
   ]
  },
  {
   "cell_type": "markdown",
   "metadata": {},
   "source": [
    "## Exception\n",
    "\n",
    "* Tipo da linguagem c#.\n",
    "\n",
    "* SystemException: Exceções geradas pelas bibliotecas geradas pelo .NET.\n",
    "* ApplicationException: Exceções customizadas."
   ]
  },
  {
   "cell_type": "markdown",
   "metadata": {},
   "source": []
  }
 ],
 "metadata": {
  "kernelspec": {
   "display_name": "Python 3.10.4 64-bit",
   "language": "python",
   "name": "python3"
  },
  "language_info": {
   "name": "python",
   "version": "3.10.4"
  },
  "orig_nbformat": 4,
  "vscode": {
   "interpreter": {
    "hash": "aee8b7b246df8f9039afb4144a1f6fd8d2ca17a180786b69acc140d282b71a49"
   }
  }
 },
 "nbformat": 4,
 "nbformat_minor": 2
}
