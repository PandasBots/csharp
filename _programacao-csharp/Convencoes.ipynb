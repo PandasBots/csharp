{
 "cells": [
  {
   "cell_type": "markdown",
   "metadata": {},
   "source": [
    "# Convenção para Nomes de Variáveis\n",
    "\n",
    "* Não pode começar com dígito numério: 5slario. Se quiser use _: _5salario\n",
    "* Não usar acento: salário\n",
    "* Não usar espaços: salario do funcionario"
   ]
  },
  {
   "cell_type": "markdown",
   "metadata": {},
   "source": [
    "* Camel Case: lastName (Usado em parâmetros de métodos, variáveis dentro de métodos)\n",
    "\n",
    "* Pascal Case: LastName (namespaces, classes, properties e métodos)\n",
    "\n",
    "* Underline: _lastName (atributos internos da classe, ou seja, private)"
   ]
  },
  {
   "cell_type": "markdown",
   "metadata": {},
   "source": []
  }
 ],
 "metadata": {
  "kernelspec": {
   "display_name": ".NET (C#)",
   "language": "C#",
   "name": ".net-csharp"
  },
  "language_info": {
   "file_extension": ".cs",
   "mimetype": "text/x-csharp",
   "name": "C#",
   "pygments_lexer": "csharp",
   "version": "9.0"
  },
  "orig_nbformat": 4
 },
 "nbformat": 4,
 "nbformat_minor": 2
}
