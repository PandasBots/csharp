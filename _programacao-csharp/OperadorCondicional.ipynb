{
 "cells": [
  {
   "cell_type": "markdown",
   "metadata": {},
   "source": [
    "# Operador IF - ELSE\n",
    "\n",
    "<div>\n",
    "<img src=\"img/condicao.png\" width=\"500\"/>\n",
    "</div>"
   ]
  },
  {
   "cell_type": "markdown",
   "metadata": {},
   "source": [
    "### Atenção: Escopo\n",
    "\n",
    "A variável declarada dentro de um IF-ELSE não pode ser usada fora deste escopo."
   ]
  },
  {
   "cell_type": "code",
   "execution_count": null,
   "metadata": {
    "dotnet_interactive": {
     "language": "csharp"
    },
    "vscode": {
     "languageId": "dotnet-interactive.csharp"
    }
   },
   "outputs": [
    {
     "ename": "Error",
     "evalue": "(10,1): error CS0103: O nome \"z\" não existe no contexto atual",
     "output_type": "error",
     "traceback": [
      "(10,1): error CS0103: O nome \"z\" não existe no contexto atual"
     ]
    }
   ],
   "source": [
    "int x = 10;\n",
    "\n",
    "if (x == 10) {\n",
    "    double z = x*10;\n",
    "}\n",
    "else{\n",
    "    double z = x/10;\n",
    "}\n",
    "\n",
    "z"
   ]
  },
  {
   "cell_type": "code",
   "execution_count": null,
   "metadata": {
    "dotnet_interactive": {
     "language": "csharp"
    },
    "vscode": {
     "languageId": "dotnet-interactive.csharp"
    }
   },
   "outputs": [
    {
     "data": {
      "text/html": [
       "<div class=\"dni-plaintext\">100</div>"
      ]
     },
     "metadata": {},
     "output_type": "display_data"
    }
   ],
   "source": [
    "// Correção: Declarar a variável y antes das condições.\n",
    "int x = 10;\n",
    "\n",
    "double z = 0;   \n",
    "\n",
    "if (x == 10) {\n",
    "    z = x*10;\n",
    "}\n",
    "else{\n",
    "    z = x/10;\n",
    "}\n",
    "\n",
    "z"
   ]
  },
  {
   "cell_type": "code",
   "execution_count": null,
   "metadata": {
    "dotnet_interactive": {
     "language": "csharp"
    },
    "vscode": {
     "languageId": "dotnet-interactive.csharp"
    }
   },
   "outputs": [
    {
     "data": {
      "text/html": [
       "<div class=\"dni-plaintext\">0</div>"
      ]
     },
     "metadata": {},
     "output_type": "display_data"
    }
   ],
   "source": [
    "// Cuidado! Não declare novamente a variável dentro do laço. A declaração deve ser feita uma única vez!\n",
    "int x = 10;\n",
    "\n",
    "double q = 0;   \n",
    "\n",
    "if (x == 10) {\n",
    "    double q = x*10;\n",
    "}\n",
    "else{\n",
    "    double q = x/10;\n",
    "}\n",
    "\n",
    "q"
   ]
  },
  {
   "cell_type": "markdown",
   "metadata": {},
   "source": [
    "## Estrutura Condicional"
   ]
  },
  {
   "cell_type": "code",
   "execution_count": null,
   "metadata": {
    "dotnet_interactive": {
     "language": "csharp"
    },
    "vscode": {
     "languageId": "dotnet-interactive.csharp"
    }
   },
   "outputs": [
    {
     "name": "stdout",
     "output_type": "stream",
     "text": [
      "Bom Dia\n",
      "Bom Noite\n"
     ]
    }
   ],
   "source": [
    "// SIMPLES\n",
    "\n",
    "int x = 10;\n",
    "\n",
    "Console.WriteLine(\"Bom Dia\");\n",
    "\n",
    "if (x < 5){\n",
    "    Console.WriteLine(\"Boa Tarde\");\n",
    "}\n",
    "\n",
    "Console.WriteLine(\"Boa Noite\");"
   ]
  },
  {
   "cell_type": "code",
   "execution_count": null,
   "metadata": {
    "dotnet_interactive": {
     "language": "csharp"
    },
    "vscode": {
     "languageId": "dotnet-interactive.csharp"
    }
   },
   "outputs": [
    {
     "name": "stdout",
     "output_type": "stream",
     "text": [
      "Ímpar\n"
     ]
    }
   ],
   "source": [
    "// COMPOSTA\n",
    "\n",
    "int x = 11;\n",
    "\n",
    "if (x % 2 == 0){\n",
    "    Console.WriteLine(\"Par\");\n",
    "}\n",
    "else{\n",
    "    Console.WriteLine(\"Ímpar\");\n",
    "}\n"
   ]
  },
  {
   "cell_type": "code",
   "execution_count": null,
   "metadata": {
    "dotnet_interactive": {
     "language": "csharp"
    },
    "vscode": {
     "languageId": "dotnet-interactive.csharp"
    }
   },
   "outputs": [
    {
     "name": "stdout",
     "output_type": "stream",
     "text": [
      "Fora do Range [-inf a 11]\n"
     ]
    }
   ],
   "source": [
    "// ENCADEADA (NESTED)\n",
    "\n",
    "int x = 12;\n",
    "\n",
    "if (x < 5){\n",
    "    Console.WriteLine(\"Bom Dia\");\n",
    "}\n",
    "else if (x >= 5 && x < 8){\n",
    "    Console.WriteLine(\"Boa Tarde\");\n",
    "}\n",
    "else if (x >= 8 && x < 12){\n",
    "    Console.WriteLine(\"Boa Noite\");\n",
    "}\n",
    "else{\n",
    "    Console.WriteLine(\"Fora do Range [-inf a 11]\");\n",
    "}"
   ]
  }
 ],
 "metadata": {
  "kernelspec": {
   "display_name": ".NET (C#)",
   "language": "C#",
   "name": ".net-csharp"
  },
  "language_info": {
   "file_extension": ".cs",
   "mimetype": "text/x-csharp",
   "name": "C#",
   "pygments_lexer": "csharp",
   "version": "9.0"
  },
  "orig_nbformat": 4
 },
 "nbformat": 4,
 "nbformat_minor": 2
}
